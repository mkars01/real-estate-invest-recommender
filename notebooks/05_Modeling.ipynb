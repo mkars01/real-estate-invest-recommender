{
 "cells": [
  {
   "cell_type": "markdown",
   "id": "b5056026",
   "metadata": {},
   "source": [
    "# Tampa Real-Estate Recommender\n",
    "## Modeling\n",
    "TB Real Estate Corporation is a real estate investment firm in the Tampa Bay, Florida area.  The real estate market in the Tampa Bay area is very active.  Single family homes are selling quickly.  TB Real Estate Corporation needs to be able to assess the value of homes coming onto the market quickly and accurately so that they can beat the competition in making a competitive offer.   They need to be able to evaluate the listing price against the predicted sale price in order to identify properties that may be priced below market value and would make good investments.  \n",
    "<br>\n",
    "The objective of the Modeling is to evaluate different models and hyperparameters in order to identify a model that will provide the best prediction of sales price."
   ]
  },
  {
   "cell_type": "markdown",
   "id": "ae4a5930",
   "metadata": {},
   "source": [
    "# 1 Imports and File Locations<a id='1'></a>"
   ]
  },
  {
   "cell_type": "code",
   "execution_count": 1,
   "id": "db548441",
   "metadata": {},
   "outputs": [],
   "source": [
    "import pandas as pd\n",
    "import numpy as np\n",
    "import matplotlib.pyplot as plt\n",
    "import seaborn as sns\n",
    "import datetime as dt\n",
    "import category_encoders as ce\n",
    "from sklearn.model_selection import train_test_split\n",
    "from sklearn.preprocessing import StandardScaler\n",
    "from sklearn import tree, metrics\n",
    "from io import StringIO  \n",
    "from IPython.display import Image  \n",
    "import pydotplus"
   ]
  },
  {
   "cell_type": "code",
   "execution_count": 2,
   "id": "5f8ae9b2",
   "metadata": {},
   "outputs": [],
   "source": [
    "import warnings;   warnings.filterwarnings(\"ignore\")"
   ]
  },
  {
   "cell_type": "code",
   "execution_count": 3,
   "id": "4febaa22",
   "metadata": {},
   "outputs": [],
   "source": [
    "ext_data = '../data/external/'\n",
    "raw_data = '../data/raw/'\n",
    "interim_data = '../data/interim/'\n",
    "report_figures = '../reports/figures/'"
   ]
  },
  {
   "cell_type": "markdown",
   "id": "cc7cb75e",
   "metadata": {},
   "source": [
    "# 2 Read Train and Test data into dataframe<a id='2'></a>"
   ]
  },
  {
   "cell_type": "markdown",
   "id": "7227f644",
   "metadata": {},
   "source": [
    "The following features (independent variables) will be used to in order to predict the sales amount (S_AMT):\n",
    "- sales_date_epoch - date of sale as integer (number of days since Jan 1, 1970)\n",
    "- AGE - age of the home in years at the time of the sale\n",
    "- tBEDS - number of bedrooms\n",
    "- tBATHS - number of bathrooms\n",
    "- JUST - taxable value of home as calculated by the county property appraiser\n",
    "- HEAT_AR - heated area of home\n",
    "- ACREAGE - size of property in acres\n",
    "- LOC_* - location of property in the county"
   ]
  },
  {
   "cell_type": "code",
   "execution_count": 4,
   "id": "fb5acd9e",
   "metadata": {},
   "outputs": [],
   "source": [
    "X_train = pd.read_csv(interim_data + 'X_train.csv')\n",
    "X_test = pd.read_csv(interim_data + 'X_test.csv')\n",
    "y_train = pd.read_csv(interim_data + 'y_train.csv')\n",
    "y_test = pd.read_csv(interim_data + 'y_test.csv')\n",
    "X_train_scaled = pd.read_csv(interim_data + 'X_train_scaled.csv')\n",
    "X_test_scaled = pd.read_csv(interim_data + 'X_test_scaled.csv')"
   ]
  },
  {
   "cell_type": "code",
   "execution_count": 5,
   "id": "0647a4d9",
   "metadata": {},
   "outputs": [
    {
     "name": "stdout",
     "output_type": "stream",
     "text": [
      "Train: ((16704, 15), (16704, 1))\n",
      "Train (scaled): ((16704, 15), (16704, 1))\n",
      "Test: ((4177, 15), (4177, 1))\n",
      "Test (scaled): ((4177, 15), (4177, 1))\n"
     ]
    }
   ],
   "source": [
    "print(f'Train: {X_train.shape, y_train.shape}')\n",
    "print(f'Train (scaled): {X_train_scaled.shape, y_train.shape}')\n",
    "print(f'Test: {X_test.shape, y_test.shape}')\n",
    "print(f'Test (scaled): {X_test_scaled.shape, y_test.shape}')"
   ]
  },
  {
   "cell_type": "code",
   "execution_count": 6,
   "id": "f54a4f5b",
   "metadata": {},
   "outputs": [
    {
     "data": {
      "text/html": [
       "<div>\n",
       "<style scoped>\n",
       "    .dataframe tbody tr th:only-of-type {\n",
       "        vertical-align: middle;\n",
       "    }\n",
       "\n",
       "    .dataframe tbody tr th {\n",
       "        vertical-align: top;\n",
       "    }\n",
       "\n",
       "    .dataframe thead th {\n",
       "        text-align: right;\n",
       "    }\n",
       "</style>\n",
       "<table border=\"1\" class=\"dataframe\">\n",
       "  <thead>\n",
       "    <tr style=\"text-align: right;\">\n",
       "      <th></th>\n",
       "      <th>sales_date_epoch</th>\n",
       "      <th>AGE</th>\n",
       "      <th>tBEDS</th>\n",
       "      <th>tBATHS</th>\n",
       "      <th>JUST</th>\n",
       "      <th>HEAT_AR</th>\n",
       "      <th>ACREAGE</th>\n",
       "      <th>LOC_East_Bay</th>\n",
       "      <th>LOC_Eastern</th>\n",
       "      <th>LOC_Northeast</th>\n",
       "      <th>LOC_Northern</th>\n",
       "      <th>LOC_Northwest</th>\n",
       "      <th>LOC_South_Tampa</th>\n",
       "      <th>LOC_Southern</th>\n",
       "      <th>LOC_Tampa</th>\n",
       "    </tr>\n",
       "  </thead>\n",
       "  <tbody>\n",
       "    <tr>\n",
       "      <th>0</th>\n",
       "      <td>18869</td>\n",
       "      <td>20</td>\n",
       "      <td>4.0</td>\n",
       "      <td>2.0</td>\n",
       "      <td>290925.0</td>\n",
       "      <td>2156.0</td>\n",
       "      <td>0.198569</td>\n",
       "      <td>0</td>\n",
       "      <td>1</td>\n",
       "      <td>0</td>\n",
       "      <td>0</td>\n",
       "      <td>0</td>\n",
       "      <td>0</td>\n",
       "      <td>0</td>\n",
       "      <td>0</td>\n",
       "    </tr>\n",
       "    <tr>\n",
       "      <th>1</th>\n",
       "      <td>18961</td>\n",
       "      <td>17</td>\n",
       "      <td>3.0</td>\n",
       "      <td>2.0</td>\n",
       "      <td>481303.0</td>\n",
       "      <td>2801.0</td>\n",
       "      <td>0.139006</td>\n",
       "      <td>0</td>\n",
       "      <td>0</td>\n",
       "      <td>0</td>\n",
       "      <td>0</td>\n",
       "      <td>1</td>\n",
       "      <td>0</td>\n",
       "      <td>0</td>\n",
       "      <td>0</td>\n",
       "    </tr>\n",
       "    <tr>\n",
       "      <th>2</th>\n",
       "      <td>18982</td>\n",
       "      <td>2</td>\n",
       "      <td>3.0</td>\n",
       "      <td>2.0</td>\n",
       "      <td>225901.0</td>\n",
       "      <td>1451.0</td>\n",
       "      <td>0.163754</td>\n",
       "      <td>0</td>\n",
       "      <td>0</td>\n",
       "      <td>0</td>\n",
       "      <td>0</td>\n",
       "      <td>0</td>\n",
       "      <td>0</td>\n",
       "      <td>1</td>\n",
       "      <td>0</td>\n",
       "    </tr>\n",
       "    <tr>\n",
       "      <th>3</th>\n",
       "      <td>18860</td>\n",
       "      <td>64</td>\n",
       "      <td>4.0</td>\n",
       "      <td>2.5</td>\n",
       "      <td>280492.0</td>\n",
       "      <td>2324.0</td>\n",
       "      <td>0.291205</td>\n",
       "      <td>0</td>\n",
       "      <td>0</td>\n",
       "      <td>0</td>\n",
       "      <td>1</td>\n",
       "      <td>0</td>\n",
       "      <td>0</td>\n",
       "      <td>0</td>\n",
       "      <td>0</td>\n",
       "    </tr>\n",
       "    <tr>\n",
       "      <th>4</th>\n",
       "      <td>18858</td>\n",
       "      <td>17</td>\n",
       "      <td>5.0</td>\n",
       "      <td>3.5</td>\n",
       "      <td>400515.0</td>\n",
       "      <td>4188.0</td>\n",
       "      <td>0.172176</td>\n",
       "      <td>0</td>\n",
       "      <td>0</td>\n",
       "      <td>0</td>\n",
       "      <td>1</td>\n",
       "      <td>0</td>\n",
       "      <td>0</td>\n",
       "      <td>0</td>\n",
       "      <td>0</td>\n",
       "    </tr>\n",
       "  </tbody>\n",
       "</table>\n",
       "</div>"
      ],
      "text/plain": [
       "   sales_date_epoch  AGE  tBEDS  tBATHS      JUST  HEAT_AR   ACREAGE  \\\n",
       "0             18869   20    4.0     2.0  290925.0   2156.0  0.198569   \n",
       "1             18961   17    3.0     2.0  481303.0   2801.0  0.139006   \n",
       "2             18982    2    3.0     2.0  225901.0   1451.0  0.163754   \n",
       "3             18860   64    4.0     2.5  280492.0   2324.0  0.291205   \n",
       "4             18858   17    5.0     3.5  400515.0   4188.0  0.172176   \n",
       "\n",
       "   LOC_East_Bay  LOC_Eastern  LOC_Northeast  LOC_Northern  LOC_Northwest  \\\n",
       "0             0            1              0             0              0   \n",
       "1             0            0              0             0              1   \n",
       "2             0            0              0             0              0   \n",
       "3             0            0              0             1              0   \n",
       "4             0            0              0             1              0   \n",
       "\n",
       "   LOC_South_Tampa  LOC_Southern  LOC_Tampa  \n",
       "0                0             0          0  \n",
       "1                0             0          0  \n",
       "2                0             1          0  \n",
       "3                0             0          0  \n",
       "4                0             0          0  "
      ]
     },
     "execution_count": 6,
     "metadata": {},
     "output_type": "execute_result"
    }
   ],
   "source": [
    "X_train.head()"
   ]
  },
  {
   "cell_type": "code",
   "execution_count": 7,
   "id": "dd2ab761",
   "metadata": {},
   "outputs": [
    {
     "data": {
      "text/html": [
       "<div>\n",
       "<style scoped>\n",
       "    .dataframe tbody tr th:only-of-type {\n",
       "        vertical-align: middle;\n",
       "    }\n",
       "\n",
       "    .dataframe tbody tr th {\n",
       "        vertical-align: top;\n",
       "    }\n",
       "\n",
       "    .dataframe thead th {\n",
       "        text-align: right;\n",
       "    }\n",
       "</style>\n",
       "<table border=\"1\" class=\"dataframe\">\n",
       "  <thead>\n",
       "    <tr style=\"text-align: right;\">\n",
       "      <th></th>\n",
       "      <th>sales_date_epoch</th>\n",
       "      <th>AGE</th>\n",
       "      <th>tBEDS</th>\n",
       "      <th>tBATHS</th>\n",
       "      <th>JUST</th>\n",
       "      <th>HEAT_AR</th>\n",
       "      <th>ACREAGE</th>\n",
       "      <th>LOC_East_Bay</th>\n",
       "      <th>LOC_Eastern</th>\n",
       "      <th>LOC_Northeast</th>\n",
       "      <th>LOC_Northern</th>\n",
       "      <th>LOC_Northwest</th>\n",
       "      <th>LOC_South_Tampa</th>\n",
       "      <th>LOC_Southern</th>\n",
       "      <th>LOC_Tampa</th>\n",
       "    </tr>\n",
       "  </thead>\n",
       "  <tbody>\n",
       "    <tr>\n",
       "      <th>0</th>\n",
       "      <td>18877</td>\n",
       "      <td>17</td>\n",
       "      <td>3.0</td>\n",
       "      <td>2.0</td>\n",
       "      <td>218188.0</td>\n",
       "      <td>1574.0</td>\n",
       "      <td>0.105601</td>\n",
       "      <td>1</td>\n",
       "      <td>0</td>\n",
       "      <td>0</td>\n",
       "      <td>0</td>\n",
       "      <td>0</td>\n",
       "      <td>0</td>\n",
       "      <td>0</td>\n",
       "      <td>0</td>\n",
       "    </tr>\n",
       "    <tr>\n",
       "      <th>1</th>\n",
       "      <td>18922</td>\n",
       "      <td>6</td>\n",
       "      <td>4.0</td>\n",
       "      <td>2.0</td>\n",
       "      <td>260647.0</td>\n",
       "      <td>1852.0</td>\n",
       "      <td>0.180895</td>\n",
       "      <td>1</td>\n",
       "      <td>0</td>\n",
       "      <td>0</td>\n",
       "      <td>0</td>\n",
       "      <td>0</td>\n",
       "      <td>0</td>\n",
       "      <td>0</td>\n",
       "      <td>0</td>\n",
       "    </tr>\n",
       "    <tr>\n",
       "      <th>2</th>\n",
       "      <td>18934</td>\n",
       "      <td>64</td>\n",
       "      <td>3.0</td>\n",
       "      <td>2.5</td>\n",
       "      <td>357739.0</td>\n",
       "      <td>2176.0</td>\n",
       "      <td>0.196568</td>\n",
       "      <td>0</td>\n",
       "      <td>0</td>\n",
       "      <td>0</td>\n",
       "      <td>0</td>\n",
       "      <td>0</td>\n",
       "      <td>0</td>\n",
       "      <td>0</td>\n",
       "      <td>1</td>\n",
       "    </tr>\n",
       "    <tr>\n",
       "      <th>3</th>\n",
       "      <td>18799</td>\n",
       "      <td>4</td>\n",
       "      <td>4.0</td>\n",
       "      <td>3.0</td>\n",
       "      <td>450679.0</td>\n",
       "      <td>2356.0</td>\n",
       "      <td>0.117313</td>\n",
       "      <td>0</td>\n",
       "      <td>0</td>\n",
       "      <td>0</td>\n",
       "      <td>0</td>\n",
       "      <td>0</td>\n",
       "      <td>1</td>\n",
       "      <td>0</td>\n",
       "      <td>0</td>\n",
       "    </tr>\n",
       "    <tr>\n",
       "      <th>4</th>\n",
       "      <td>18849</td>\n",
       "      <td>82</td>\n",
       "      <td>3.0</td>\n",
       "      <td>3.0</td>\n",
       "      <td>470851.0</td>\n",
       "      <td>1963.0</td>\n",
       "      <td>0.263387</td>\n",
       "      <td>0</td>\n",
       "      <td>0</td>\n",
       "      <td>0</td>\n",
       "      <td>0</td>\n",
       "      <td>0</td>\n",
       "      <td>0</td>\n",
       "      <td>0</td>\n",
       "      <td>1</td>\n",
       "    </tr>\n",
       "  </tbody>\n",
       "</table>\n",
       "</div>"
      ],
      "text/plain": [
       "   sales_date_epoch  AGE  tBEDS  tBATHS      JUST  HEAT_AR   ACREAGE  \\\n",
       "0             18877   17    3.0     2.0  218188.0   1574.0  0.105601   \n",
       "1             18922    6    4.0     2.0  260647.0   1852.0  0.180895   \n",
       "2             18934   64    3.0     2.5  357739.0   2176.0  0.196568   \n",
       "3             18799    4    4.0     3.0  450679.0   2356.0  0.117313   \n",
       "4             18849   82    3.0     3.0  470851.0   1963.0  0.263387   \n",
       "\n",
       "   LOC_East_Bay  LOC_Eastern  LOC_Northeast  LOC_Northern  LOC_Northwest  \\\n",
       "0             1            0              0             0              0   \n",
       "1             1            0              0             0              0   \n",
       "2             0            0              0             0              0   \n",
       "3             0            0              0             0              0   \n",
       "4             0            0              0             0              0   \n",
       "\n",
       "   LOC_South_Tampa  LOC_Southern  LOC_Tampa  \n",
       "0                0             0          0  \n",
       "1                0             0          0  \n",
       "2                0             0          1  \n",
       "3                1             0          0  \n",
       "4                0             0          1  "
      ]
     },
     "execution_count": 7,
     "metadata": {},
     "output_type": "execute_result"
    }
   ],
   "source": [
    "X_test.head()"
   ]
  },
  {
   "cell_type": "code",
   "execution_count": 8,
   "id": "85d9f469",
   "metadata": {},
   "outputs": [
    {
     "data": {
      "text/html": [
       "<div>\n",
       "<style scoped>\n",
       "    .dataframe tbody tr th:only-of-type {\n",
       "        vertical-align: middle;\n",
       "    }\n",
       "\n",
       "    .dataframe tbody tr th {\n",
       "        vertical-align: top;\n",
       "    }\n",
       "\n",
       "    .dataframe thead th {\n",
       "        text-align: right;\n",
       "    }\n",
       "</style>\n",
       "<table border=\"1\" class=\"dataframe\">\n",
       "  <thead>\n",
       "    <tr style=\"text-align: right;\">\n",
       "      <th></th>\n",
       "      <th>S_AMT</th>\n",
       "    </tr>\n",
       "  </thead>\n",
       "  <tbody>\n",
       "    <tr>\n",
       "      <th>0</th>\n",
       "      <td>363500.0</td>\n",
       "    </tr>\n",
       "    <tr>\n",
       "      <th>1</th>\n",
       "      <td>680000.0</td>\n",
       "    </tr>\n",
       "    <tr>\n",
       "      <th>2</th>\n",
       "      <td>301000.0</td>\n",
       "    </tr>\n",
       "    <tr>\n",
       "      <th>3</th>\n",
       "      <td>395000.0</td>\n",
       "    </tr>\n",
       "    <tr>\n",
       "      <th>4</th>\n",
       "      <td>590000.0</td>\n",
       "    </tr>\n",
       "  </tbody>\n",
       "</table>\n",
       "</div>"
      ],
      "text/plain": [
       "      S_AMT\n",
       "0  363500.0\n",
       "1  680000.0\n",
       "2  301000.0\n",
       "3  395000.0\n",
       "4  590000.0"
      ]
     },
     "execution_count": 8,
     "metadata": {},
     "output_type": "execute_result"
    }
   ],
   "source": [
    "y_train.head()"
   ]
  },
  {
   "cell_type": "code",
   "execution_count": 9,
   "id": "ee154de9",
   "metadata": {},
   "outputs": [
    {
     "data": {
      "text/html": [
       "<div>\n",
       "<style scoped>\n",
       "    .dataframe tbody tr th:only-of-type {\n",
       "        vertical-align: middle;\n",
       "    }\n",
       "\n",
       "    .dataframe tbody tr th {\n",
       "        vertical-align: top;\n",
       "    }\n",
       "\n",
       "    .dataframe thead th {\n",
       "        text-align: right;\n",
       "    }\n",
       "</style>\n",
       "<table border=\"1\" class=\"dataframe\">\n",
       "  <thead>\n",
       "    <tr style=\"text-align: right;\">\n",
       "      <th></th>\n",
       "      <th>S_AMT</th>\n",
       "    </tr>\n",
       "  </thead>\n",
       "  <tbody>\n",
       "    <tr>\n",
       "      <th>0</th>\n",
       "      <td>265000.0</td>\n",
       "    </tr>\n",
       "    <tr>\n",
       "      <th>1</th>\n",
       "      <td>323000.0</td>\n",
       "    </tr>\n",
       "    <tr>\n",
       "      <th>2</th>\n",
       "      <td>345000.0</td>\n",
       "    </tr>\n",
       "    <tr>\n",
       "      <th>3</th>\n",
       "      <td>536000.0</td>\n",
       "    </tr>\n",
       "    <tr>\n",
       "      <th>4</th>\n",
       "      <td>529900.0</td>\n",
       "    </tr>\n",
       "  </tbody>\n",
       "</table>\n",
       "</div>"
      ],
      "text/plain": [
       "      S_AMT\n",
       "0  265000.0\n",
       "1  323000.0\n",
       "2  345000.0\n",
       "3  536000.0\n",
       "4  529900.0"
      ]
     },
     "execution_count": 9,
     "metadata": {},
     "output_type": "execute_result"
    }
   ],
   "source": [
    "y_test.head()"
   ]
  },
  {
   "cell_type": "code",
   "execution_count": 40,
   "id": "e41f7fa0",
   "metadata": {},
   "outputs": [
    {
     "data": {
      "text/plain": [
       "389055.3289032567"
      ]
     },
     "execution_count": 40,
     "metadata": {},
     "output_type": "execute_result"
    }
   ],
   "source": [
    "y_train.S_AMT.mean()"
   ]
  },
  {
   "cell_type": "markdown",
   "id": "7b501640",
   "metadata": {},
   "source": [
    "# 3 Evaluate Models<a id='3'></a>"
   ]
  },
  {
   "cell_type": "markdown",
   "id": "9294fe32",
   "metadata": {},
   "source": [
    "The objective is to predict the sales price which is a continuous variable.  Therefore, the following regression models will be evaluated in order to determine the best model for predicting the sales price.\n",
    "- K Nearest Neighbors Regressor\n",
    "- Decision Tree Regressor\n",
    "- Random Forest Regressor\n",
    "- Linear Regression\n",
    "- XGBoost Regressor\n",
    "\n",
    "In order to optimize the hyper parameters, Randomized Search with 5-fold Cross-Validation will be used.  Randomized Search was chosen over Grid Search in order to reduce processing due to the size of the data.\n",
    "\n",
    "The R^2 score will be used to determine the best hyper parameters.  This score along with the MSE and RMSE will be used to compare the models."
   ]
  },
  {
   "cell_type": "code",
   "execution_count": 10,
   "id": "2db9df0a",
   "metadata": {},
   "outputs": [],
   "source": [
    "import math\n",
    "from sklearn.model_selection import RandomizedSearchCV\n",
    "from sklearn.metrics import mean_squared_error \n",
    "from sklearn.neighbors import KNeighborsRegressor\n",
    "from sklearn.tree import DecisionTreeRegressor\n",
    "from sklearn.ensemble import RandomForestRegressor\n",
    "from sklearn.linear_model import LinearRegression\n",
    "from xgboost import XGBRegressor"
   ]
  },
  {
   "cell_type": "code",
   "execution_count": 11,
   "id": "21d393ba",
   "metadata": {},
   "outputs": [],
   "source": [
    "# Define DataFrame to store results\n",
    "res_df = pd.DataFrame({'Model': pd.Series(dtype='str'),\n",
    "                   'Parms': pd.Series(dtype='str'),\n",
    "                   'R2_Train': pd.Series(dtype='float'),\n",
    "                   'R2_Test': pd.Series(dtype='float'), \n",
    "                   'RMSE': pd.Series(dtype='float')})"
   ]
  },
  {
   "cell_type": "markdown",
   "id": "66e63d3f",
   "metadata": {},
   "source": [
    "### Model Tuning and Evaluation"
   ]
  },
  {
   "cell_type": "code",
   "execution_count": 12,
   "id": "78f5b829",
   "metadata": {},
   "outputs": [],
   "source": [
    "def model_tune(model_id, model, param_dist):\n",
    "    # Instantiate the RandomizedSearchCV object: model_cv\n",
    "    model_cv = RandomizedSearchCV(model, param_dist, cv=5)\n",
    "\n",
    "    # Fit it to the data\n",
    "    model_cv.fit(X_train_scaled, y_train.values.ravel())\n",
    "\n",
    "    # Print the tuned parameters and score\n",
    "    print(\"Model: {}\".format(model_id))\n",
    "    print(\"Tuned Hyper Parameters: {}\".format(model_cv.best_params_))\n",
    "    print(\"Best R^2 score is {}\".format(model_cv.best_score_))\n",
    "    \n",
    "    # Fit model with optimal hyper parameters\n",
    "    model.set_params(**model_cv.best_params_)\n",
    "    model.fit(X_train_scaled, y_train.values.ravel())\n",
    "    r2_train = model.score(X_train_scaled, y_train)\n",
    "    r2_test = model.score(X_test_scaled, y_test)\n",
    "    print(f\"R^2 Train Score: {r2_train}\")\n",
    "    print(f\"R^2 Test Score: {r2_test}\")\n",
    "    \n",
    "    # Calculate Root Mean Squared Error\n",
    "    y_pred = model.predict(X_test_scaled)\n",
    "    mse = mean_squared_error(y_test, y_pred)\n",
    "    rmse = math.sqrt(mse)\n",
    "    print(\"Mean Squared Error:\",mse)\n",
    "    print(\"Root Mean Squared Error:\", rmse)\n",
    "    \n",
    "    # Plot Results\n",
    "    x_ax=range(y_test.shape[0])\n",
    "    plt.scatter(x_ax, y_test, s=5, color=\"blue\", label=\"original\")\n",
    "    plt.plot(x_ax, y_pred, lw=1.5, color=\"red\", label=\"predicted\")\n",
    "    plt.legend()\n",
    "    plt.show()\n",
    "    \n",
    "    # Append results to DataFrame\n",
    "    res = pd.DataFrame([[model_id, model_cv.best_params_, r2_train, r2_test, rmse]], \n",
    "                      columns=['Model', 'Parms', 'R2_Train', 'R2_Test', 'RMSE'])\n",
    "    return res"
   ]
  },
  {
   "cell_type": "markdown",
   "id": "2b064e63",
   "metadata": {},
   "source": [
    "### K Nearest Neighbor Regressor"
   ]
  },
  {
   "cell_type": "code",
   "execution_count": 13,
   "id": "cdee1621",
   "metadata": {},
   "outputs": [
    {
     "name": "stdout",
     "output_type": "stream",
     "text": [
      "Model: KNN\n",
      "Tuned Hyper Parameters: {'weights': 'distance', 'n_neighbors': 11}\n",
      "Best R^2 score is 0.8684893428319151\n",
      "R^2 Train Score: 0.9999688442804299\n",
      "R^2 Test Score: 0.8805930488164766\n",
      "Mean Squared Error: 4428128657.696336\n",
      "Root Mean Squared Error: 66544.18575425155\n"
     ]
    },
    {
     "data": {
      "image/png": "[encoded data removed]",
      "text/plain": [
       "<Figure size 432x288 with 1 Axes>"
      ]
     },
     "metadata": {
      "needs_background": "light"
     },
     "output_type": "display_data"
    },
    {
     "data": {
      "text/html": [
       "<div>\n",
       "<style scoped>\n",
       "    .dataframe tbody tr th:only-of-type {\n",
       "        vertical-align: middle;\n",
       "    }\n",
       "\n",
       "    .dataframe tbody tr th {\n",
       "        vertical-align: top;\n",
       "    }\n",
       "\n",
       "    .dataframe thead th {\n",
       "        text-align: right;\n",
       "    }\n",
       "</style>\n",
       "<table border=\"1\" class=\"dataframe\">\n",
       "  <thead>\n",
       "    <tr style=\"text-align: right;\">\n",
       "      <th></th>\n",
       "      <th>Model</th>\n",
       "      <th>Parms</th>\n",
       "      <th>R2_Train</th>\n",
       "      <th>R2_Test</th>\n",
       "      <th>RMSE</th>\n",
       "    </tr>\n",
       "  </thead>\n",
       "  <tbody>\n",
       "    <tr>\n",
       "      <th>0</th>\n",
       "      <td>KNN</td>\n",
       "      <td>{'weights': 'distance', 'n_neighbors': 11}</td>\n",
       "      <td>0.999969</td>\n",
       "      <td>0.880593</td>\n",
       "      <td>66544.185754</td>\n",
       "    </tr>\n",
       "  </tbody>\n",
       "</table>\n",
       "</div>"
      ],
      "text/plain": [
       "  Model                                       Parms  R2_Train   R2_Test  \\\n",
       "0   KNN  {'weights': 'distance', 'n_neighbors': 11}  0.999969  0.880593   \n",
       "\n",
       "           RMSE  \n",
       "0  66544.185754  "
      ]
     },
     "execution_count": 13,
     "metadata": {},
     "output_type": "execute_result"
    }
   ],
   "source": [
    "knr = KNeighborsRegressor()\n",
    "param_dist = {'n_neighbors':np.arange(1,50),\n",
    "              \"weights\": [\"uniform\", \"distance\"]}\n",
    "res = model_tune('KNN', knr, param_dist)\n",
    "res_df = pd.concat([res_df, res])\n",
    "res_df.head()"
   ]
  },
  {
   "cell_type": "markdown",
   "id": "3555042c",
   "metadata": {},
   "source": [
    "### Decision Tree Regressor"
   ]
  },
  {
   "cell_type": "code",
   "execution_count": 14,
   "id": "11b49127",
   "metadata": {},
   "outputs": [
    {
     "name": "stdout",
     "output_type": "stream",
     "text": [
      "Model: DTR\n",
      "Tuned Hyper Parameters: {'splitter': 'random', 'min_weight_fraction_leaf': 0.1, 'min_samples_leaf': 6, 'max_leaf_nodes': 80, 'max_features': 'sqrt', 'max_depth': 11}\n",
      "Best R^2 score is 0.08610827859400483\n",
      "R^2 Train Score: 0.0636371166434353\n",
      "R^2 Test Score: 0.05147842134776359\n",
      "Mean Squared Error: 35175302134.77981\n",
      "Root Mean Squared Error: 187550.7988113615\n"
     ]
    },
    {
     "data": {
      "image/png": "[encoded data removed]",
      "text/plain": [
       "<Figure size 432x288 with 1 Axes>"
      ]
     },
     "metadata": {
      "needs_background": "light"
     },
     "output_type": "display_data"
    },
    {
     "data": {
      "text/html": [
       "<div>\n",
       "<style scoped>\n",
       "    .dataframe tbody tr th:only-of-type {\n",
       "        vertical-align: middle;\n",
       "    }\n",
       "\n",
       "    .dataframe tbody tr th {\n",
       "        vertical-align: top;\n",
       "    }\n",
       "\n",
       "    .dataframe thead th {\n",
       "        text-align: right;\n",
       "    }\n",
       "</style>\n",
       "<table border=\"1\" class=\"dataframe\">\n",
       "  <thead>\n",
       "    <tr style=\"text-align: right;\">\n",
       "      <th></th>\n",
       "      <th>Model</th>\n",
       "      <th>Parms</th>\n",
       "      <th>R2_Train</th>\n",
       "      <th>R2_Test</th>\n",
       "      <th>RMSE</th>\n",
       "    </tr>\n",
       "  </thead>\n",
       "  <tbody>\n",
       "    <tr>\n",
       "      <th>0</th>\n",
       "      <td>KNN</td>\n",
       "      <td>{'weights': 'distance', 'n_neighbors': 11}</td>\n",
       "      <td>0.999969</td>\n",
       "      <td>0.880593</td>\n",
       "      <td>66544.185754</td>\n",
       "    </tr>\n",
       "    <tr>\n",
       "      <th>0</th>\n",
       "      <td>DTR</td>\n",
       "      <td>{'splitter': 'random', 'min_weight_fraction_le...</td>\n",
       "      <td>0.063637</td>\n",
       "      <td>0.051478</td>\n",
       "      <td>187550.798811</td>\n",
       "    </tr>\n",
       "  </tbody>\n",
       "</table>\n",
       "</div>"
      ],
      "text/plain": [
       "  Model                                              Parms  R2_Train  \\\n",
       "0   KNN         {'weights': 'distance', 'n_neighbors': 11}  0.999969   \n",
       "0   DTR  {'splitter': 'random', 'min_weight_fraction_le...  0.063637   \n",
       "\n",
       "    R2_Test           RMSE  \n",
       "0  0.880593   66544.185754  \n",
       "0  0.051478  187550.798811  "
      ]
     },
     "execution_count": 14,
     "metadata": {},
     "output_type": "execute_result"
    }
   ],
   "source": [
    "dtr = DecisionTreeRegressor()\n",
    "param_dist = {\"splitter\":[\"best\",\"random\"],\n",
    "            \"max_depth\" : [1,3,5,7,9,11,12],\n",
    "            \"min_samples_leaf\":[1,2,3,4,5,6,7,8,9,10],\n",
    "            \"min_weight_fraction_leaf\":[0.1,0.2,0.3,0.4,0.5,0.6,0.7,0.8,0.9],\n",
    "            \"max_features\":[\"auto\",\"log2\",\"sqrt\",None],\n",
    "            \"max_leaf_nodes\":[None,10,20,30,40,50,60,70,80,90]}\n",
    "res = model_tune('DTR', dtr, param_dist)\n",
    "res_df = pd.concat([res_df, res])\n",
    "res_df.head()"
   ]
  },
  {
   "cell_type": "markdown",
   "id": "7655fce1",
   "metadata": {},
   "source": [
    "### Random Forest Regressor"
   ]
  },
  {
   "cell_type": "code",
   "execution_count": 15,
   "id": "32ed2ff6",
   "metadata": {},
   "outputs": [
    {
     "name": "stdout",
     "output_type": "stream",
     "text": [
      "Model: RFR\n",
      "Tuned Hyper Parameters: {'n_estimators': 20, 'min_samples_split': 10, 'min_samples_leaf': 1, 'max_features': 'auto', 'max_depth': 40, 'bootstrap': True}\n",
      "Best R^2 score is 0.8965934270648297\n",
      "R^2 Train Score: 0.9648400898758335\n",
      "R^2 Test Score: 0.8987873818850436\n",
      "Mean Squared Error: 3753403720.244697\n",
      "Root Mean Squared Error: 61265.028525617265\n"
     ]
    },
    {
     "data": {
      "image/png": "[encoded data removed]",
      "text/plain": [
       "<Figure size 432x288 with 1 Axes>"
      ]
     },
     "metadata": {
      "needs_background": "light"
     },
     "output_type": "display_data"
    },
    {
     "data": {
      "text/html": [
       "<div>\n",
       "<style scoped>\n",
       "    .dataframe tbody tr th:only-of-type {\n",
       "        vertical-align: middle;\n",
       "    }\n",
       "\n",
       "    .dataframe tbody tr th {\n",
       "        vertical-align: top;\n",
       "    }\n",
       "\n",
       "    .dataframe thead th {\n",
       "        text-align: right;\n",
       "    }\n",
       "</style>\n",
       "<table border=\"1\" class=\"dataframe\">\n",
       "  <thead>\n",
       "    <tr style=\"text-align: right;\">\n",
       "      <th></th>\n",
       "      <th>Model</th>\n",
       "      <th>Parms</th>\n",
       "      <th>R2_Train</th>\n",
       "      <th>R2_Test</th>\n",
       "      <th>RMSE</th>\n",
       "    </tr>\n",
       "  </thead>\n",
       "  <tbody>\n",
       "    <tr>\n",
       "      <th>0</th>\n",
       "      <td>KNN</td>\n",
       "      <td>{'weights': 'distance', 'n_neighbors': 11}</td>\n",
       "      <td>0.999969</td>\n",
       "      <td>0.880593</td>\n",
       "      <td>66544.185754</td>\n",
       "    </tr>\n",
       "    <tr>\n",
       "      <th>0</th>\n",
       "      <td>DTR</td>\n",
       "      <td>{'splitter': 'random', 'min_weight_fraction_le...</td>\n",
       "      <td>0.063637</td>\n",
       "      <td>0.051478</td>\n",
       "      <td>187550.798811</td>\n",
       "    </tr>\n",
       "    <tr>\n",
       "      <th>0</th>\n",
       "      <td>RFR</td>\n",
       "      <td>{'n_estimators': 20, 'min_samples_split': 10, ...</td>\n",
       "      <td>0.964840</td>\n",
       "      <td>0.898787</td>\n",
       "      <td>61265.028526</td>\n",
       "    </tr>\n",
       "  </tbody>\n",
       "</table>\n",
       "</div>"
      ],
      "text/plain": [
       "  Model                                              Parms  R2_Train  \\\n",
       "0   KNN         {'weights': 'distance', 'n_neighbors': 11}  0.999969   \n",
       "0   DTR  {'splitter': 'random', 'min_weight_fraction_le...  0.063637   \n",
       "0   RFR  {'n_estimators': 20, 'min_samples_split': 10, ...  0.964840   \n",
       "\n",
       "    R2_Test           RMSE  \n",
       "0  0.880593   66544.185754  \n",
       "0  0.051478  187550.798811  \n",
       "0  0.898787   61265.028526  "
      ]
     },
     "execution_count": 15,
     "metadata": {},
     "output_type": "execute_result"
    }
   ],
   "source": [
    "rfr = RandomForestRegressor()\n",
    "param_dist = {'bootstrap': [True, False],\n",
    "             'max_depth': [int(x) for x in np.linspace(10, 120, num = 12)],\n",
    "             'max_features': ['auto', 'sqrt'],\n",
    "             'min_samples_leaf': [1, 3, 4],\n",
    "             'min_samples_split': [2, 6, 10],\n",
    "             'n_estimators': [5,20,50,100]}\n",
    "res = model_tune('RFR', rfr, param_dist)\n",
    "res_df = pd.concat([res_df, res])\n",
    "res_df.head()"
   ]
  },
  {
   "cell_type": "markdown",
   "id": "53fdac3c",
   "metadata": {},
   "source": [
    "### Linear Regression"
   ]
  },
  {
   "cell_type": "code",
   "execution_count": 16,
   "id": "fc02d233",
   "metadata": {},
   "outputs": [
    {
     "name": "stdout",
     "output_type": "stream",
     "text": [
      "Model: LNR\n",
      "Tuned Hyper Parameters: {'fit_intercept': True}\n",
      "Best R^2 score is 0.8858630881231205\n",
      "R^2 Train Score: 0.8862693428502356\n",
      "R^2 Test Score: 0.8962214843460127\n",
      "Mean Squared Error: 3848558351.634897\n",
      "Root Mean Squared Error: 62036.75000864324\n"
     ]
    },
    {
     "data": {
      "image/png": "[encoded data removed]",
      "text/plain": [
       "<Figure size 432x288 with 1 Axes>"
      ]
     },
     "metadata": {
      "needs_background": "light"
     },
     "output_type": "display_data"
    },
    {
     "data": {
      "text/html": [
       "<div>\n",
       "<style scoped>\n",
       "    .dataframe tbody tr th:only-of-type {\n",
       "        vertical-align: middle;\n",
       "    }\n",
       "\n",
       "    .dataframe tbody tr th {\n",
       "        vertical-align: top;\n",
       "    }\n",
       "\n",
       "    .dataframe thead th {\n",
       "        text-align: right;\n",
       "    }\n",
       "</style>\n",
       "<table border=\"1\" class=\"dataframe\">\n",
       "  <thead>\n",
       "    <tr style=\"text-align: right;\">\n",
       "      <th></th>\n",
       "      <th>Model</th>\n",
       "      <th>Parms</th>\n",
       "      <th>R2_Train</th>\n",
       "      <th>R2_Test</th>\n",
       "      <th>RMSE</th>\n",
       "    </tr>\n",
       "  </thead>\n",
       "  <tbody>\n",
       "    <tr>\n",
       "      <th>0</th>\n",
       "      <td>KNN</td>\n",
       "      <td>{'weights': 'distance', 'n_neighbors': 11}</td>\n",
       "      <td>0.999969</td>\n",
       "      <td>0.880593</td>\n",
       "      <td>66544.185754</td>\n",
       "    </tr>\n",
       "    <tr>\n",
       "      <th>0</th>\n",
       "      <td>DTR</td>\n",
       "      <td>{'splitter': 'random', 'min_weight_fraction_le...</td>\n",
       "      <td>0.063637</td>\n",
       "      <td>0.051478</td>\n",
       "      <td>187550.798811</td>\n",
       "    </tr>\n",
       "    <tr>\n",
       "      <th>0</th>\n",
       "      <td>RFR</td>\n",
       "      <td>{'n_estimators': 20, 'min_samples_split': 10, ...</td>\n",
       "      <td>0.964840</td>\n",
       "      <td>0.898787</td>\n",
       "      <td>61265.028526</td>\n",
       "    </tr>\n",
       "    <tr>\n",
       "      <th>0</th>\n",
       "      <td>LNR</td>\n",
       "      <td>{'fit_intercept': True}</td>\n",
       "      <td>0.886269</td>\n",
       "      <td>0.896221</td>\n",
       "      <td>62036.750009</td>\n",
       "    </tr>\n",
       "  </tbody>\n",
       "</table>\n",
       "</div>"
      ],
      "text/plain": [
       "  Model                                              Parms  R2_Train  \\\n",
       "0   KNN         {'weights': 'distance', 'n_neighbors': 11}  0.999969   \n",
       "0   DTR  {'splitter': 'random', 'min_weight_fraction_le...  0.063637   \n",
       "0   RFR  {'n_estimators': 20, 'min_samples_split': 10, ...  0.964840   \n",
       "0   LNR                            {'fit_intercept': True}  0.886269   \n",
       "\n",
       "    R2_Test           RMSE  \n",
       "0  0.880593   66544.185754  \n",
       "0  0.051478  187550.798811  \n",
       "0  0.898787   61265.028526  \n",
       "0  0.896221   62036.750009  "
      ]
     },
     "execution_count": 16,
     "metadata": {},
     "output_type": "execute_result"
    }
   ],
   "source": [
    "lnr = LinearRegression()\n",
    "param_dist = {'fit_intercept': [True, False]}\n",
    "res = model_tune('LNR', lnr, param_dist)\n",
    "res_df = pd.concat([res_df, res])\n",
    "res_df.head()"
   ]
  },
  {
   "cell_type": "markdown",
   "id": "040a7c15",
   "metadata": {},
   "source": [
    "### Extreme Gradient Boost Regressor"
   ]
  },
  {
   "cell_type": "code",
   "execution_count": 17,
   "id": "9723923d",
   "metadata": {
    "scrolled": false
   },
   "outputs": [
    {
     "name": "stdout",
     "output_type": "stream",
     "text": [
      "Model: XGB\n",
      "Tuned Hyper Parameters: {'n_estimators': 900, 'min_child_weight': 3, 'max_depth': 5, 'learning_rate': 0.05}\n",
      "Best R^2 score is 0.9004912318554708\n",
      "R^2 Train Score: 0.9646172274997572\n",
      "R^2 Test Score: 0.9086131782251302\n",
      "Mean Squared Error: 3389020491.906909\n",
      "Root Mean Squared Error: 58215.29431263668\n"
     ]
    },
    {
     "data": {
      "image/png": "[encoded data removed]",
      "text/plain": [
       "<Figure size 432x288 with 1 Axes>"
      ]
     },
     "metadata": {
      "needs_background": "light"
     },
     "output_type": "display_data"
    },
    {
     "data": {
      "text/html": [
       "<div>\n",
       "<style scoped>\n",
       "    .dataframe tbody tr th:only-of-type {\n",
       "        vertical-align: middle;\n",
       "    }\n",
       "\n",
       "    .dataframe tbody tr th {\n",
       "        vertical-align: top;\n",
       "    }\n",
       "\n",
       "    .dataframe thead th {\n",
       "        text-align: right;\n",
       "    }\n",
       "</style>\n",
       "<table border=\"1\" class=\"dataframe\">\n",
       "  <thead>\n",
       "    <tr style=\"text-align: right;\">\n",
       "      <th></th>\n",
       "      <th>Model</th>\n",
       "      <th>Parms</th>\n",
       "      <th>R2_Train</th>\n",
       "      <th>R2_Test</th>\n",
       "      <th>RMSE</th>\n",
       "    </tr>\n",
       "  </thead>\n",
       "  <tbody>\n",
       "    <tr>\n",
       "      <th>0</th>\n",
       "      <td>KNN</td>\n",
       "      <td>{'weights': 'distance', 'n_neighbors': 11}</td>\n",
       "      <td>0.999969</td>\n",
       "      <td>0.880593</td>\n",
       "      <td>66544.185754</td>\n",
       "    </tr>\n",
       "    <tr>\n",
       "      <th>0</th>\n",
       "      <td>DTR</td>\n",
       "      <td>{'splitter': 'random', 'min_weight_fraction_le...</td>\n",
       "      <td>0.063637</td>\n",
       "      <td>0.051478</td>\n",
       "      <td>187550.798811</td>\n",
       "    </tr>\n",
       "    <tr>\n",
       "      <th>0</th>\n",
       "      <td>RFR</td>\n",
       "      <td>{'n_estimators': 20, 'min_samples_split': 10, ...</td>\n",
       "      <td>0.964840</td>\n",
       "      <td>0.898787</td>\n",
       "      <td>61265.028526</td>\n",
       "    </tr>\n",
       "    <tr>\n",
       "      <th>0</th>\n",
       "      <td>LNR</td>\n",
       "      <td>{'fit_intercept': True}</td>\n",
       "      <td>0.886269</td>\n",
       "      <td>0.896221</td>\n",
       "      <td>62036.750009</td>\n",
       "    </tr>\n",
       "    <tr>\n",
       "      <th>0</th>\n",
       "      <td>XGB</td>\n",
       "      <td>{'n_estimators': 900, 'min_child_weight': 3, '...</td>\n",
       "      <td>0.964617</td>\n",
       "      <td>0.908613</td>\n",
       "      <td>58215.294313</td>\n",
       "    </tr>\n",
       "  </tbody>\n",
       "</table>\n",
       "</div>"
      ],
      "text/plain": [
       "  Model                                              Parms  R2_Train  \\\n",
       "0   KNN         {'weights': 'distance', 'n_neighbors': 11}  0.999969   \n",
       "0   DTR  {'splitter': 'random', 'min_weight_fraction_le...  0.063637   \n",
       "0   RFR  {'n_estimators': 20, 'min_samples_split': 10, ...  0.964840   \n",
       "0   LNR                            {'fit_intercept': True}  0.886269   \n",
       "0   XGB  {'n_estimators': 900, 'min_child_weight': 3, '...  0.964617   \n",
       "\n",
       "    R2_Test           RMSE  \n",
       "0  0.880593   66544.185754  \n",
       "0  0.051478  187550.798811  \n",
       "0  0.898787   61265.028526  \n",
       "0  0.896221   62036.750009  \n",
       "0  0.908613   58215.294313  "
      ]
     },
     "execution_count": 17,
     "metadata": {},
     "output_type": "execute_result"
    }
   ],
   "source": [
    "xgb = XGBRegressor()\n",
    "param_dist = {\n",
    "            'n_estimators': [100, 500, 900, 1100, 1500],\n",
    "            'max_depth': [2, 3, 5, 10, 15],\n",
    "            'learning_rate': [0.05, 0.1, 0.15, 0.20],\n",
    "            'min_child_weight': [1, 2, 3, 4]\n",
    "            }\n",
    "res = model_tune('XGB', xgb, param_dist)\n",
    "res_df = pd.concat([res_df, res])\n",
    "res_df.head()"
   ]
  },
  {
   "cell_type": "markdown",
   "id": "be0af1bc",
   "metadata": {},
   "source": [
    "# 4 Results<a id='4'></a>"
   ]
  },
  {
   "cell_type": "code",
   "execution_count": 37,
   "id": "2cd30bfb",
   "metadata": {},
   "outputs": [
    {
     "data": {
      "image/png": "[encoded data removed]",
      "text/plain": [
       "<Figure size 432x288 with 1 Axes>"
      ]
     },
     "metadata": {
      "needs_background": "light"
     },
     "output_type": "display_data"
    }
   ],
   "source": [
    "# Plot Results\n",
    "plt.scatter(res_df.Model, res_df.R2_Train, lw=1.5, color=\"blue\", label=\"Training\")\n",
    "plt.bar(res_df.Model, res_df.R2_Test, lw=1.5, color=\"red\", label=\"Testing\", alpha=0.5)\n",
    "plt.title('R^2 Scores by Model')\n",
    "plt.xlabel('Model')\n",
    "plt.ylabel('R^2 score')\n",
    "plt.legend()\n",
    "plt.show()"
   ]
  },
  {
   "cell_type": "code",
   "execution_count": 39,
   "id": "99b62aa4",
   "metadata": {},
   "outputs": [
    {
     "data": {
      "image/png": "[encoded data removed]",
      "text/plain": [
       "<Figure size 432x288 with 1 Axes>"
      ]
     },
     "metadata": {
      "needs_background": "light"
     },
     "output_type": "display_data"
    }
   ],
   "source": [
    "plt.bar(res_df.Model, res_df.RMSE)\n",
    "plt.title('Root Mean Squared Error by Model')\n",
    "plt.xlabel('Model')\n",
    "plt.ylabel('RMSE')\n",
    "plt.show()"
   ]
  },
  {
   "cell_type": "markdown",
   "id": "aa6067d3",
   "metadata": {},
   "source": [
    "# 5 Conclusion<a id='5'></a>"
   ]
  },
  {
   "cell_type": "markdown",
   "id": "c3592dee",
   "metadata": {},
   "source": [
    "The following conclusions were made based on the models:\n",
    "- All of the models had similar scores except for the Decision Tree Regressor which performed poorly.\n",
    "- The Extreme Gradient Boosting Regressor (XGBoost) model slightly outperformed the K Nearest Neighbor, Random Forest, and Linear Regression models.\n",
    "- The Linear Regression model is simpler and less expensive computationally than the competition.  Based on the current data, this would be the best model\n",
    "\n",
    "The Root Mean Squared Error (RMSE) of approximately \\\\$60K is fairly large when considering the average sales price is approximately $390K.  In order to improve the model, more independent features may be helpful. Some helpful features may include the condition of the property and structure, whether it is in a planned community, waterfront property, crime rate of the neighborhood, ratings of the schools, etc. "
   ]
  }
 ],
 "metadata": {
  "kernelspec": {
   "display_name": "Python 3 (ipykernel)",
   "language": "python",
   "name": "python3"
  },
  "language_info": {
   "codemirror_mode": {
    "name": "ipython",
    "version": 3
   },
   "file_extension": ".py",
   "mimetype": "text/x-python",
   "name": "python",
   "nbconvert_exporter": "python",
   "pygments_lexer": "ipython3",
   "version": "3.9.7"
  }
 },
 "nbformat": 4,
 "nbformat_minor": 5
}
