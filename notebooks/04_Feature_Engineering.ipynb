{
 "cells": [
  {
   "cell_type": "markdown",
   "id": "247ec23b",
   "metadata": {},
   "source": [
    "# Tampa Real-Estate Recommender\n",
    "## Feature Engineering\n",
    "TB Real Estate Corporation is a real estate investment firm in the Tampa Bay, Florida area.  The real estate market in the Tampa Bay area is very active.  Single family homes are selling quickly.  TB Real Estate Corporation needs to be able to assess the value of homes coming onto the market quickly and accurately so that they can beat the competition in making a competitive offer.   They need to be able to evaluate the listing price against the predicted sale price in order to identify properties that may be priced below market value and would make good investments.  \n",
    "<br>\n",
    "The objective of the Feature Engineering is to prepare the features and to build training and testing datasets to optimally support the machine learning models in order to predict the sales price for residential properties."
   ]
  },
  {
   "cell_type": "markdown",
   "id": "d4cbaa86",
   "metadata": {},
   "source": [
    "# 1 Imports and File Locations<a id='1'></a>"
   ]
  },
  {
   "cell_type": "code",
   "execution_count": 1,
   "id": "ffd0965b",
   "metadata": {},
   "outputs": [],
   "source": [
    "import pandas as pd\n",
    "import numpy as np\n",
    "import matplotlib.pyplot as plt\n",
    "import seaborn as sns\n",
    "import datetime as dt\n",
    "import category_encoders as ce\n",
    "from sklearn.model_selection import train_test_split\n",
    "from sklearn.preprocessing import StandardScaler\n",
    "import category_encoders as ce"
   ]
  },
  {
   "cell_type": "code",
   "execution_count": 2,
   "id": "64c763f6",
   "metadata": {},
   "outputs": [],
   "source": [
    "ext_data = '../data/external/'\n",
    "raw_data = '../data/raw/'\n",
    "interim_data = '../data/interim/'\n",
    "report_figures = '../reports/figures/'"
   ]
  },
  {
   "cell_type": "markdown",
   "id": "45602ace",
   "metadata": {},
   "source": [
    "# 2 Read Sales data into dataframe<a id='2'></a>"
   ]
  },
  {
   "cell_type": "code",
   "execution_count": 3,
   "id": "7dbb8c9f",
   "metadata": {},
   "outputs": [
    {
     "name": "stderr",
     "output_type": "stream",
     "text": [
      "C:\\Users\\mkars\\AppData\\Local\\Temp\\ipykernel_16896\\2366488356.py:1: DtypeWarning: Columns (27,28,29,38) have mixed types. Specify dtype option on import or set low_memory=False.\n",
      "  df = pd.read_csv(interim_data + 'sales_df.csv', dtype={'FOLIO': object, 'DOR_CODE': object, 'NBHC': object, 'SECTION_CD': object, 'TOWNSHIP_CD': object, 'RANGE_CD': object, 'MARKET_AREA_CD': object}, parse_dates=['S_DATE'])\n"
     ]
    },
    {
     "name": "stdout",
     "output_type": "stream",
     "text": [
      "<class 'pandas.core.frame.DataFrame'>\n",
      "RangeIndex: 799380 entries, 0 to 799379\n",
      "Data columns (total 42 columns):\n",
      " #   Column           Non-Null Count   Dtype         \n",
      "---  ------           --------------   -----         \n",
      " 0   FOLIO            799380 non-null  object        \n",
      " 1   DOR_CODE         799380 non-null  object        \n",
      " 2   S_DATE           799380 non-null  datetime64[ns]\n",
      " 3   VI               799380 non-null  object        \n",
      " 4   QU               799380 non-null  object        \n",
      " 5   REA_CD           799380 non-null  object        \n",
      " 6   S_AMT            799380 non-null  float64       \n",
      " 7   SUB              799380 non-null  object        \n",
      " 8   S_TYPE           799380 non-null  object        \n",
      " 9   ORIG_SALES_DATE  799380 non-null  object        \n",
      " 10  SITE_ADDR        799325 non-null  object        \n",
      " 11  SITE_CITY        799373 non-null  object        \n",
      " 12  SITE_ZIP         799380 non-null  object        \n",
      " 13  tBEDS            799380 non-null  float64       \n",
      " 14  tBATHS           799380 non-null  float64       \n",
      " 15  tSTORIES         799380 non-null  float64       \n",
      " 16  tUNITS           799380 non-null  float64       \n",
      " 17  tBLDGS           799380 non-null  float64       \n",
      " 18  JUST             799380 non-null  float64       \n",
      " 19  LAND             799380 non-null  float64       \n",
      " 20  BLDG             799380 non-null  float64       \n",
      " 21  EXF              799380 non-null  float64       \n",
      " 22  ACT              799380 non-null  int64         \n",
      " 23  EFF              799380 non-null  int64         \n",
      " 24  HEAT_AR          799380 non-null  float64       \n",
      " 25  ASD_VAL          799380 non-null  float64       \n",
      " 26  TAX_VAL          799380 non-null  float64       \n",
      " 27  SD1              799380 non-null  object        \n",
      " 28  SD2              799380 non-null  object        \n",
      " 29  TIF              799380 non-null  object        \n",
      " 30  BASE             799380 non-null  int64         \n",
      " 31  ACREAGE          799380 non-null  float64       \n",
      " 32  NBHC             799380 non-null  object        \n",
      " 33  MUNICIPALITY_CD  799380 non-null  object        \n",
      " 34  SECTION_CD       799380 non-null  object        \n",
      " 35  TOWNSHIP_CD      799380 non-null  object        \n",
      " 36  RANGE_CD         799380 non-null  object        \n",
      " 37  BLOCK_NUM        799380 non-null  object        \n",
      " 38  LOT_NUM          799380 non-null  object        \n",
      " 39  MARKET_AREA_CD   799380 non-null  object        \n",
      " 40  REGION           799380 non-null  object        \n",
      " 41  AGE              799380 non-null  int64         \n",
      "dtypes: datetime64[ns](1), float64(14), int64(4), object(23)\n",
      "memory usage: 256.1+ MB\n"
     ]
    }
   ],
   "source": [
    "df = pd.read_csv(interim_data + 'sales_df.csv', dtype={'FOLIO': object, 'DOR_CODE': object, 'NBHC': object, 'SECTION_CD': object, 'TOWNSHIP_CD': object, 'RANGE_CD': object, 'MARKET_AREA_CD': object}, parse_dates=['S_DATE'])\n",
    "df.info()"
   ]
  },
  {
   "cell_type": "markdown",
   "id": "459dd632",
   "metadata": {},
   "source": [
    "# 4 Select Features for Engineering<a id='4'></a>"
   ]
  },
  {
   "cell_type": "code",
   "execution_count": 4,
   "id": "be4011ba",
   "metadata": {},
   "outputs": [],
   "source": [
    "# Replace S_DATE with integer sales date epoch\n",
    "df['sales_date_epoch'] = (df['S_DATE'] - dt.datetime(1970,1,1)).dt.days"
   ]
  },
  {
   "cell_type": "code",
   "execution_count": 5,
   "id": "f8319521",
   "metadata": {},
   "outputs": [
    {
     "name": "stdout",
     "output_type": "stream",
     "text": [
      "<class 'pandas.core.frame.DataFrame'>\n",
      "RangeIndex: 799380 entries, 0 to 799379\n",
      "Data columns (total 43 columns):\n",
      " #   Column            Non-Null Count   Dtype         \n",
      "---  ------            --------------   -----         \n",
      " 0   FOLIO             799380 non-null  object        \n",
      " 1   DOR_CODE          799380 non-null  object        \n",
      " 2   S_DATE            799380 non-null  datetime64[ns]\n",
      " 3   VI                799380 non-null  object        \n",
      " 4   QU                799380 non-null  object        \n",
      " 5   REA_CD            799380 non-null  object        \n",
      " 6   S_AMT             799380 non-null  float64       \n",
      " 7   SUB               799380 non-null  object        \n",
      " 8   S_TYPE            799380 non-null  object        \n",
      " 9   ORIG_SALES_DATE   799380 non-null  object        \n",
      " 10  SITE_ADDR         799325 non-null  object        \n",
      " 11  SITE_CITY         799373 non-null  object        \n",
      " 12  SITE_ZIP          799380 non-null  object        \n",
      " 13  tBEDS             799380 non-null  float64       \n",
      " 14  tBATHS            799380 non-null  float64       \n",
      " 15  tSTORIES          799380 non-null  float64       \n",
      " 16  tUNITS            799380 non-null  float64       \n",
      " 17  tBLDGS            799380 non-null  float64       \n",
      " 18  JUST              799380 non-null  float64       \n",
      " 19  LAND              799380 non-null  float64       \n",
      " 20  BLDG              799380 non-null  float64       \n",
      " 21  EXF               799380 non-null  float64       \n",
      " 22  ACT               799380 non-null  int64         \n",
      " 23  EFF               799380 non-null  int64         \n",
      " 24  HEAT_AR           799380 non-null  float64       \n",
      " 25  ASD_VAL           799380 non-null  float64       \n",
      " 26  TAX_VAL           799380 non-null  float64       \n",
      " 27  SD1               799380 non-null  object        \n",
      " 28  SD2               799380 non-null  object        \n",
      " 29  TIF               799380 non-null  object        \n",
      " 30  BASE              799380 non-null  int64         \n",
      " 31  ACREAGE           799380 non-null  float64       \n",
      " 32  NBHC              799380 non-null  float64       \n",
      " 33  MUNICIPALITY_CD   799380 non-null  object        \n",
      " 34  SECTION_CD        799380 non-null  object        \n",
      " 35  TOWNSHIP_CD       799380 non-null  object        \n",
      " 36  RANGE_CD          799380 non-null  object        \n",
      " 37  BLOCK_NUM         799380 non-null  object        \n",
      " 38  LOT_NUM           799380 non-null  object        \n",
      " 39  MARKET_AREA_CD    799380 non-null  object        \n",
      " 40  REGION            799380 non-null  object        \n",
      " 41  AGE               799380 non-null  int64         \n",
      " 42  sales_date_epoch  799380 non-null  int64         \n",
      "dtypes: datetime64[ns](1), float64(15), int64(5), object(22)\n",
      "memory usage: 262.2+ MB\n"
     ]
    }
   ],
   "source": [
    "df['NBHC'] = pd.to_numeric(df['NBHC'])\n",
    "df.info()"
   ]
  },
  {
   "cell_type": "code",
   "execution_count": 6,
   "id": "574b83d3",
   "metadata": {},
   "outputs": [],
   "source": [
    "# Filter for only Single Family Residential Homes ('0100')\n",
    "df = df[df['DOR_CODE'] == '0100']"
   ]
  },
  {
   "cell_type": "code",
   "execution_count": 7,
   "id": "7ec76364",
   "metadata": {},
   "outputs": [],
   "source": [
    "# Filter for current Sale Dates\n",
    "df = df[(df['S_DATE'] >= '2020-01-01') & (df['S_DATE'] < '2021-01-01')]"
   ]
  },
  {
   "cell_type": "code",
   "execution_count": 8,
   "id": "72e54e9c",
   "metadata": {},
   "outputs": [],
   "source": [
    "# Filter for number of Bedrooms, Bathrooms, Buildings, Units, and Stories\n",
    "df = df[(df['tBEDS'] >= 3) & (df['tBEDS'] <= 5)]\n",
    "df = df[(df['tBATHS'] >= 1) & (df['tBATHS'] <= 4)]\n",
    "df = df[df['tBLDGS'] == 1]\n",
    "df = df[df['tUNITS'] == 1]\n",
    "df = df[(df['tSTORIES'] >= 1) & (df['tSTORIES'] <= 2)]"
   ]
  },
  {
   "cell_type": "code",
   "execution_count": 9,
   "id": "452db866",
   "metadata": {},
   "outputs": [],
   "source": [
    "# Filter for Age of Home at time of Sale\n",
    "df = df[df.AGE < 20]"
   ]
  },
  {
   "cell_type": "code",
   "execution_count": 10,
   "id": "9aaa1dbf",
   "metadata": {},
   "outputs": [],
   "source": [
    "# Extract independent feature variables to X\n",
    "features = ['FOLIO', 'S_DATE', 'SUB', 'sales_date_epoch', 'AGE', 'tBEDS', 'tBATHS', 'HEAT_AR', 'ACREAGE', 'NBHC']\n",
    "X = df[features] "
   ]
  },
  {
   "cell_type": "code",
   "execution_count": 11,
   "id": "7668e88d",
   "metadata": {},
   "outputs": [],
   "source": [
    "# Extract target dependent variable to y\n",
    "y = df.S_AMT"
   ]
  },
  {
   "cell_type": "code",
   "execution_count": 12,
   "id": "90eb6503",
   "metadata": {},
   "outputs": [
    {
     "name": "stdout",
     "output_type": "stream",
     "text": [
      "(9220, 10) (9220,)\n",
      "(2306, 10) (2306,)\n"
     ]
    }
   ],
   "source": [
    "# Call train_test_split on X, y. \n",
    "X_train, X_test, y_train, y_test = train_test_split(X, y, test_size=0.20, random_state=42) \n",
    "print(X_train.shape, y_train.shape)\n",
    "print(X_test.shape, y_test.shape)"
   ]
  },
  {
   "cell_type": "code",
   "execution_count": 13,
   "id": "d7825d0d",
   "metadata": {},
   "outputs": [
    {
     "data": {
      "image/png": "[encoded data removed]",
      "text/plain": [
       "<Figure size 1440x1440 with 9 Axes>"
      ]
     },
     "metadata": {
      "needs_background": "light"
     },
     "output_type": "display_data"
    }
   ],
   "source": [
    "X_train.hist(figsize=(20, 20))\n",
    "plt.show()"
   ]
  },
  {
   "cell_type": "markdown",
   "id": "318d1139",
   "metadata": {},
   "source": [
    "# 5 Encode Features<a id='5'></a>"
   ]
  },
  {
   "cell_type": "markdown",
   "id": "c6ef1238",
   "metadata": {},
   "source": [
    "Hash Encode the Subdivision Code"
   ]
  },
  {
   "cell_type": "code",
   "execution_count": 14,
   "id": "228691cd",
   "metadata": {},
   "outputs": [
    {
     "name": "stderr",
     "output_type": "stream",
     "text": [
      "C:\\Users\\mkars\\anaconda3\\lib\\site-packages\\category_encoders\\utils.py:21: FutureWarning: is_categorical is deprecated and will be removed in a future version. Use is_categorical_dtype instead.\n",
      "  elif pd.api.types.is_categorical(cols):\n"
     ]
    },
    {
     "data": {
      "text/html": [
       "<div>\n",
       "<style scoped>\n",
       "    .dataframe tbody tr th:only-of-type {\n",
       "        vertical-align: middle;\n",
       "    }\n",
       "\n",
       "    .dataframe tbody tr th {\n",
       "        vertical-align: top;\n",
       "    }\n",
       "\n",
       "    .dataframe thead th {\n",
       "        text-align: right;\n",
       "    }\n",
       "</style>\n",
       "<table border=\"1\" class=\"dataframe\">\n",
       "  <thead>\n",
       "    <tr style=\"text-align: right;\">\n",
       "      <th></th>\n",
       "      <th>FOLIO</th>\n",
       "      <th>S_DATE</th>\n",
       "      <th>sales_date_epoch</th>\n",
       "      <th>AGE</th>\n",
       "      <th>tBEDS</th>\n",
       "      <th>tBATHS</th>\n",
       "      <th>HEAT_AR</th>\n",
       "      <th>ACREAGE</th>\n",
       "      <th>NBHC</th>\n",
       "      <th>SUB_encoded</th>\n",
       "    </tr>\n",
       "  </thead>\n",
       "  <tbody>\n",
       "    <tr>\n",
       "      <th>514129</th>\n",
       "      <td>0777752476</td>\n",
       "      <td>2020-11-02</td>\n",
       "      <td>18568</td>\n",
       "      <td>0</td>\n",
       "      <td>4.0</td>\n",
       "      <td>2.5</td>\n",
       "      <td>1914.0</td>\n",
       "      <td>0.132721</td>\n",
       "      <td>226001.0</td>\n",
       "      <td>245009.016393</td>\n",
       "    </tr>\n",
       "    <tr>\n",
       "      <th>172064</th>\n",
       "      <td>0237334464</td>\n",
       "      <td>2020-09-30</td>\n",
       "      <td>18535</td>\n",
       "      <td>16</td>\n",
       "      <td>4.0</td>\n",
       "      <td>3.5</td>\n",
       "      <td>3940.0</td>\n",
       "      <td>0.205733</td>\n",
       "      <td>212006.0</td>\n",
       "      <td>552116.067185</td>\n",
       "    </tr>\n",
       "    <tr>\n",
       "      <th>508887</th>\n",
       "      <td>0777176588</td>\n",
       "      <td>2020-02-07</td>\n",
       "      <td>18299</td>\n",
       "      <td>5</td>\n",
       "      <td>4.0</td>\n",
       "      <td>3.0</td>\n",
       "      <td>2581.0</td>\n",
       "      <td>0.189396</td>\n",
       "      <td>226015.0</td>\n",
       "      <td>321850.082614</td>\n",
       "    </tr>\n",
       "    <tr>\n",
       "      <th>225807</th>\n",
       "      <td>0347530360</td>\n",
       "      <td>2020-07-20</td>\n",
       "      <td>18463</td>\n",
       "      <td>18</td>\n",
       "      <td>3.0</td>\n",
       "      <td>2.0</td>\n",
       "      <td>1059.0</td>\n",
       "      <td>0.092001</td>\n",
       "      <td>215003.0</td>\n",
       "      <td>217545.770569</td>\n",
       "    </tr>\n",
       "    <tr>\n",
       "      <th>271399</th>\n",
       "      <td>0491506218</td>\n",
       "      <td>2020-11-10</td>\n",
       "      <td>18576</td>\n",
       "      <td>2</td>\n",
       "      <td>4.0</td>\n",
       "      <td>3.0</td>\n",
       "      <td>2400.0</td>\n",
       "      <td>0.149344</td>\n",
       "      <td>222002.0</td>\n",
       "      <td>327461.765972</td>\n",
       "    </tr>\n",
       "  </tbody>\n",
       "</table>\n",
       "</div>"
      ],
      "text/plain": [
       "             FOLIO     S_DATE  sales_date_epoch  AGE  tBEDS  tBATHS  HEAT_AR  \\\n",
       "514129  0777752476 2020-11-02             18568    0    4.0     2.5   1914.0   \n",
       "172064  0237334464 2020-09-30             18535   16    4.0     3.5   3940.0   \n",
       "508887  0777176588 2020-02-07             18299    5    4.0     3.0   2581.0   \n",
       "225807  0347530360 2020-07-20             18463   18    3.0     2.0   1059.0   \n",
       "271399  0491506218 2020-11-10             18576    2    4.0     3.0   2400.0   \n",
       "\n",
       "         ACREAGE      NBHC    SUB_encoded  \n",
       "514129  0.132721  226001.0  245009.016393  \n",
       "172064  0.205733  212006.0  552116.067185  \n",
       "508887  0.189396  226015.0  321850.082614  \n",
       "225807  0.092001  215003.0  217545.770569  \n",
       "271399  0.149344  222002.0  327461.765972  "
      ]
     },
     "execution_count": 14,
     "metadata": {},
     "output_type": "execute_result"
    }
   ],
   "source": [
    "ce_target = ce.TargetEncoder()\n",
    "X_train['SUB_encoded'] = ce_target.fit_transform(X_train['SUB'], y_train)\n",
    "X_train.drop('SUB', axis=1, inplace=True)\n",
    "X_train.head()"
   ]
  },
  {
   "cell_type": "code",
   "execution_count": 15,
   "id": "65ef3eb8",
   "metadata": {},
   "outputs": [
    {
     "data": {
      "text/html": [
       "<div>\n",
       "<style scoped>\n",
       "    .dataframe tbody tr th:only-of-type {\n",
       "        vertical-align: middle;\n",
       "    }\n",
       "\n",
       "    .dataframe tbody tr th {\n",
       "        vertical-align: top;\n",
       "    }\n",
       "\n",
       "    .dataframe thead th {\n",
       "        text-align: right;\n",
       "    }\n",
       "</style>\n",
       "<table border=\"1\" class=\"dataframe\">\n",
       "  <thead>\n",
       "    <tr style=\"text-align: right;\">\n",
       "      <th></th>\n",
       "      <th>FOLIO</th>\n",
       "      <th>S_DATE</th>\n",
       "      <th>sales_date_epoch</th>\n",
       "      <th>AGE</th>\n",
       "      <th>tBEDS</th>\n",
       "      <th>tBATHS</th>\n",
       "      <th>HEAT_AR</th>\n",
       "      <th>ACREAGE</th>\n",
       "      <th>NBHC</th>\n",
       "      <th>SUB_encoded</th>\n",
       "    </tr>\n",
       "  </thead>\n",
       "  <tbody>\n",
       "    <tr>\n",
       "      <th>513904</th>\n",
       "      <td>0777752036</td>\n",
       "      <td>2020-01-10</td>\n",
       "      <td>18271</td>\n",
       "      <td>1</td>\n",
       "      <td>4.0</td>\n",
       "      <td>2.5</td>\n",
       "      <td>2328.0</td>\n",
       "      <td>0.135567</td>\n",
       "      <td>226001.0</td>\n",
       "      <td>230462.962963</td>\n",
       "    </tr>\n",
       "    <tr>\n",
       "      <th>293352</th>\n",
       "      <td>0541655458</td>\n",
       "      <td>2020-11-13</td>\n",
       "      <td>18579</td>\n",
       "      <td>0</td>\n",
       "      <td>3.0</td>\n",
       "      <td>2.0</td>\n",
       "      <td>1821.0</td>\n",
       "      <td>0.117328</td>\n",
       "      <td>227003.0</td>\n",
       "      <td>419049.350649</td>\n",
       "    </tr>\n",
       "    <tr>\n",
       "      <th>530288</th>\n",
       "      <td>0789321960</td>\n",
       "      <td>2020-08-18</td>\n",
       "      <td>18492</td>\n",
       "      <td>0</td>\n",
       "      <td>5.0</td>\n",
       "      <td>3.0</td>\n",
       "      <td>2207.0</td>\n",
       "      <td>0.145010</td>\n",
       "      <td>229008.0</td>\n",
       "      <td>292654.545455</td>\n",
       "    </tr>\n",
       "    <tr>\n",
       "      <th>505640</th>\n",
       "      <td>0777141404</td>\n",
       "      <td>2020-06-02</td>\n",
       "      <td>18415</td>\n",
       "      <td>0</td>\n",
       "      <td>4.0</td>\n",
       "      <td>3.0</td>\n",
       "      <td>2057.0</td>\n",
       "      <td>0.185121</td>\n",
       "      <td>226015.0</td>\n",
       "      <td>284127.586207</td>\n",
       "    </tr>\n",
       "    <tr>\n",
       "      <th>311599</th>\n",
       "      <td>0567741258</td>\n",
       "      <td>2020-10-08</td>\n",
       "      <td>18543</td>\n",
       "      <td>7</td>\n",
       "      <td>4.0</td>\n",
       "      <td>2.5</td>\n",
       "      <td>2058.0</td>\n",
       "      <td>0.181141</td>\n",
       "      <td>227001.0</td>\n",
       "      <td>335648.594685</td>\n",
       "    </tr>\n",
       "  </tbody>\n",
       "</table>\n",
       "</div>"
      ],
      "text/plain": [
       "             FOLIO     S_DATE  sales_date_epoch  AGE  tBEDS  tBATHS  HEAT_AR  \\\n",
       "513904  0777752036 2020-01-10             18271    1    4.0     2.5   2328.0   \n",
       "293352  0541655458 2020-11-13             18579    0    3.0     2.0   1821.0   \n",
       "530288  0789321960 2020-08-18             18492    0    5.0     3.0   2207.0   \n",
       "505640  0777141404 2020-06-02             18415    0    4.0     3.0   2057.0   \n",
       "311599  0567741258 2020-10-08             18543    7    4.0     2.5   2058.0   \n",
       "\n",
       "         ACREAGE      NBHC    SUB_encoded  \n",
       "513904  0.135567  226001.0  230462.962963  \n",
       "293352  0.117328  227003.0  419049.350649  \n",
       "530288  0.145010  229008.0  292654.545455  \n",
       "505640  0.185121  226015.0  284127.586207  \n",
       "311599  0.181141  227001.0  335648.594685  "
      ]
     },
     "execution_count": 15,
     "metadata": {},
     "output_type": "execute_result"
    }
   ],
   "source": [
    "X_test['SUB_encoded'] = ce_target.transform(X_test['SUB'])\n",
    "X_test.drop('SUB', axis=1, inplace=True)\n",
    "X_test.head()"
   ]
  },
  {
   "cell_type": "markdown",
   "id": "c6dd8456",
   "metadata": {},
   "source": [
    "ce_hash = ce.HashingEncoder(cols = ['SUB'])\n",
    "X_train = ce_hash.fit_transform(X_train)\n",
    "X_train.head()"
   ]
  },
  {
   "cell_type": "markdown",
   "id": "2ad8431e",
   "metadata": {},
   "source": [
    "X_test = ce_hash.transform(X_test)\n",
    "X_test.head()"
   ]
  },
  {
   "cell_type": "markdown",
   "id": "9768c54d",
   "metadata": {},
   "source": [
    "# 6 Scale Features<a id='6'></a>"
   ]
  },
  {
   "cell_type": "code",
   "execution_count": 16,
   "id": "136d9b97",
   "metadata": {},
   "outputs": [
    {
     "data": {
      "text/plain": [
       "Index(['sales_date_epoch', 'AGE', 'tBEDS', 'tBATHS', 'HEAT_AR', 'ACREAGE',\n",
       "       'NBHC', 'SUB_encoded'],\n",
       "      dtype='object')"
      ]
     },
     "execution_count": 16,
     "metadata": {},
     "output_type": "execute_result"
    }
   ],
   "source": [
    "num_cols = X_train.select_dtypes(include=np.number).columns\n",
    "num_cols"
   ]
  },
  {
   "cell_type": "code",
   "execution_count": 17,
   "id": "adb9f78e",
   "metadata": {},
   "outputs": [],
   "source": [
    "# Apply a standard scaler to the training data\n",
    "X_train_scaled = X_train\n",
    "SS_scaler = StandardScaler()\n",
    "X_train_scaled[num_cols] = SS_scaler.fit_transform(X_train_scaled[num_cols])"
   ]
  },
  {
   "cell_type": "code",
   "execution_count": 18,
   "id": "99d7c0b0",
   "metadata": {},
   "outputs": [],
   "source": [
    "X_test_scaled = X_test\n",
    "X_test_scaled[num_cols] = SS_scaler.transform(X_test_scaled[num_cols])"
   ]
  },
  {
   "cell_type": "code",
   "execution_count": 19,
   "id": "1b011c14",
   "metadata": {},
   "outputs": [
    {
     "data": {
      "image/png": "[encoded data removed]",
      "text/plain": [
       "<Figure size 1440x1440 with 9 Axes>"
      ]
     },
     "metadata": {
      "needs_background": "light"
     },
     "output_type": "display_data"
    }
   ],
   "source": [
    "X_train_scaled.hist(figsize=(20, 20))\n",
    "plt.show()"
   ]
  },
  {
   "cell_type": "markdown",
   "id": "9380cc52",
   "metadata": {},
   "source": [
    "# 7 Export Train and Test Data to CSV<a id='7'></a>"
   ]
  },
  {
   "cell_type": "code",
   "execution_count": 20,
   "id": "ec0ce397",
   "metadata": {},
   "outputs": [],
   "source": [
    "# Save unscaled data to interim data folder as csv files\n",
    "X_train.to_csv(interim_data + 'X_train.csv', index=False)\n",
    "X_test.to_csv(interim_data + 'X_test.csv', index=False)\n",
    "y_train.to_csv(interim_data + 'y_train.csv', index=False)\n",
    "y_test.to_csv(interim_data + 'y_test.csv', index=False)"
   ]
  },
  {
   "cell_type": "code",
   "execution_count": 21,
   "id": "374557bf",
   "metadata": {
    "scrolled": false
   },
   "outputs": [],
   "source": [
    "# Save unscaled data to interim data folder as csv files\n",
    "X_train_scaled.to_csv(interim_data + 'X_train_scaled.csv', index=False)\n",
    "X_test_scaled.to_csv(interim_data + 'X_test_scaled.csv', index=False)"
   ]
  }
 ],
 "metadata": {
  "kernelspec": {
   "display_name": "Python 3 (ipykernel)",
   "language": "python",
   "name": "python3"
  },
  "language_info": {
   "codemirror_mode": {
    "name": "ipython",
    "version": 3
   },
   "file_extension": ".py",
   "mimetype": "text/x-python",
   "name": "python",
   "nbconvert_exporter": "python",
   "pygments_lexer": "ipython3",
   "version": "3.9.7"
  }
 },
 "nbformat": 4,
 "nbformat_minor": 5
}
