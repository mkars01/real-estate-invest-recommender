{
 "cells": [
  {
   "cell_type": "markdown",
   "id": "247ec23b",
   "metadata": {},
   "source": [
    "# Tampa Real-Estate Recommender\n",
    "## Feature Engineering\n",
    "TB Real Estate Corporation is a real estate investment firm in the Tampa Bay, Florida area.  The real estate market in the Tampa Bay area is very active.  Single family homes are selling quickly.  TB Real Estate Corporation needs to be able to assess the value of homes coming onto the market quickly and accurately so that they can beat the competition in making a competitive offer.   They need to be able to evaluate the listing price against the predicted sale price in order to identify properties that may be priced below market value and would make good investments.  \n",
    "<br>\n",
    "The objective of the Feature Engineering is to prepare the features and to build training and testing datasets to optimally support the machine learning models in order to predict the sales price for residential properties."
   ]
  },
  {
   "cell_type": "markdown",
   "id": "d4cbaa86",
   "metadata": {},
   "source": [
    "# 1 Imports and File Locations<a id='1'></a>"
   ]
  },
  {
   "cell_type": "code",
   "execution_count": 1,
   "id": "ffd0965b",
   "metadata": {},
   "outputs": [],
   "source": [
    "import pandas as pd\n",
    "import numpy as np\n",
    "import matplotlib.pyplot as plt\n",
    "import seaborn as sns\n",
    "import datetime as dt\n",
    "import category_encoders as ce\n",
    "from sklearn.model_selection import train_test_split\n",
    "from sklearn.preprocessing import StandardScaler\n",
    "import category_encoders as ce"
   ]
  },
  {
   "cell_type": "code",
   "execution_count": 2,
   "id": "64c763f6",
   "metadata": {},
   "outputs": [],
   "source": [
    "ext_data = '../data/external/'\n",
    "raw_data = '../data/raw/'\n",
    "interim_data = '../data/interim/'\n",
    "report_figures = '../reports/figures/'"
   ]
  },
  {
   "cell_type": "markdown",
   "id": "45602ace",
   "metadata": {},
   "source": [
    "# 2 Read Sales data into dataframe<a id='2'></a>"
   ]
  },
  {
   "cell_type": "code",
   "execution_count": 3,
   "id": "7dbb8c9f",
   "metadata": {},
   "outputs": [
    {
     "name": "stderr",
     "output_type": "stream",
     "text": [
      "C:\\Users\\mkars\\AppData\\Local\\Temp\\ipykernel_29396\\2366488356.py:1: DtypeWarning: Columns (27,28,29,38) have mixed types. Specify dtype option on import or set low_memory=False.\n",
      "  df = pd.read_csv(interim_data + 'sales_df.csv', dtype={'FOLIO': object, 'DOR_CODE': object, 'NBHC': object, 'SECTION_CD': object, 'TOWNSHIP_CD': object, 'RANGE_CD': object, 'MARKET_AREA_CD': object}, parse_dates=['S_DATE'])\n"
     ]
    },
    {
     "name": "stdout",
     "output_type": "stream",
     "text": [
      "<class 'pandas.core.frame.DataFrame'>\n",
      "RangeIndex: 799380 entries, 0 to 799379\n",
      "Data columns (total 42 columns):\n",
      " #   Column           Non-Null Count   Dtype         \n",
      "---  ------           --------------   -----         \n",
      " 0   FOLIO            799380 non-null  object        \n",
      " 1   DOR_CODE         799380 non-null  object        \n",
      " 2   S_DATE           799380 non-null  datetime64[ns]\n",
      " 3   VI               799380 non-null  object        \n",
      " 4   QU               799380 non-null  object        \n",
      " 5   REA_CD           799380 non-null  object        \n",
      " 6   S_AMT            799380 non-null  float64       \n",
      " 7   SUB              799380 non-null  object        \n",
      " 8   S_TYPE           799380 non-null  object        \n",
      " 9   ORIG_SALES_DATE  799380 non-null  object        \n",
      " 10  SITE_ADDR        799325 non-null  object        \n",
      " 11  SITE_CITY        799373 non-null  object        \n",
      " 12  SITE_ZIP         799380 non-null  object        \n",
      " 13  tBEDS            799380 non-null  float64       \n",
      " 14  tBATHS           799380 non-null  float64       \n",
      " 15  tSTORIES         799380 non-null  float64       \n",
      " 16  tUNITS           799380 non-null  float64       \n",
      " 17  tBLDGS           799380 non-null  float64       \n",
      " 18  JUST             799380 non-null  float64       \n",
      " 19  LAND             799380 non-null  float64       \n",
      " 20  BLDG             799380 non-null  float64       \n",
      " 21  EXF              799380 non-null  float64       \n",
      " 22  ACT              799380 non-null  int64         \n",
      " 23  EFF              799380 non-null  int64         \n",
      " 24  HEAT_AR          799380 non-null  float64       \n",
      " 25  ASD_VAL          799380 non-null  float64       \n",
      " 26  TAX_VAL          799380 non-null  float64       \n",
      " 27  SD1              799380 non-null  object        \n",
      " 28  SD2              799380 non-null  object        \n",
      " 29  TIF              799380 non-null  object        \n",
      " 30  BASE             799380 non-null  int64         \n",
      " 31  ACREAGE          799380 non-null  float64       \n",
      " 32  NBHC             799380 non-null  object        \n",
      " 33  MUNICIPALITY_CD  799380 non-null  object        \n",
      " 34  SECTION_CD       799380 non-null  object        \n",
      " 35  TOWNSHIP_CD      799380 non-null  object        \n",
      " 36  RANGE_CD         799380 non-null  object        \n",
      " 37  BLOCK_NUM        799380 non-null  object        \n",
      " 38  LOT_NUM          799380 non-null  object        \n",
      " 39  MARKET_AREA_CD   799380 non-null  object        \n",
      " 40  REGION           799380 non-null  object        \n",
      " 41  AGE              799380 non-null  int64         \n",
      "dtypes: datetime64[ns](1), float64(14), int64(4), object(23)\n",
      "memory usage: 256.1+ MB\n"
     ]
    }
   ],
   "source": [
    "df = pd.read_csv(interim_data + 'sales_df.csv', dtype={'FOLIO': object, 'DOR_CODE': object, 'NBHC': object, 'SECTION_CD': object, 'TOWNSHIP_CD': object, 'RANGE_CD': object, 'MARKET_AREA_CD': object}, parse_dates=['S_DATE'])\n",
    "df.info()"
   ]
  },
  {
   "cell_type": "markdown",
   "id": "459dd632",
   "metadata": {},
   "source": [
    "# 4 Select Features for Engineering<a id='4'></a>"
   ]
  },
  {
   "cell_type": "code",
   "execution_count": 4,
   "id": "be4011ba",
   "metadata": {},
   "outputs": [],
   "source": [
    "# Replace S_DATE with integer sales date epoch\n",
    "df['sales_date_epoch'] = (df['S_DATE'] - dt.datetime(1970,1,1)).dt.days"
   ]
  },
  {
   "cell_type": "code",
   "execution_count": 5,
   "id": "c43367e5",
   "metadata": {},
   "outputs": [
    {
     "name": "stdout",
     "output_type": "stream",
     "text": [
      "<class 'pandas.core.frame.DataFrame'>\n",
      "RangeIndex: 799380 entries, 0 to 799379\n",
      "Data columns (total 43 columns):\n",
      " #   Column            Non-Null Count   Dtype         \n",
      "---  ------            --------------   -----         \n",
      " 0   FOLIO             799380 non-null  object        \n",
      " 1   DOR_CODE          799380 non-null  object        \n",
      " 2   S_DATE            799380 non-null  datetime64[ns]\n",
      " 3   VI                799380 non-null  object        \n",
      " 4   QU                799380 non-null  object        \n",
      " 5   REA_CD            799380 non-null  object        \n",
      " 6   S_AMT             799380 non-null  float64       \n",
      " 7   SUB               799380 non-null  object        \n",
      " 8   S_TYPE            799380 non-null  object        \n",
      " 9   ORIG_SALES_DATE   799380 non-null  object        \n",
      " 10  SITE_ADDR         799325 non-null  object        \n",
      " 11  SITE_CITY         799373 non-null  object        \n",
      " 12  SITE_ZIP          799380 non-null  object        \n",
      " 13  tBEDS             799380 non-null  float64       \n",
      " 14  tBATHS            799380 non-null  float64       \n",
      " 15  tSTORIES          799380 non-null  float64       \n",
      " 16  tUNITS            799380 non-null  float64       \n",
      " 17  tBLDGS            799380 non-null  float64       \n",
      " 18  JUST              799380 non-null  float64       \n",
      " 19  LAND              799380 non-null  float64       \n",
      " 20  BLDG              799380 non-null  float64       \n",
      " 21  EXF               799380 non-null  float64       \n",
      " 22  ACT               799380 non-null  int64         \n",
      " 23  EFF               799380 non-null  int64         \n",
      " 24  HEAT_AR           799380 non-null  float64       \n",
      " 25  ASD_VAL           799380 non-null  float64       \n",
      " 26  TAX_VAL           799380 non-null  float64       \n",
      " 27  SD1               799380 non-null  object        \n",
      " 28  SD2               799380 non-null  object        \n",
      " 29  TIF               799380 non-null  object        \n",
      " 30  BASE              799380 non-null  int64         \n",
      " 31  ACREAGE           799380 non-null  float64       \n",
      " 32  NBHC              799380 non-null  float64       \n",
      " 33  MUNICIPALITY_CD   799380 non-null  object        \n",
      " 34  SECTION_CD        799380 non-null  object        \n",
      " 35  TOWNSHIP_CD       799380 non-null  object        \n",
      " 36  RANGE_CD          799380 non-null  object        \n",
      " 37  BLOCK_NUM         799380 non-null  object        \n",
      " 38  LOT_NUM           799380 non-null  object        \n",
      " 39  MARKET_AREA_CD    799380 non-null  object        \n",
      " 40  REGION            799380 non-null  object        \n",
      " 41  AGE               799380 non-null  int64         \n",
      " 42  sales_date_epoch  799380 non-null  int64         \n",
      "dtypes: datetime64[ns](1), float64(15), int64(5), object(22)\n",
      "memory usage: 262.2+ MB\n"
     ]
    }
   ],
   "source": [
    "df['NBHC'] = pd.to_numeric(df['NBHC'])\n",
    "df.info()"
   ]
  },
  {
   "cell_type": "code",
   "execution_count": 6,
   "id": "45b1ad83",
   "metadata": {},
   "outputs": [],
   "source": [
    "# Filter for only Single Family Residential Homes ('0100')\n",
    "# df = df[df['DOR_CODE'] == '0100']"
   ]
  },
  {
   "cell_type": "code",
   "execution_count": 7,
   "id": "73976aeb",
   "metadata": {},
   "outputs": [],
   "source": [
    "# Filter for current Sale Dates\n",
    "df = df[(df['S_DATE'] >= '2018-01-01') & (df['S_DATE'] < '2021-01-01')]"
   ]
  },
  {
   "cell_type": "code",
   "execution_count": 8,
   "id": "b4b34bd1",
   "metadata": {},
   "outputs": [],
   "source": [
    "# Filter for number of Bedrooms, Bathrooms, Buildings, Units, and Stories\n",
    "df = df[(df['tBEDS'] >= 3) & (df['tBEDS'] <= 5)]\n",
    "df = df[(df['tBATHS'] >= 1) & (df['tBATHS'] <= 4)]\n",
    "df = df[df['tBLDGS'] == 1]\n",
    "df = df[df['tUNITS'] == 1]\n",
    "df = df[(df['tSTORIES'] >= 1) & (df['tSTORIES'] <= 2)]"
   ]
  },
  {
   "cell_type": "code",
   "execution_count": 9,
   "id": "e6ff2162",
   "metadata": {},
   "outputs": [],
   "source": [
    "# Filter for Age of Home at time of Sale\n",
    "df = df[df.AGE < 20]"
   ]
  },
  {
   "cell_type": "code",
   "execution_count": 10,
   "id": "9aaa1dbf",
   "metadata": {},
   "outputs": [],
   "source": [
    "# Extract independent feature variables to X\n",
    "features = ['FOLIO', 'S_DATE', 'SUB', 'sales_date_epoch', 'AGE', 'tBEDS', 'tBATHS', 'HEAT_AR', 'ACREAGE', 'NBHC']\n",
    "X = df[features] "
   ]
  },
  {
   "cell_type": "code",
   "execution_count": 11,
   "id": "7668e88d",
   "metadata": {},
   "outputs": [],
   "source": [
    "# Extract target dependent variable to y\n",
    "y = df.S_AMT"
   ]
  },
  {
   "cell_type": "code",
   "execution_count": 12,
   "id": "90eb6503",
   "metadata": {},
   "outputs": [
    {
     "name": "stdout",
     "output_type": "stream",
     "text": [
      "(26977, 10) (26977,)\n",
      "(6745, 10) (6745,)\n"
     ]
    }
   ],
   "source": [
    "# Call train_test_split on X, y. \n",
    "X_train, X_test, y_train, y_test = train_test_split(X, y, test_size=0.20, random_state=42) \n",
    "print(X_train.shape, y_train.shape)\n",
    "print(X_test.shape, y_test.shape)"
   ]
  },
  {
   "cell_type": "code",
   "execution_count": 13,
   "id": "d7825d0d",
   "metadata": {},
   "outputs": [
    {
     "data": {
      "image/png": "[encoded data removed]",
      "text/plain": [
       "<Figure size 1440x1440 with 9 Axes>"
      ]
     },
     "metadata": {
      "needs_background": "light"
     },
     "output_type": "display_data"
    }
   ],
   "source": [
    "X_train.hist(figsize=(20, 20))\n",
    "plt.show()"
   ]
  },
  {
   "cell_type": "markdown",
   "id": "318d1139",
   "metadata": {},
   "source": [
    "# 5 Encode Features<a id='5'></a>"
   ]
  },
  {
   "cell_type": "markdown",
   "id": "009ccd3b",
   "metadata": {},
   "source": [
    "Hash Encode the Subdivision Code"
   ]
  },
  {
   "cell_type": "code",
   "execution_count": 14,
   "id": "d444be67",
   "metadata": {},
   "outputs": [
    {
     "name": "stderr",
     "output_type": "stream",
     "text": [
      "C:\\Users\\mkars\\anaconda3\\lib\\site-packages\\category_encoders\\utils.py:21: FutureWarning: is_categorical is deprecated and will be removed in a future version. Use is_categorical_dtype instead.\n",
      "  elif pd.api.types.is_categorical(cols):\n"
     ]
    },
    {
     "data": {
      "text/html": [
       "<div>\n",
       "<style scoped>\n",
       "    .dataframe tbody tr th:only-of-type {\n",
       "        vertical-align: middle;\n",
       "    }\n",
       "\n",
       "    .dataframe tbody tr th {\n",
       "        vertical-align: top;\n",
       "    }\n",
       "\n",
       "    .dataframe thead th {\n",
       "        text-align: right;\n",
       "    }\n",
       "</style>\n",
       "<table border=\"1\" class=\"dataframe\">\n",
       "  <thead>\n",
       "    <tr style=\"text-align: right;\">\n",
       "      <th></th>\n",
       "      <th>FOLIO</th>\n",
       "      <th>S_DATE</th>\n",
       "      <th>sales_date_epoch</th>\n",
       "      <th>AGE</th>\n",
       "      <th>tBEDS</th>\n",
       "      <th>tBATHS</th>\n",
       "      <th>HEAT_AR</th>\n",
       "      <th>ACREAGE</th>\n",
       "      <th>NBHC</th>\n",
       "      <th>SUB_encoded</th>\n",
       "    </tr>\n",
       "  </thead>\n",
       "  <tbody>\n",
       "    <tr>\n",
       "      <th>505673</th>\n",
       "      <td>0777141464</td>\n",
       "      <td>2020-04-15</td>\n",
       "      <td>18367</td>\n",
       "      <td>0</td>\n",
       "      <td>5.0</td>\n",
       "      <td>3.5</td>\n",
       "      <td>3834.0</td>\n",
       "      <td>0.138889</td>\n",
       "      <td>226015.0</td>\n",
       "      <td>279866.666667</td>\n",
       "    </tr>\n",
       "    <tr>\n",
       "      <th>292949</th>\n",
       "      <td>0541631178</td>\n",
       "      <td>2019-10-16</td>\n",
       "      <td>18185</td>\n",
       "      <td>0</td>\n",
       "      <td>5.0</td>\n",
       "      <td>3.0</td>\n",
       "      <td>3349.0</td>\n",
       "      <td>0.141123</td>\n",
       "      <td>226001.0</td>\n",
       "      <td>255479.865772</td>\n",
       "    </tr>\n",
       "    <tr>\n",
       "      <th>298740</th>\n",
       "      <td>0542457044</td>\n",
       "      <td>2019-02-27</td>\n",
       "      <td>17954</td>\n",
       "      <td>0</td>\n",
       "      <td>4.0</td>\n",
       "      <td>2.5</td>\n",
       "      <td>2613.0</td>\n",
       "      <td>0.137741</td>\n",
       "      <td>228005.0</td>\n",
       "      <td>216755.833333</td>\n",
       "    </tr>\n",
       "    <tr>\n",
       "      <th>515711</th>\n",
       "      <td>0777960772</td>\n",
       "      <td>2020-06-30</td>\n",
       "      <td>18443</td>\n",
       "      <td>0</td>\n",
       "      <td>3.0</td>\n",
       "      <td>2.0</td>\n",
       "      <td>2076.0</td>\n",
       "      <td>0.137744</td>\n",
       "      <td>226001.0</td>\n",
       "      <td>313706.666667</td>\n",
       "    </tr>\n",
       "    <tr>\n",
       "      <th>481685</th>\n",
       "      <td>0772851476</td>\n",
       "      <td>2019-03-15</td>\n",
       "      <td>17970</td>\n",
       "      <td>15</td>\n",
       "      <td>3.0</td>\n",
       "      <td>2.0</td>\n",
       "      <td>1341.0</td>\n",
       "      <td>0.143614</td>\n",
       "      <td>226003.0</td>\n",
       "      <td>186120.110389</td>\n",
       "    </tr>\n",
       "  </tbody>\n",
       "</table>\n",
       "</div>"
      ],
      "text/plain": [
       "             FOLIO     S_DATE  sales_date_epoch  AGE  tBEDS  tBATHS  HEAT_AR  \\\n",
       "505673  0777141464 2020-04-15             18367    0    5.0     3.5   3834.0   \n",
       "292949  0541631178 2019-10-16             18185    0    5.0     3.0   3349.0   \n",
       "298740  0542457044 2019-02-27             17954    0    4.0     2.5   2613.0   \n",
       "515711  0777960772 2020-06-30             18443    0    3.0     2.0   2076.0   \n",
       "481685  0772851476 2019-03-15             17970   15    3.0     2.0   1341.0   \n",
       "\n",
       "         ACREAGE      NBHC    SUB_encoded  \n",
       "505673  0.138889  226015.0  279866.666667  \n",
       "292949  0.141123  226001.0  255479.865772  \n",
       "298740  0.137741  228005.0  216755.833333  \n",
       "515711  0.137744  226001.0  313706.666667  \n",
       "481685  0.143614  226003.0  186120.110389  "
      ]
     },
     "execution_count": 14,
     "metadata": {},
     "output_type": "execute_result"
    }
   ],
   "source": [
    "ce_target = ce.TargetEncoder()\n",
    "X_train['SUB_encoded'] = ce_target.fit_transform(X_train['SUB'], y_train)\n",
    "X_train.drop('SUB', axis=1, inplace=True)\n",
    "X_train.head()"
   ]
  },
  {
   "cell_type": "code",
   "execution_count": 15,
   "id": "42299cd1",
   "metadata": {},
   "outputs": [
    {
     "data": {
      "text/html": [
       "<div>\n",
       "<style scoped>\n",
       "    .dataframe tbody tr th:only-of-type {\n",
       "        vertical-align: middle;\n",
       "    }\n",
       "\n",
       "    .dataframe tbody tr th {\n",
       "        vertical-align: top;\n",
       "    }\n",
       "\n",
       "    .dataframe thead th {\n",
       "        text-align: right;\n",
       "    }\n",
       "</style>\n",
       "<table border=\"1\" class=\"dataframe\">\n",
       "  <thead>\n",
       "    <tr style=\"text-align: right;\">\n",
       "      <th></th>\n",
       "      <th>FOLIO</th>\n",
       "      <th>S_DATE</th>\n",
       "      <th>sales_date_epoch</th>\n",
       "      <th>AGE</th>\n",
       "      <th>tBEDS</th>\n",
       "      <th>tBATHS</th>\n",
       "      <th>HEAT_AR</th>\n",
       "      <th>ACREAGE</th>\n",
       "      <th>NBHC</th>\n",
       "      <th>SUB_encoded</th>\n",
       "    </tr>\n",
       "  </thead>\n",
       "  <tbody>\n",
       "    <tr>\n",
       "      <th>487411</th>\n",
       "      <td>0774361334</td>\n",
       "      <td>2019-06-03</td>\n",
       "      <td>18050</td>\n",
       "      <td>9</td>\n",
       "      <td>5.0</td>\n",
       "      <td>3.5</td>\n",
       "      <td>3453.0</td>\n",
       "      <td>0.176768</td>\n",
       "      <td>226004.0</td>\n",
       "      <td>248675.714286</td>\n",
       "    </tr>\n",
       "    <tr>\n",
       "      <th>299312</th>\n",
       "      <td>0542460802</td>\n",
       "      <td>2020-08-28</td>\n",
       "      <td>18502</td>\n",
       "      <td>0</td>\n",
       "      <td>4.0</td>\n",
       "      <td>2.0</td>\n",
       "      <td>1935.0</td>\n",
       "      <td>0.136275</td>\n",
       "      <td>228005.0</td>\n",
       "      <td>232962.962963</td>\n",
       "    </tr>\n",
       "    <tr>\n",
       "      <th>502724</th>\n",
       "      <td>0776879516</td>\n",
       "      <td>2019-09-20</td>\n",
       "      <td>18159</td>\n",
       "      <td>0</td>\n",
       "      <td>4.0</td>\n",
       "      <td>2.0</td>\n",
       "      <td>2056.0</td>\n",
       "      <td>0.137866</td>\n",
       "      <td>226013.0</td>\n",
       "      <td>240683.333333</td>\n",
       "    </tr>\n",
       "    <tr>\n",
       "      <th>261498</th>\n",
       "      <td>0475180720</td>\n",
       "      <td>2020-04-07</td>\n",
       "      <td>18359</td>\n",
       "      <td>0</td>\n",
       "      <td>5.0</td>\n",
       "      <td>2.5</td>\n",
       "      <td>2415.0</td>\n",
       "      <td>0.101012</td>\n",
       "      <td>222004.0</td>\n",
       "      <td>249601.941748</td>\n",
       "    </tr>\n",
       "    <tr>\n",
       "      <th>515356</th>\n",
       "      <td>0777960114</td>\n",
       "      <td>2018-02-06</td>\n",
       "      <td>17568</td>\n",
       "      <td>0</td>\n",
       "      <td>4.0</td>\n",
       "      <td>2.0</td>\n",
       "      <td>2022.0</td>\n",
       "      <td>0.155844</td>\n",
       "      <td>226001.0</td>\n",
       "      <td>299937.856250</td>\n",
       "    </tr>\n",
       "  </tbody>\n",
       "</table>\n",
       "</div>"
      ],
      "text/plain": [
       "             FOLIO     S_DATE  sales_date_epoch  AGE  tBEDS  tBATHS  HEAT_AR  \\\n",
       "487411  0774361334 2019-06-03             18050    9    5.0     3.5   3453.0   \n",
       "299312  0542460802 2020-08-28             18502    0    4.0     2.0   1935.0   \n",
       "502724  0776879516 2019-09-20             18159    0    4.0     2.0   2056.0   \n",
       "261498  0475180720 2020-04-07             18359    0    5.0     2.5   2415.0   \n",
       "515356  0777960114 2018-02-06             17568    0    4.0     2.0   2022.0   \n",
       "\n",
       "         ACREAGE      NBHC    SUB_encoded  \n",
       "487411  0.176768  226004.0  248675.714286  \n",
       "299312  0.136275  228005.0  232962.962963  \n",
       "502724  0.137866  226013.0  240683.333333  \n",
       "261498  0.101012  222004.0  249601.941748  \n",
       "515356  0.155844  226001.0  299937.856250  "
      ]
     },
     "execution_count": 15,
     "metadata": {},
     "output_type": "execute_result"
    }
   ],
   "source": [
    "X_test['SUB_encoded'] = ce_target.transform(X_test['SUB'])\n",
    "X_test.drop('SUB', axis=1, inplace=True)\n",
    "X_test.head()"
   ]
  },
  {
   "cell_type": "markdown",
   "id": "aaea6207",
   "metadata": {},
   "source": [
    "ce_hash = ce.HashingEncoder(cols = ['SUB'])\n",
    "X_train = ce_hash.fit_transform(X_train)\n",
    "X_train.head()"
   ]
  },
  {
   "cell_type": "markdown",
   "id": "2497d562",
   "metadata": {},
   "source": [
    "X_test = ce_hash.transform(X_test)\n",
    "X_test.head()"
   ]
  },
  {
   "cell_type": "markdown",
   "id": "9b4a7a01",
   "metadata": {},
   "source": [
    "# 6 Scale Features<a id='6'></a>"
   ]
  },
  {
   "cell_type": "code",
   "execution_count": 16,
   "id": "227a1b97",
   "metadata": {},
   "outputs": [
    {
     "data": {
      "text/plain": [
       "Index(['sales_date_epoch', 'AGE', 'tBEDS', 'tBATHS', 'HEAT_AR', 'ACREAGE',\n",
       "       'NBHC', 'SUB_encoded'],\n",
       "      dtype='object')"
      ]
     },
     "execution_count": 16,
     "metadata": {},
     "output_type": "execute_result"
    }
   ],
   "source": [
    "num_cols = X_train.select_dtypes(include=np.number).columns\n",
    "num_cols"
   ]
  },
  {
   "cell_type": "code",
   "execution_count": 17,
   "id": "adb9f78e",
   "metadata": {},
   "outputs": [],
   "source": [
    "# Apply a standard scaler to the training data\n",
    "X_train_scaled = X_train\n",
    "SS_scaler = StandardScaler()\n",
    "X_train_scaled[num_cols] = SS_scaler.fit_transform(X_train_scaled[num_cols])"
   ]
  },
  {
   "cell_type": "code",
   "execution_count": 18,
   "id": "99d7c0b0",
   "metadata": {},
   "outputs": [],
   "source": [
    "X_test_scaled = X_test\n",
    "X_test_scaled[num_cols] = SS_scaler.transform(X_test_scaled[num_cols])"
   ]
  },
  {
   "cell_type": "code",
   "execution_count": 19,
   "id": "1b011c14",
   "metadata": {},
   "outputs": [
    {
     "data": {
      "image/png": "[encoded data removed]",
      "text/plain": [
       "<Figure size 1440x1440 with 9 Axes>"
      ]
     },
     "metadata": {
      "needs_background": "light"
     },
     "output_type": "display_data"
    }
   ],
   "source": [
    "X_train_scaled.hist(figsize=(20, 20))\n",
    "plt.show()"
   ]
  },
  {
   "cell_type": "markdown",
   "id": "c702b2c4",
   "metadata": {},
   "source": [
    "# 7 Export Train and Test Data to CSV<a id='7'></a>"
   ]
  },
  {
   "cell_type": "code",
   "execution_count": 20,
   "id": "ec0ce397",
   "metadata": {},
   "outputs": [],
   "source": [
    "# Save unscaled data to interim data folder as csv files\n",
    "X_train.to_csv(interim_data + 'X_train.csv', index=False)\n",
    "X_test.to_csv(interim_data + 'X_test.csv', index=False)\n",
    "y_train.to_csv(interim_data + 'y_train.csv', index=False)\n",
    "y_test.to_csv(interim_data + 'y_test.csv', index=False)"
   ]
  },
  {
   "cell_type": "code",
   "execution_count": 21,
   "id": "374557bf",
   "metadata": {
    "scrolled": false
   },
   "outputs": [],
   "source": [
    "# Save unscaled data to interim data folder as csv files\n",
    "X_train_scaled.to_csv(interim_data + 'X_train_scaled.csv', index=False)\n",
    "X_test_scaled.to_csv(interim_data + 'X_test_scaled.csv', index=False)"
   ]
  }
 ],
 "metadata": {
  "kernelspec": {
   "display_name": "Python 3 (ipykernel)",
   "language": "python",
   "name": "python3"
  },
  "language_info": {
   "codemirror_mode": {
    "name": "ipython",
    "version": 3
   },
   "file_extension": ".py",
   "mimetype": "text/x-python",
   "name": "python",
   "nbconvert_exporter": "python",
   "pygments_lexer": "ipython3",
   "version": "3.9.7"
  }
 },
 "nbformat": 4,
 "nbformat_minor": 5
}
