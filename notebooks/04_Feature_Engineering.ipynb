{
 "cells": [
  {
   "cell_type": "markdown",
   "id": "247ec23b",
   "metadata": {},
   "source": [
    "# Tampa Real-Estate Recommender\n",
    "## Feature Engineering\n",
    "TB Real Estate Corporation is a real estate investment firm in the Tampa Bay, Florida area.  The real estate market in the Tampa Bay area is very active.  Single family homes are selling quickly.  TB Real Estate Corporation needs to be able to assess the value of homes coming onto the market quickly and accurately so that they can beat the competition in making a competitive offer.   They need to be able to evaluate the listing price against the predicted sale price in order to identify properties that may be priced below market value and would make good investments.  \n",
    "<br>\n",
    "The objective of the Feature Engineering is to prepare the features and to build training and testing datasets to optimally support the machine learning models in order to predict the sales price for residential properties."
   ]
  },
  {
   "cell_type": "markdown",
   "id": "d4cbaa86",
   "metadata": {},
   "source": [
    "# 1 Imports and File Locations<a id='1'></a>"
   ]
  },
  {
   "cell_type": "code",
   "execution_count": 1,
   "id": "ffd0965b",
   "metadata": {},
   "outputs": [],
   "source": [
    "import pandas as pd\n",
    "import numpy as np\n",
    "import matplotlib.pyplot as plt\n",
    "import seaborn as sns\n",
    "import datetime as dt\n",
    "import category_encoders as ce\n",
    "from sklearn.model_selection import train_test_split\n",
    "from sklearn.preprocessing import StandardScaler\n",
    "import category_encoders as ce"
   ]
  },
  {
   "cell_type": "code",
   "execution_count": 2,
   "id": "64c763f6",
   "metadata": {},
   "outputs": [],
   "source": [
    "ext_data = '../data/external/'\n",
    "raw_data = '../data/raw/'\n",
    "interim_data = '../data/interim/'\n",
    "report_figures = '../reports/figures/'"
   ]
  },
  {
   "cell_type": "markdown",
   "id": "45602ace",
   "metadata": {},
   "source": [
    "# 2 Read Sales data into dataframe<a id='2'></a>"
   ]
  },
  {
   "cell_type": "code",
   "execution_count": 3,
   "id": "7dbb8c9f",
   "metadata": {},
   "outputs": [
    {
     "name": "stderr",
     "output_type": "stream",
     "text": [
      "C:\\Users\\mkars\\AppData\\Local\\Temp\\ipykernel_22700\\2366488356.py:1: DtypeWarning: Columns (27,28,29,38) have mixed types. Specify dtype option on import or set low_memory=False.\n",
      "  df = pd.read_csv(interim_data + 'sales_df.csv', dtype={'FOLIO': object, 'DOR_CODE': object, 'NBHC': object, 'SECTION_CD': object, 'TOWNSHIP_CD': object, 'RANGE_CD': object, 'MARKET_AREA_CD': object}, parse_dates=['S_DATE'])\n"
     ]
    },
    {
     "name": "stdout",
     "output_type": "stream",
     "text": [
      "<class 'pandas.core.frame.DataFrame'>\n",
      "RangeIndex: 799380 entries, 0 to 799379\n",
      "Data columns (total 42 columns):\n",
      " #   Column           Non-Null Count   Dtype         \n",
      "---  ------           --------------   -----         \n",
      " 0   FOLIO            799380 non-null  object        \n",
      " 1   DOR_CODE         799380 non-null  object        \n",
      " 2   S_DATE           799380 non-null  datetime64[ns]\n",
      " 3   VI               799380 non-null  object        \n",
      " 4   QU               799380 non-null  object        \n",
      " 5   REA_CD           799380 non-null  object        \n",
      " 6   S_AMT            799380 non-null  float64       \n",
      " 7   SUB              799380 non-null  object        \n",
      " 8   S_TYPE           799380 non-null  object        \n",
      " 9   ORIG_SALES_DATE  799380 non-null  object        \n",
      " 10  SITE_ADDR        799325 non-null  object        \n",
      " 11  SITE_CITY        799373 non-null  object        \n",
      " 12  SITE_ZIP         799380 non-null  object        \n",
      " 13  tBEDS            799380 non-null  float64       \n",
      " 14  tBATHS           799380 non-null  float64       \n",
      " 15  tSTORIES         799380 non-null  float64       \n",
      " 16  tUNITS           799380 non-null  float64       \n",
      " 17  tBLDGS           799380 non-null  float64       \n",
      " 18  JUST             799380 non-null  float64       \n",
      " 19  LAND             799380 non-null  float64       \n",
      " 20  BLDG             799380 non-null  float64       \n",
      " 21  EXF              799380 non-null  float64       \n",
      " 22  ACT              799380 non-null  int64         \n",
      " 23  EFF              799380 non-null  int64         \n",
      " 24  HEAT_AR          799380 non-null  float64       \n",
      " 25  ASD_VAL          799380 non-null  float64       \n",
      " 26  TAX_VAL          799380 non-null  float64       \n",
      " 27  SD1              799380 non-null  object        \n",
      " 28  SD2              799380 non-null  object        \n",
      " 29  TIF              799380 non-null  object        \n",
      " 30  BASE             799380 non-null  int64         \n",
      " 31  ACREAGE          799380 non-null  float64       \n",
      " 32  NBHC             799380 non-null  object        \n",
      " 33  MUNICIPALITY_CD  799380 non-null  object        \n",
      " 34  SECTION_CD       799380 non-null  object        \n",
      " 35  TOWNSHIP_CD      799380 non-null  object        \n",
      " 36  RANGE_CD         799380 non-null  object        \n",
      " 37  BLOCK_NUM        799380 non-null  object        \n",
      " 38  LOT_NUM          799380 non-null  object        \n",
      " 39  MARKET_AREA_CD   799380 non-null  object        \n",
      " 40  REGION           799380 non-null  object        \n",
      " 41  AGE              799380 non-null  int64         \n",
      "dtypes: datetime64[ns](1), float64(14), int64(4), object(23)\n",
      "memory usage: 256.1+ MB\n"
     ]
    }
   ],
   "source": [
    "df = pd.read_csv(interim_data + 'sales_df.csv', dtype={'FOLIO': object, 'DOR_CODE': object, 'NBHC': object, 'SECTION_CD': object, 'TOWNSHIP_CD': object, 'RANGE_CD': object, 'MARKET_AREA_CD': object}, parse_dates=['S_DATE'])\n",
    "df.info()"
   ]
  },
  {
   "cell_type": "markdown",
   "id": "459dd632",
   "metadata": {},
   "source": [
    "# 4 Select Features for Engineering<a id='4'></a>"
   ]
  },
  {
   "cell_type": "code",
   "execution_count": 4,
   "id": "be4011ba",
   "metadata": {},
   "outputs": [],
   "source": [
    "# Replace S_DATE with integer sales date epoch\n",
    "df['sales_date_epoch'] = (df['S_DATE'] - dt.datetime(1970,1,1)).dt.days"
   ]
  },
  {
   "cell_type": "code",
   "execution_count": 5,
   "id": "23f30e5d",
   "metadata": {},
   "outputs": [
    {
     "name": "stdout",
     "output_type": "stream",
     "text": [
      "<class 'pandas.core.frame.DataFrame'>\n",
      "RangeIndex: 799380 entries, 0 to 799379\n",
      "Data columns (total 43 columns):\n",
      " #   Column            Non-Null Count   Dtype         \n",
      "---  ------            --------------   -----         \n",
      " 0   FOLIO             799380 non-null  object        \n",
      " 1   DOR_CODE          799380 non-null  object        \n",
      " 2   S_DATE            799380 non-null  datetime64[ns]\n",
      " 3   VI                799380 non-null  object        \n",
      " 4   QU                799380 non-null  object        \n",
      " 5   REA_CD            799380 non-null  object        \n",
      " 6   S_AMT             799380 non-null  float64       \n",
      " 7   SUB               799380 non-null  object        \n",
      " 8   S_TYPE            799380 non-null  object        \n",
      " 9   ORIG_SALES_DATE   799380 non-null  object        \n",
      " 10  SITE_ADDR         799325 non-null  object        \n",
      " 11  SITE_CITY         799373 non-null  object        \n",
      " 12  SITE_ZIP          799380 non-null  object        \n",
      " 13  tBEDS             799380 non-null  float64       \n",
      " 14  tBATHS            799380 non-null  float64       \n",
      " 15  tSTORIES          799380 non-null  float64       \n",
      " 16  tUNITS            799380 non-null  float64       \n",
      " 17  tBLDGS            799380 non-null  float64       \n",
      " 18  JUST              799380 non-null  float64       \n",
      " 19  LAND              799380 non-null  float64       \n",
      " 20  BLDG              799380 non-null  float64       \n",
      " 21  EXF               799380 non-null  float64       \n",
      " 22  ACT               799380 non-null  int64         \n",
      " 23  EFF               799380 non-null  int64         \n",
      " 24  HEAT_AR           799380 non-null  float64       \n",
      " 25  ASD_VAL           799380 non-null  float64       \n",
      " 26  TAX_VAL           799380 non-null  float64       \n",
      " 27  SD1               799380 non-null  object        \n",
      " 28  SD2               799380 non-null  object        \n",
      " 29  TIF               799380 non-null  object        \n",
      " 30  BASE              799380 non-null  int64         \n",
      " 31  ACREAGE           799380 non-null  float64       \n",
      " 32  NBHC              799380 non-null  float64       \n",
      " 33  MUNICIPALITY_CD   799380 non-null  object        \n",
      " 34  SECTION_CD        799380 non-null  object        \n",
      " 35  TOWNSHIP_CD       799380 non-null  object        \n",
      " 36  RANGE_CD          799380 non-null  object        \n",
      " 37  BLOCK_NUM         799380 non-null  object        \n",
      " 38  LOT_NUM           799380 non-null  object        \n",
      " 39  MARKET_AREA_CD    799380 non-null  object        \n",
      " 40  REGION            799380 non-null  object        \n",
      " 41  AGE               799380 non-null  int64         \n",
      " 42  sales_date_epoch  799380 non-null  int64         \n",
      "dtypes: datetime64[ns](1), float64(15), int64(5), object(22)\n",
      "memory usage: 262.2+ MB\n"
     ]
    }
   ],
   "source": [
    "df['NBHC'] = pd.to_numeric(df['NBHC'])\n",
    "df.info()"
   ]
  },
  {
   "cell_type": "code",
   "execution_count": 6,
   "id": "771a16c9",
   "metadata": {},
   "outputs": [],
   "source": [
    "# Filter for only Single Family Residential Homes ('0100')\n",
    "df = df[df['DOR_CODE'] == '0100']"
   ]
  },
  {
   "cell_type": "code",
   "execution_count": 7,
   "id": "0baa5bc3",
   "metadata": {},
   "outputs": [],
   "source": [
    "# Filter for current Sale Dates\n",
    "df = df[(df['S_DATE'] >= '2020-01-01') & (df['S_DATE'] < '2021-01-01')]"
   ]
  },
  {
   "cell_type": "code",
   "execution_count": 8,
   "id": "ae07320e",
   "metadata": {},
   "outputs": [],
   "source": [
    "# Filter for Market Area Code\n",
    "df = df[df['MARKET_AREA_CD'] == '26']"
   ]
  },
  {
   "cell_type": "code",
   "execution_count": 9,
   "id": "b4024169",
   "metadata": {},
   "outputs": [],
   "source": [
    "# Filter for number of Bedrooms, Bathrooms, Buildings, Units, and Stories\n",
    "df = df[(df['tBEDS'] >= 3) & (df['tBEDS'] <= 5)]\n",
    "df = df[(df['tBATHS'] >= 1) & (df['tBATHS'] <= 4)]\n",
    "df = df[df['tBLDGS'] == 1]\n",
    "df = df[df['tUNITS'] == 1]\n",
    "df = df[(df['tSTORIES'] >= 1) & (df['tSTORIES'] <= 2)]"
   ]
  },
  {
   "cell_type": "code",
   "execution_count": 10,
   "id": "b73888ce",
   "metadata": {},
   "outputs": [],
   "source": [
    "# Filter for Age of Home at time of Sale\n",
    "df = df[df.AGE < 20]"
   ]
  },
  {
   "cell_type": "code",
   "execution_count": 11,
   "id": "9aaa1dbf",
   "metadata": {},
   "outputs": [],
   "source": [
    "# Extract independent feature variables to X\n",
    "features = ['FOLIO', 'S_DATE', 'SUB', 'sales_date_epoch', 'AGE', 'tBEDS', 'tBATHS', 'HEAT_AR', 'ACREAGE', 'NBHC']\n",
    "X = df[features] "
   ]
  },
  {
   "cell_type": "code",
   "execution_count": 12,
   "id": "7668e88d",
   "metadata": {},
   "outputs": [],
   "source": [
    "# Extract target dependent variable to y\n",
    "y = df.S_AMT"
   ]
  },
  {
   "cell_type": "code",
   "execution_count": 13,
   "id": "90eb6503",
   "metadata": {},
   "outputs": [
    {
     "name": "stdout",
     "output_type": "stream",
     "text": [
      "(3029, 10) (3029,)\n",
      "(758, 10) (758,)\n"
     ]
    }
   ],
   "source": [
    "# Call train_test_split on X, y. \n",
    "X_train, X_test, y_train, y_test = train_test_split(X, y, test_size=0.20, random_state=42) \n",
    "print(X_train.shape, y_train.shape)\n",
    "print(X_test.shape, y_test.shape)"
   ]
  },
  {
   "cell_type": "code",
   "execution_count": 14,
   "id": "d7825d0d",
   "metadata": {},
   "outputs": [
    {
     "data": {
      "image/png": "[encoded data removed]",
      "text/plain": [
       "<Figure size 1440x1440 with 9 Axes>"
      ]
     },
     "metadata": {
      "needs_background": "light"
     },
     "output_type": "display_data"
    }
   ],
   "source": [
    "X_train.hist(figsize=(20, 20))\n",
    "plt.show()"
   ]
  },
  {
   "cell_type": "markdown",
   "id": "318d1139",
   "metadata": {},
   "source": [
    "# 5 Encode Features<a id='5'></a>"
   ]
  },
  {
   "cell_type": "markdown",
   "id": "7d771765",
   "metadata": {},
   "source": [
    "Hash Encode the Subdivision Code"
   ]
  },
  {
   "cell_type": "code",
   "execution_count": 15,
   "id": "cd822b28",
   "metadata": {},
   "outputs": [
    {
     "name": "stderr",
     "output_type": "stream",
     "text": [
      "C:\\Users\\mkars\\anaconda3\\lib\\site-packages\\category_encoders\\utils.py:21: FutureWarning: is_categorical is deprecated and will be removed in a future version. Use is_categorical_dtype instead.\n",
      "  elif pd.api.types.is_categorical(cols):\n"
     ]
    },
    {
     "data": {
      "text/html": [
       "<div>\n",
       "<style scoped>\n",
       "    .dataframe tbody tr th:only-of-type {\n",
       "        vertical-align: middle;\n",
       "    }\n",
       "\n",
       "    .dataframe tbody tr th {\n",
       "        vertical-align: top;\n",
       "    }\n",
       "\n",
       "    .dataframe thead th {\n",
       "        text-align: right;\n",
       "    }\n",
       "</style>\n",
       "<table border=\"1\" class=\"dataframe\">\n",
       "  <thead>\n",
       "    <tr style=\"text-align: right;\">\n",
       "      <th></th>\n",
       "      <th>FOLIO</th>\n",
       "      <th>S_DATE</th>\n",
       "      <th>sales_date_epoch</th>\n",
       "      <th>AGE</th>\n",
       "      <th>tBEDS</th>\n",
       "      <th>tBATHS</th>\n",
       "      <th>HEAT_AR</th>\n",
       "      <th>ACREAGE</th>\n",
       "      <th>NBHC</th>\n",
       "      <th>SUB_encoded</th>\n",
       "    </tr>\n",
       "  </thead>\n",
       "  <tbody>\n",
       "    <tr>\n",
       "      <th>517346</th>\n",
       "      <td>0779526760</td>\n",
       "      <td>2020-09-28</td>\n",
       "      <td>18533</td>\n",
       "      <td>0</td>\n",
       "      <td>3.0</td>\n",
       "      <td>2.0</td>\n",
       "      <td>1704.0</td>\n",
       "      <td>0.149074</td>\n",
       "      <td>226001.0</td>\n",
       "      <td>221576.190599</td>\n",
       "    </tr>\n",
       "    <tr>\n",
       "      <th>514173</th>\n",
       "      <td>0777752562</td>\n",
       "      <td>2020-05-13</td>\n",
       "      <td>18395</td>\n",
       "      <td>0</td>\n",
       "      <td>4.0</td>\n",
       "      <td>2.0</td>\n",
       "      <td>1935.0</td>\n",
       "      <td>0.161241</td>\n",
       "      <td>226001.0</td>\n",
       "      <td>244865.600000</td>\n",
       "    </tr>\n",
       "    <tr>\n",
       "      <th>516915</th>\n",
       "      <td>0779526026</td>\n",
       "      <td>2020-12-22</td>\n",
       "      <td>18618</td>\n",
       "      <td>13</td>\n",
       "      <td>3.0</td>\n",
       "      <td>2.0</td>\n",
       "      <td>1252.0</td>\n",
       "      <td>0.182550</td>\n",
       "      <td>226001.0</td>\n",
       "      <td>228485.714286</td>\n",
       "    </tr>\n",
       "    <tr>\n",
       "      <th>517739</th>\n",
       "      <td>0779527472</td>\n",
       "      <td>2020-05-29</td>\n",
       "      <td>18411</td>\n",
       "      <td>0</td>\n",
       "      <td>5.0</td>\n",
       "      <td>2.5</td>\n",
       "      <td>2415.0</td>\n",
       "      <td>0.102192</td>\n",
       "      <td>226001.0</td>\n",
       "      <td>217959.036145</td>\n",
       "    </tr>\n",
       "    <tr>\n",
       "      <th>465979</th>\n",
       "      <td>0767203242</td>\n",
       "      <td>2020-07-17</td>\n",
       "      <td>18460</td>\n",
       "      <td>0</td>\n",
       "      <td>3.0</td>\n",
       "      <td>2.0</td>\n",
       "      <td>2017.0</td>\n",
       "      <td>0.137803</td>\n",
       "      <td>226003.0</td>\n",
       "      <td>301993.743662</td>\n",
       "    </tr>\n",
       "  </tbody>\n",
       "</table>\n",
       "</div>"
      ],
      "text/plain": [
       "             FOLIO     S_DATE  sales_date_epoch  AGE  tBEDS  tBATHS  HEAT_AR  \\\n",
       "517346  0779526760 2020-09-28             18533    0    3.0     2.0   1704.0   \n",
       "514173  0777752562 2020-05-13             18395    0    4.0     2.0   1935.0   \n",
       "516915  0779526026 2020-12-22             18618   13    3.0     2.0   1252.0   \n",
       "517739  0779527472 2020-05-29             18411    0    5.0     2.5   2415.0   \n",
       "465979  0767203242 2020-07-17             18460    0    3.0     2.0   2017.0   \n",
       "\n",
       "         ACREAGE      NBHC    SUB_encoded  \n",
       "517346  0.149074  226001.0  221576.190599  \n",
       "514173  0.161241  226001.0  244865.600000  \n",
       "516915  0.182550  226001.0  228485.714286  \n",
       "517739  0.102192  226001.0  217959.036145  \n",
       "465979  0.137803  226003.0  301993.743662  "
      ]
     },
     "execution_count": 15,
     "metadata": {},
     "output_type": "execute_result"
    }
   ],
   "source": [
    "ce_target = ce.TargetEncoder()\n",
    "X_train['SUB_encoded'] = ce_target.fit_transform(X_train['SUB'], y_train)\n",
    "X_train.drop('SUB', axis=1, inplace=True)\n",
    "X_train.head()"
   ]
  },
  {
   "cell_type": "code",
   "execution_count": 16,
   "id": "a153ee7e",
   "metadata": {},
   "outputs": [
    {
     "data": {
      "text/html": [
       "<div>\n",
       "<style scoped>\n",
       "    .dataframe tbody tr th:only-of-type {\n",
       "        vertical-align: middle;\n",
       "    }\n",
       "\n",
       "    .dataframe tbody tr th {\n",
       "        vertical-align: top;\n",
       "    }\n",
       "\n",
       "    .dataframe thead th {\n",
       "        text-align: right;\n",
       "    }\n",
       "</style>\n",
       "<table border=\"1\" class=\"dataframe\">\n",
       "  <thead>\n",
       "    <tr style=\"text-align: right;\">\n",
       "      <th></th>\n",
       "      <th>FOLIO</th>\n",
       "      <th>S_DATE</th>\n",
       "      <th>sales_date_epoch</th>\n",
       "      <th>AGE</th>\n",
       "      <th>tBEDS</th>\n",
       "      <th>tBATHS</th>\n",
       "      <th>HEAT_AR</th>\n",
       "      <th>ACREAGE</th>\n",
       "      <th>NBHC</th>\n",
       "      <th>SUB_encoded</th>\n",
       "    </tr>\n",
       "  </thead>\n",
       "  <tbody>\n",
       "    <tr>\n",
       "      <th>493588</th>\n",
       "      <td>0774793570</td>\n",
       "      <td>2020-07-16</td>\n",
       "      <td>18459</td>\n",
       "      <td>10</td>\n",
       "      <td>4.0</td>\n",
       "      <td>2.5</td>\n",
       "      <td>2041.0</td>\n",
       "      <td>0.160965</td>\n",
       "      <td>226005.0</td>\n",
       "      <td>261281.256116</td>\n",
       "    </tr>\n",
       "    <tr>\n",
       "      <th>504747</th>\n",
       "      <td>0776941730</td>\n",
       "      <td>2020-12-17</td>\n",
       "      <td>18613</td>\n",
       "      <td>0</td>\n",
       "      <td>3.0</td>\n",
       "      <td>2.0</td>\n",
       "      <td>1561.0</td>\n",
       "      <td>0.137741</td>\n",
       "      <td>226014.0</td>\n",
       "      <td>237494.990774</td>\n",
       "    </tr>\n",
       "    <tr>\n",
       "      <th>475192</th>\n",
       "      <td>0770576768</td>\n",
       "      <td>2020-03-03</td>\n",
       "      <td>18324</td>\n",
       "      <td>12</td>\n",
       "      <td>3.0</td>\n",
       "      <td>2.0</td>\n",
       "      <td>1557.0</td>\n",
       "      <td>0.137741</td>\n",
       "      <td>226007.0</td>\n",
       "      <td>241655.351395</td>\n",
       "    </tr>\n",
       "    <tr>\n",
       "      <th>510923</th>\n",
       "      <td>0777212182</td>\n",
       "      <td>2020-11-12</td>\n",
       "      <td>18578</td>\n",
       "      <td>16</td>\n",
       "      <td>4.0</td>\n",
       "      <td>2.5</td>\n",
       "      <td>1927.0</td>\n",
       "      <td>0.118218</td>\n",
       "      <td>226015.0</td>\n",
       "      <td>232827.358724</td>\n",
       "    </tr>\n",
       "    <tr>\n",
       "      <th>500856</th>\n",
       "      <td>0776850250</td>\n",
       "      <td>2020-02-06</td>\n",
       "      <td>18298</td>\n",
       "      <td>3</td>\n",
       "      <td>4.0</td>\n",
       "      <td>3.0</td>\n",
       "      <td>2040.0</td>\n",
       "      <td>0.131455</td>\n",
       "      <td>226013.0</td>\n",
       "      <td>298619.500181</td>\n",
       "    </tr>\n",
       "  </tbody>\n",
       "</table>\n",
       "</div>"
      ],
      "text/plain": [
       "             FOLIO     S_DATE  sales_date_epoch  AGE  tBEDS  tBATHS  HEAT_AR  \\\n",
       "493588  0774793570 2020-07-16             18459   10    4.0     2.5   2041.0   \n",
       "504747  0776941730 2020-12-17             18613    0    3.0     2.0   1561.0   \n",
       "475192  0770576768 2020-03-03             18324   12    3.0     2.0   1557.0   \n",
       "510923  0777212182 2020-11-12             18578   16    4.0     2.5   1927.0   \n",
       "500856  0776850250 2020-02-06             18298    3    4.0     3.0   2040.0   \n",
       "\n",
       "         ACREAGE      NBHC    SUB_encoded  \n",
       "493588  0.160965  226005.0  261281.256116  \n",
       "504747  0.137741  226014.0  237494.990774  \n",
       "475192  0.137741  226007.0  241655.351395  \n",
       "510923  0.118218  226015.0  232827.358724  \n",
       "500856  0.131455  226013.0  298619.500181  "
      ]
     },
     "execution_count": 16,
     "metadata": {},
     "output_type": "execute_result"
    }
   ],
   "source": [
    "X_test['SUB_encoded'] = ce_target.transform(X_test['SUB'])\n",
    "X_test.drop('SUB', axis=1, inplace=True)\n",
    "X_test.head()"
   ]
  },
  {
   "cell_type": "markdown",
   "id": "6d06b962",
   "metadata": {},
   "source": [
    "ce_hash = ce.HashingEncoder(cols = ['SUB'])\n",
    "X_train = ce_hash.fit_transform(X_train)\n",
    "X_train.head()"
   ]
  },
  {
   "cell_type": "markdown",
   "id": "a432f032",
   "metadata": {},
   "source": [
    "X_test = ce_hash.transform(X_test)\n",
    "X_test.head()"
   ]
  },
  {
   "cell_type": "markdown",
   "id": "7170f5f6",
   "metadata": {},
   "source": [
    "# 6 Scale Features<a id='6'></a>"
   ]
  },
  {
   "cell_type": "code",
   "execution_count": 17,
   "id": "6e403d42",
   "metadata": {},
   "outputs": [
    {
     "data": {
      "text/plain": [
       "Index(['sales_date_epoch', 'AGE', 'tBEDS', 'tBATHS', 'HEAT_AR', 'ACREAGE',\n",
       "       'NBHC', 'SUB_encoded'],\n",
       "      dtype='object')"
      ]
     },
     "execution_count": 17,
     "metadata": {},
     "output_type": "execute_result"
    }
   ],
   "source": [
    "num_cols = X_train.select_dtypes(include=np.number).columns\n",
    "num_cols"
   ]
  },
  {
   "cell_type": "code",
   "execution_count": 18,
   "id": "adb9f78e",
   "metadata": {},
   "outputs": [],
   "source": [
    "# Apply a standard scaler to the training data\n",
    "X_train_scaled = X_train\n",
    "SS_scaler = StandardScaler()\n",
    "X_train_scaled[num_cols] = SS_scaler.fit_transform(X_train_scaled[num_cols])"
   ]
  },
  {
   "cell_type": "code",
   "execution_count": 19,
   "id": "99d7c0b0",
   "metadata": {},
   "outputs": [],
   "source": [
    "X_test_scaled = X_test\n",
    "X_test_scaled[num_cols] = SS_scaler.transform(X_test_scaled[num_cols])"
   ]
  },
  {
   "cell_type": "code",
   "execution_count": 20,
   "id": "1b011c14",
   "metadata": {},
   "outputs": [
    {
     "data": {
      "image/png": "[encoded data removed]",
      "text/plain": [
       "<Figure size 1440x1440 with 9 Axes>"
      ]
     },
     "metadata": {
      "needs_background": "light"
     },
     "output_type": "display_data"
    }
   ],
   "source": [
    "X_train_scaled.hist(figsize=(20, 20))\n",
    "plt.show()"
   ]
  },
  {
   "cell_type": "markdown",
   "id": "e3ab56f4",
   "metadata": {},
   "source": [
    "# 7 Export Train and Test Data to CSV<a id='7'></a>"
   ]
  },
  {
   "cell_type": "code",
   "execution_count": 21,
   "id": "ec0ce397",
   "metadata": {},
   "outputs": [],
   "source": [
    "# Save unscaled data to interim data folder as csv files\n",
    "X_train.to_csv(interim_data + 'X_train.csv', index=False)\n",
    "X_test.to_csv(interim_data + 'X_test.csv', index=False)\n",
    "y_train.to_csv(interim_data + 'y_train.csv', index=False)\n",
    "y_test.to_csv(interim_data + 'y_test.csv', index=False)"
   ]
  },
  {
   "cell_type": "code",
   "execution_count": 22,
   "id": "374557bf",
   "metadata": {
    "scrolled": false
   },
   "outputs": [],
   "source": [
    "# Save unscaled data to interim data folder as csv files\n",
    "X_train_scaled.to_csv(interim_data + 'X_train_scaled.csv', index=False)\n",
    "X_test_scaled.to_csv(interim_data + 'X_test_scaled.csv', index=False)"
   ]
  }
 ],
 "metadata": {
  "kernelspec": {
   "display_name": "Python 3 (ipykernel)",
   "language": "python",
   "name": "python3"
  },
  "language_info": {
   "codemirror_mode": {
    "name": "ipython",
    "version": 3
   },
   "file_extension": ".py",
   "mimetype": "text/x-python",
   "name": "python",
   "nbconvert_exporter": "python",
   "pygments_lexer": "ipython3",
   "version": "3.9.7"
  }
 },
 "nbformat": 4,
 "nbformat_minor": 5
}
