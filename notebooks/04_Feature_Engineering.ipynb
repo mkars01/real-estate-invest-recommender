{
 "cells": [
  {
   "cell_type": "markdown",
   "id": "247ec23b",
   "metadata": {},
   "source": [
    "# Tampa Real-Estate Recommender\n",
    "## Feature Engineering\n",
    "TB Real Estate Corporation is a real estate investment firm in the Tampa Bay, Florida area.  The real estate market in the Tampa Bay area is very active.  Single family homes are selling quickly.  TB Real Estate Corporation needs to be able to assess the value of homes coming onto the market quickly and accurately so that they can beat the competition in making a competitive offer.   They need to be able to evaluate the listing price against the predicted sale price in order to identify properties that may be priced below market value and would make good investments.  \n",
    "<br>\n",
    "The objective of the Feature Engineering is to prepare the features and to build training and testing datasets to optimally support the machine learning models in order to predict the sales price for residential properties."
   ]
  },
  {
   "cell_type": "markdown",
   "id": "d4cbaa86",
   "metadata": {},
   "source": [
    "# 1 Imports and File Locations<a id='1'></a>"
   ]
  },
  {
   "cell_type": "code",
   "execution_count": 1,
   "id": "ffd0965b",
   "metadata": {},
   "outputs": [],
   "source": [
    "import pandas as pd\n",
    "import numpy as np\n",
    "import matplotlib.pyplot as plt\n",
    "import seaborn as sns\n",
    "import datetime as dt\n",
    "import category_encoders as ce\n",
    "from sklearn.model_selection import train_test_split\n",
    "from sklearn.preprocessing import StandardScaler\n",
    "import category_encoders as ce"
   ]
  },
  {
   "cell_type": "code",
   "execution_count": 2,
   "id": "64c763f6",
   "metadata": {},
   "outputs": [],
   "source": [
    "ext_data = '../data/external/'\n",
    "raw_data = '../data/raw/'\n",
    "interim_data = '../data/interim/'\n",
    "report_figures = '../reports/figures/'"
   ]
  },
  {
   "cell_type": "markdown",
   "id": "45602ace",
   "metadata": {},
   "source": [
    "# 2 Read Sales data into dataframe<a id='2'></a>"
   ]
  },
  {
   "cell_type": "code",
   "execution_count": 3,
   "id": "7dbb8c9f",
   "metadata": {},
   "outputs": [
    {
     "name": "stderr",
     "output_type": "stream",
     "text": [
      "C:\\Users\\mkars\\AppData\\Local\\Temp\\ipykernel_16944\\2366488356.py:1: DtypeWarning: Columns (27,28,29,38) have mixed types. Specify dtype option on import or set low_memory=False.\n",
      "  df = pd.read_csv(interim_data + 'sales_df.csv', dtype={'FOLIO': object, 'DOR_CODE': object, 'NBHC': object, 'SECTION_CD': object, 'TOWNSHIP_CD': object, 'RANGE_CD': object, 'MARKET_AREA_CD': object}, parse_dates=['S_DATE'])\n"
     ]
    },
    {
     "name": "stdout",
     "output_type": "stream",
     "text": [
      "<class 'pandas.core.frame.DataFrame'>\n",
      "RangeIndex: 799380 entries, 0 to 799379\n",
      "Data columns (total 42 columns):\n",
      " #   Column           Non-Null Count   Dtype         \n",
      "---  ------           --------------   -----         \n",
      " 0   FOLIO            799380 non-null  object        \n",
      " 1   DOR_CODE         799380 non-null  object        \n",
      " 2   S_DATE           799380 non-null  datetime64[ns]\n",
      " 3   VI               799380 non-null  object        \n",
      " 4   QU               799380 non-null  object        \n",
      " 5   REA_CD           799380 non-null  object        \n",
      " 6   S_AMT            799380 non-null  float64       \n",
      " 7   SUB              799380 non-null  object        \n",
      " 8   S_TYPE           799380 non-null  object        \n",
      " 9   ORIG_SALES_DATE  799380 non-null  object        \n",
      " 10  SITE_ADDR        799325 non-null  object        \n",
      " 11  SITE_CITY        799373 non-null  object        \n",
      " 12  SITE_ZIP         799380 non-null  object        \n",
      " 13  tBEDS            799380 non-null  float64       \n",
      " 14  tBATHS           799380 non-null  float64       \n",
      " 15  tSTORIES         799380 non-null  float64       \n",
      " 16  tUNITS           799380 non-null  float64       \n",
      " 17  tBLDGS           799380 non-null  float64       \n",
      " 18  JUST             799380 non-null  float64       \n",
      " 19  LAND             799380 non-null  float64       \n",
      " 20  BLDG             799380 non-null  float64       \n",
      " 21  EXF              799380 non-null  float64       \n",
      " 22  ACT              799380 non-null  int64         \n",
      " 23  EFF              799380 non-null  int64         \n",
      " 24  HEAT_AR          799380 non-null  float64       \n",
      " 25  ASD_VAL          799380 non-null  float64       \n",
      " 26  TAX_VAL          799380 non-null  float64       \n",
      " 27  SD1              799380 non-null  object        \n",
      " 28  SD2              799380 non-null  object        \n",
      " 29  TIF              799380 non-null  object        \n",
      " 30  BASE             799380 non-null  int64         \n",
      " 31  ACREAGE          799380 non-null  float64       \n",
      " 32  NBHC             799380 non-null  object        \n",
      " 33  MUNICIPALITY_CD  799380 non-null  object        \n",
      " 34  SECTION_CD       799380 non-null  object        \n",
      " 35  TOWNSHIP_CD      799380 non-null  object        \n",
      " 36  RANGE_CD         799380 non-null  object        \n",
      " 37  BLOCK_NUM        799380 non-null  object        \n",
      " 38  LOT_NUM          799380 non-null  object        \n",
      " 39  MARKET_AREA_CD   799380 non-null  object        \n",
      " 40  REGION           799380 non-null  object        \n",
      " 41  AGE              799380 non-null  int64         \n",
      "dtypes: datetime64[ns](1), float64(14), int64(4), object(23)\n",
      "memory usage: 256.1+ MB\n"
     ]
    }
   ],
   "source": [
    "df = pd.read_csv(interim_data + 'sales_df.csv', dtype={'FOLIO': object, 'DOR_CODE': object, 'NBHC': object, 'SECTION_CD': object, 'TOWNSHIP_CD': object, 'RANGE_CD': object, 'MARKET_AREA_CD': object}, parse_dates=['S_DATE'])\n",
    "df.info()"
   ]
  },
  {
   "cell_type": "markdown",
   "id": "459dd632",
   "metadata": {},
   "source": [
    "# 4 Select Features for Engineering<a id='4'></a>"
   ]
  },
  {
   "cell_type": "code",
   "execution_count": 4,
   "id": "be4011ba",
   "metadata": {},
   "outputs": [],
   "source": [
    "# Replace S_DATE with integer sales date epoch\n",
    "df['sales_date_epoch'] = (df['S_DATE'] - dt.datetime(1970,1,1)).dt.days"
   ]
  },
  {
   "cell_type": "code",
   "execution_count": 5,
   "id": "47200e40",
   "metadata": {},
   "outputs": [
    {
     "name": "stdout",
     "output_type": "stream",
     "text": [
      "<class 'pandas.core.frame.DataFrame'>\n",
      "RangeIndex: 799380 entries, 0 to 799379\n",
      "Data columns (total 43 columns):\n",
      " #   Column            Non-Null Count   Dtype         \n",
      "---  ------            --------------   -----         \n",
      " 0   FOLIO             799380 non-null  object        \n",
      " 1   DOR_CODE          799380 non-null  object        \n",
      " 2   S_DATE            799380 non-null  datetime64[ns]\n",
      " 3   VI                799380 non-null  object        \n",
      " 4   QU                799380 non-null  object        \n",
      " 5   REA_CD            799380 non-null  object        \n",
      " 6   S_AMT             799380 non-null  float64       \n",
      " 7   SUB               799380 non-null  object        \n",
      " 8   S_TYPE            799380 non-null  object        \n",
      " 9   ORIG_SALES_DATE   799380 non-null  object        \n",
      " 10  SITE_ADDR         799325 non-null  object        \n",
      " 11  SITE_CITY         799373 non-null  object        \n",
      " 12  SITE_ZIP          799380 non-null  object        \n",
      " 13  tBEDS             799380 non-null  float64       \n",
      " 14  tBATHS            799380 non-null  float64       \n",
      " 15  tSTORIES          799380 non-null  float64       \n",
      " 16  tUNITS            799380 non-null  float64       \n",
      " 17  tBLDGS            799380 non-null  float64       \n",
      " 18  JUST              799380 non-null  float64       \n",
      " 19  LAND              799380 non-null  float64       \n",
      " 20  BLDG              799380 non-null  float64       \n",
      " 21  EXF               799380 non-null  float64       \n",
      " 22  ACT               799380 non-null  int64         \n",
      " 23  EFF               799380 non-null  int64         \n",
      " 24  HEAT_AR           799380 non-null  float64       \n",
      " 25  ASD_VAL           799380 non-null  float64       \n",
      " 26  TAX_VAL           799380 non-null  float64       \n",
      " 27  SD1               799380 non-null  object        \n",
      " 28  SD2               799380 non-null  object        \n",
      " 29  TIF               799380 non-null  object        \n",
      " 30  BASE              799380 non-null  int64         \n",
      " 31  ACREAGE           799380 non-null  float64       \n",
      " 32  NBHC              799380 non-null  float64       \n",
      " 33  MUNICIPALITY_CD   799380 non-null  object        \n",
      " 34  SECTION_CD        799380 non-null  object        \n",
      " 35  TOWNSHIP_CD       799380 non-null  object        \n",
      " 36  RANGE_CD          799380 non-null  object        \n",
      " 37  BLOCK_NUM         799380 non-null  object        \n",
      " 38  LOT_NUM           799380 non-null  object        \n",
      " 39  MARKET_AREA_CD    799380 non-null  object        \n",
      " 40  REGION            799380 non-null  object        \n",
      " 41  AGE               799380 non-null  int64         \n",
      " 42  sales_date_epoch  799380 non-null  int64         \n",
      "dtypes: datetime64[ns](1), float64(15), int64(5), object(22)\n",
      "memory usage: 262.2+ MB\n"
     ]
    }
   ],
   "source": [
    "df['NBHC'] = pd.to_numeric(df['NBHC'])\n",
    "df.info()"
   ]
  },
  {
   "cell_type": "code",
   "execution_count": 6,
   "id": "77e8842b",
   "metadata": {},
   "outputs": [],
   "source": [
    "# Filter for only Single Family Residential Homes ('0100')\n",
    "df = df[df['DOR_CODE'] == '0100']"
   ]
  },
  {
   "cell_type": "code",
   "execution_count": 7,
   "id": "b3c2e103",
   "metadata": {},
   "outputs": [],
   "source": [
    "# Filter for current Sale Dates\n",
    "df = df[(df['S_DATE'] >= '2010-01-01') & (df['S_DATE'] < '2021-01-01')]"
   ]
  },
  {
   "cell_type": "code",
   "execution_count": 8,
   "id": "bce0fd1d",
   "metadata": {},
   "outputs": [],
   "source": [
    "# Filter for number of Bedrooms, Bathrooms, Buildings, Units, and Stories\n",
    "df = df[(df['tBEDS'] >= 3) & (df['tBEDS'] <= 5)]\n",
    "df = df[(df['tBATHS'] >= 1) & (df['tBATHS'] <= 4)]\n",
    "df = df[df['tBLDGS'] == 1]\n",
    "df = df[df['tUNITS'] == 1]\n",
    "df = df[(df['tSTORIES'] >= 1) & (df['tSTORIES'] <= 2)]"
   ]
  },
  {
   "cell_type": "code",
   "execution_count": 9,
   "id": "8a61c6ec",
   "metadata": {},
   "outputs": [],
   "source": [
    "# Filter for Age of Home at time of Sale\n",
    "df = df[df.AGE < 20]"
   ]
  },
  {
   "cell_type": "code",
   "execution_count": 10,
   "id": "9aaa1dbf",
   "metadata": {},
   "outputs": [],
   "source": [
    "# Extract independent feature variables to X\n",
    "features = ['FOLIO', 'S_DATE', 'SUB', 'sales_date_epoch', 'AGE', 'tBEDS', 'tBATHS', 'HEAT_AR', 'ACREAGE', 'NBHC']\n",
    "X = df[features] "
   ]
  },
  {
   "cell_type": "code",
   "execution_count": 11,
   "id": "7668e88d",
   "metadata": {},
   "outputs": [],
   "source": [
    "# Extract target dependent variable to y\n",
    "y = df.S_AMT"
   ]
  },
  {
   "cell_type": "code",
   "execution_count": 12,
   "id": "90eb6503",
   "metadata": {},
   "outputs": [
    {
     "name": "stdout",
     "output_type": "stream",
     "text": [
      "(76311, 10) (76311,)\n",
      "(19078, 10) (19078,)\n"
     ]
    }
   ],
   "source": [
    "# Call train_test_split on X, y. \n",
    "X_train, X_test, y_train, y_test = train_test_split(X, y, test_size=0.20, random_state=42) \n",
    "print(X_train.shape, y_train.shape)\n",
    "print(X_test.shape, y_test.shape)"
   ]
  },
  {
   "cell_type": "code",
   "execution_count": 13,
   "id": "d7825d0d",
   "metadata": {},
   "outputs": [
    {
     "data": {
      "image/png": "[encoded data removed]",
      "text/plain": [
       "<Figure size 1440x1440 with 9 Axes>"
      ]
     },
     "metadata": {
      "needs_background": "light"
     },
     "output_type": "display_data"
    }
   ],
   "source": [
    "X_train.hist(figsize=(20, 20))\n",
    "plt.show()"
   ]
  },
  {
   "cell_type": "markdown",
   "id": "318d1139",
   "metadata": {},
   "source": [
    "# 5 Encode Features<a id='5'></a>"
   ]
  },
  {
   "cell_type": "markdown",
   "id": "3f1e538b",
   "metadata": {},
   "source": [
    "Hash Encode the Subdivision Code"
   ]
  },
  {
   "cell_type": "code",
   "execution_count": 14,
   "id": "bc1881a5",
   "metadata": {},
   "outputs": [
    {
     "name": "stderr",
     "output_type": "stream",
     "text": [
      "C:\\Users\\mkars\\anaconda3\\lib\\site-packages\\category_encoders\\utils.py:21: FutureWarning: is_categorical is deprecated and will be removed in a future version. Use is_categorical_dtype instead.\n",
      "  elif pd.api.types.is_categorical(cols):\n"
     ]
    },
    {
     "data": {
      "text/html": [
       "<div>\n",
       "<style scoped>\n",
       "    .dataframe tbody tr th:only-of-type {\n",
       "        vertical-align: middle;\n",
       "    }\n",
       "\n",
       "    .dataframe tbody tr th {\n",
       "        vertical-align: top;\n",
       "    }\n",
       "\n",
       "    .dataframe thead th {\n",
       "        text-align: right;\n",
       "    }\n",
       "</style>\n",
       "<table border=\"1\" class=\"dataframe\">\n",
       "  <thead>\n",
       "    <tr style=\"text-align: right;\">\n",
       "      <th></th>\n",
       "      <th>FOLIO</th>\n",
       "      <th>S_DATE</th>\n",
       "      <th>sales_date_epoch</th>\n",
       "      <th>AGE</th>\n",
       "      <th>tBEDS</th>\n",
       "      <th>tBATHS</th>\n",
       "      <th>HEAT_AR</th>\n",
       "      <th>ACREAGE</th>\n",
       "      <th>NBHC</th>\n",
       "      <th>SUB_encoded</th>\n",
       "    </tr>\n",
       "  </thead>\n",
       "  <tbody>\n",
       "    <tr>\n",
       "      <th>276938</th>\n",
       "      <td>0514251596</td>\n",
       "      <td>2019-07-31</td>\n",
       "      <td>18108</td>\n",
       "      <td>0</td>\n",
       "      <td>5.0</td>\n",
       "      <td>3.0</td>\n",
       "      <td>2674.0</td>\n",
       "      <td>0.147356</td>\n",
       "      <td>222001.0</td>\n",
       "      <td>235971.698113</td>\n",
       "    </tr>\n",
       "    <tr>\n",
       "      <th>584237</th>\n",
       "      <td>0883533310</td>\n",
       "      <td>2014-06-06</td>\n",
       "      <td>16227</td>\n",
       "      <td>10</td>\n",
       "      <td>4.0</td>\n",
       "      <td>4.0</td>\n",
       "      <td>3358.0</td>\n",
       "      <td>0.432828</td>\n",
       "      <td>225001.0</td>\n",
       "      <td>249417.307692</td>\n",
       "    </tr>\n",
       "    <tr>\n",
       "      <th>306772</th>\n",
       "      <td>0556261340</td>\n",
       "      <td>2010-03-02</td>\n",
       "      <td>14670</td>\n",
       "      <td>5</td>\n",
       "      <td>4.0</td>\n",
       "      <td>2.5</td>\n",
       "      <td>1926.0</td>\n",
       "      <td>0.135972</td>\n",
       "      <td>227001.0</td>\n",
       "      <td>150607.784431</td>\n",
       "    </tr>\n",
       "    <tr>\n",
       "      <th>207582</th>\n",
       "      <td>0332490000</td>\n",
       "      <td>2011-01-14</td>\n",
       "      <td>14988</td>\n",
       "      <td>9</td>\n",
       "      <td>3.0</td>\n",
       "      <td>2.0</td>\n",
       "      <td>1200.0</td>\n",
       "      <td>0.439335</td>\n",
       "      <td>215010.0</td>\n",
       "      <td>244908.995362</td>\n",
       "    </tr>\n",
       "    <tr>\n",
       "      <th>304139</th>\n",
       "      <td>0549535404</td>\n",
       "      <td>2020-12-31</td>\n",
       "      <td>18627</td>\n",
       "      <td>14</td>\n",
       "      <td>3.0</td>\n",
       "      <td>2.0</td>\n",
       "      <td>2094.0</td>\n",
       "      <td>0.176695</td>\n",
       "      <td>228004.0</td>\n",
       "      <td>269425.000000</td>\n",
       "    </tr>\n",
       "  </tbody>\n",
       "</table>\n",
       "</div>"
      ],
      "text/plain": [
       "             FOLIO     S_DATE  sales_date_epoch  AGE  tBEDS  tBATHS  HEAT_AR  \\\n",
       "276938  0514251596 2019-07-31             18108    0    5.0     3.0   2674.0   \n",
       "584237  0883533310 2014-06-06             16227   10    4.0     4.0   3358.0   \n",
       "306772  0556261340 2010-03-02             14670    5    4.0     2.5   1926.0   \n",
       "207582  0332490000 2011-01-14             14988    9    3.0     2.0   1200.0   \n",
       "304139  0549535404 2020-12-31             18627   14    3.0     2.0   2094.0   \n",
       "\n",
       "         ACREAGE      NBHC    SUB_encoded  \n",
       "276938  0.147356  222001.0  235971.698113  \n",
       "584237  0.432828  225001.0  249417.307692  \n",
       "306772  0.135972  227001.0  150607.784431  \n",
       "207582  0.439335  215010.0  244908.995362  \n",
       "304139  0.176695  228004.0  269425.000000  "
      ]
     },
     "execution_count": 14,
     "metadata": {},
     "output_type": "execute_result"
    }
   ],
   "source": [
    "ce_target = ce.TargetEncoder()\n",
    "X_train['SUB_encoded'] = ce_target.fit_transform(X_train['SUB'], y_train)\n",
    "X_train.drop('SUB', axis=1, inplace=True)\n",
    "X_train.head()"
   ]
  },
  {
   "cell_type": "code",
   "execution_count": 15,
   "id": "bf8e0143",
   "metadata": {},
   "outputs": [
    {
     "data": {
      "text/html": [
       "<div>\n",
       "<style scoped>\n",
       "    .dataframe tbody tr th:only-of-type {\n",
       "        vertical-align: middle;\n",
       "    }\n",
       "\n",
       "    .dataframe tbody tr th {\n",
       "        vertical-align: top;\n",
       "    }\n",
       "\n",
       "    .dataframe thead th {\n",
       "        text-align: right;\n",
       "    }\n",
       "</style>\n",
       "<table border=\"1\" class=\"dataframe\">\n",
       "  <thead>\n",
       "    <tr style=\"text-align: right;\">\n",
       "      <th></th>\n",
       "      <th>FOLIO</th>\n",
       "      <th>S_DATE</th>\n",
       "      <th>sales_date_epoch</th>\n",
       "      <th>AGE</th>\n",
       "      <th>tBEDS</th>\n",
       "      <th>tBATHS</th>\n",
       "      <th>HEAT_AR</th>\n",
       "      <th>ACREAGE</th>\n",
       "      <th>NBHC</th>\n",
       "      <th>SUB_encoded</th>\n",
       "    </tr>\n",
       "  </thead>\n",
       "  <tbody>\n",
       "    <tr>\n",
       "      <th>519183</th>\n",
       "      <td>0779566732</td>\n",
       "      <td>2017-10-30</td>\n",
       "      <td>17469</td>\n",
       "      <td>0</td>\n",
       "      <td>3.0</td>\n",
       "      <td>2.5</td>\n",
       "      <td>1740.0</td>\n",
       "      <td>0.101927</td>\n",
       "      <td>228005.0</td>\n",
       "      <td>205034.615385</td>\n",
       "    </tr>\n",
       "    <tr>\n",
       "      <th>303722</th>\n",
       "      <td>0549530738</td>\n",
       "      <td>2015-12-31</td>\n",
       "      <td>16800</td>\n",
       "      <td>10</td>\n",
       "      <td>3.0</td>\n",
       "      <td>2.0</td>\n",
       "      <td>1663.0</td>\n",
       "      <td>0.174032</td>\n",
       "      <td>228004.0</td>\n",
       "      <td>208450.000008</td>\n",
       "    </tr>\n",
       "    <tr>\n",
       "      <th>556563</th>\n",
       "      <td>0867690952</td>\n",
       "      <td>2012-08-15</td>\n",
       "      <td>15567</td>\n",
       "      <td>16</td>\n",
       "      <td>3.0</td>\n",
       "      <td>2.0</td>\n",
       "      <td>1277.0</td>\n",
       "      <td>0.164922</td>\n",
       "      <td>223008.0</td>\n",
       "      <td>108481.040330</td>\n",
       "    </tr>\n",
       "    <tr>\n",
       "      <th>291669</th>\n",
       "      <td>0541571882</td>\n",
       "      <td>2016-07-22</td>\n",
       "      <td>17004</td>\n",
       "      <td>0</td>\n",
       "      <td>4.0</td>\n",
       "      <td>3.0</td>\n",
       "      <td>2644.0</td>\n",
       "      <td>0.168953</td>\n",
       "      <td>227003.0</td>\n",
       "      <td>298102.098039</td>\n",
       "    </tr>\n",
       "    <tr>\n",
       "      <th>367880</th>\n",
       "      <td>0642107646</td>\n",
       "      <td>2011-03-01</td>\n",
       "      <td>15034</td>\n",
       "      <td>8</td>\n",
       "      <td>3.0</td>\n",
       "      <td>3.0</td>\n",
       "      <td>2512.0</td>\n",
       "      <td>0.247935</td>\n",
       "      <td>220016.0</td>\n",
       "      <td>282561.363636</td>\n",
       "    </tr>\n",
       "  </tbody>\n",
       "</table>\n",
       "</div>"
      ],
      "text/plain": [
       "             FOLIO     S_DATE  sales_date_epoch  AGE  tBEDS  tBATHS  HEAT_AR  \\\n",
       "519183  0779566732 2017-10-30             17469    0    3.0     2.5   1740.0   \n",
       "303722  0549530738 2015-12-31             16800   10    3.0     2.0   1663.0   \n",
       "556563  0867690952 2012-08-15             15567   16    3.0     2.0   1277.0   \n",
       "291669  0541571882 2016-07-22             17004    0    4.0     3.0   2644.0   \n",
       "367880  0642107646 2011-03-01             15034    8    3.0     3.0   2512.0   \n",
       "\n",
       "         ACREAGE      NBHC    SUB_encoded  \n",
       "519183  0.101927  228005.0  205034.615385  \n",
       "303722  0.174032  228004.0  208450.000008  \n",
       "556563  0.164922  223008.0  108481.040330  \n",
       "291669  0.168953  227003.0  298102.098039  \n",
       "367880  0.247935  220016.0  282561.363636  "
      ]
     },
     "execution_count": 15,
     "metadata": {},
     "output_type": "execute_result"
    }
   ],
   "source": [
    "X_test['SUB_encoded'] = ce_target.transform(X_test['SUB'])\n",
    "X_test.drop('SUB', axis=1, inplace=True)\n",
    "X_test.head()"
   ]
  },
  {
   "cell_type": "markdown",
   "id": "5eb026de",
   "metadata": {},
   "source": [
    "ce_hash = ce.HashingEncoder(cols = ['SUB'])\n",
    "X_train = ce_hash.fit_transform(X_train)\n",
    "X_train.head()"
   ]
  },
  {
   "cell_type": "markdown",
   "id": "04c94315",
   "metadata": {},
   "source": [
    "X_test = ce_hash.transform(X_test)\n",
    "X_test.head()"
   ]
  },
  {
   "cell_type": "markdown",
   "id": "8badcce8",
   "metadata": {},
   "source": [
    "# 6 Scale Features<a id='6'></a>"
   ]
  },
  {
   "cell_type": "code",
   "execution_count": 16,
   "id": "e65e454d",
   "metadata": {},
   "outputs": [
    {
     "data": {
      "text/plain": [
       "Index(['sales_date_epoch', 'AGE', 'tBEDS', 'tBATHS', 'HEAT_AR', 'ACREAGE',\n",
       "       'NBHC', 'SUB_encoded'],\n",
       "      dtype='object')"
      ]
     },
     "execution_count": 16,
     "metadata": {},
     "output_type": "execute_result"
    }
   ],
   "source": [
    "num_cols = X_train.select_dtypes(include=np.number).columns\n",
    "num_cols"
   ]
  },
  {
   "cell_type": "code",
   "execution_count": 17,
   "id": "adb9f78e",
   "metadata": {},
   "outputs": [],
   "source": [
    "# Apply a standard scaler to the training data\n",
    "X_train_scaled = X_train\n",
    "SS_scaler = StandardScaler()\n",
    "X_train_scaled[num_cols] = SS_scaler.fit_transform(X_train_scaled[num_cols])"
   ]
  },
  {
   "cell_type": "code",
   "execution_count": 18,
   "id": "99d7c0b0",
   "metadata": {},
   "outputs": [],
   "source": [
    "X_test_scaled = X_test\n",
    "X_test_scaled[num_cols] = SS_scaler.transform(X_test_scaled[num_cols])"
   ]
  },
  {
   "cell_type": "code",
   "execution_count": 19,
   "id": "1b011c14",
   "metadata": {},
   "outputs": [
    {
     "data": {
      "image/png": "[encoded data removed]",
      "text/plain": [
       "<Figure size 1440x1440 with 9 Axes>"
      ]
     },
     "metadata": {
      "needs_background": "light"
     },
     "output_type": "display_data"
    }
   ],
   "source": [
    "X_train_scaled.hist(figsize=(20, 20))\n",
    "plt.show()"
   ]
  },
  {
   "cell_type": "markdown",
   "id": "95123d91",
   "metadata": {},
   "source": [
    "# 7 Export Train and Test Data to CSV<a id='7'></a>"
   ]
  },
  {
   "cell_type": "code",
   "execution_count": 20,
   "id": "ec0ce397",
   "metadata": {},
   "outputs": [],
   "source": [
    "# Save unscaled data to interim data folder as csv files\n",
    "X_train.to_csv(interim_data + 'X_train.csv', index=False)\n",
    "X_test.to_csv(interim_data + 'X_test.csv', index=False)\n",
    "y_train.to_csv(interim_data + 'y_train.csv', index=False)\n",
    "y_test.to_csv(interim_data + 'y_test.csv', index=False)"
   ]
  },
  {
   "cell_type": "code",
   "execution_count": 21,
   "id": "374557bf",
   "metadata": {
    "scrolled": false
   },
   "outputs": [],
   "source": [
    "# Save unscaled data to interim data folder as csv files\n",
    "X_train_scaled.to_csv(interim_data + 'X_train_scaled.csv', index=False)\n",
    "X_test_scaled.to_csv(interim_data + 'X_test_scaled.csv', index=False)"
   ]
  }
 ],
 "metadata": {
  "kernelspec": {
   "display_name": "Python 3 (ipykernel)",
   "language": "python",
   "name": "python3"
  },
  "language_info": {
   "codemirror_mode": {
    "name": "ipython",
    "version": 3
   },
   "file_extension": ".py",
   "mimetype": "text/x-python",
   "name": "python",
   "nbconvert_exporter": "python",
   "pygments_lexer": "ipython3",
   "version": "3.9.7"
  }
 },
 "nbformat": 4,
 "nbformat_minor": 5
}
