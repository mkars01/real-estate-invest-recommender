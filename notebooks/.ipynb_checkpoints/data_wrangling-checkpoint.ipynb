{
 "cells": [
  {
   "cell_type": "code",
   "execution_count": 1,
   "id": "2e499073",
   "metadata": {},
   "outputs": [
    {
     "name": "stdout",
     "output_type": "stream",
     "text": [
      "                             PIN       FOLIO DOR_CODE      NBHC      S_DATE  \\\n",
      "0  A-23-33-15-ZZZ-000000-00040.0  0000050000     8600  227002.0  1928-03-01   \n",
      "1  U-01-27-17-001-000000-00001.0  0000080000     0000  211007.0  2019-09-16   \n",
      "2  U-01-27-17-001-000000-00001.0  0000080000     0000  211007.0  2014-04-01   \n",
      "3  U-01-27-17-001-000000-00001.0  0000080000     0000  211007.0  2006-12-05   \n",
      "4  U-01-27-17-001-000000-00001.0  0000080000     0000  211007.0  1988-10-01   \n",
      "\n",
      "  VI QU REA_CD    S_AMT  SUB     STR S_TYPE  OR_BK OR_PG  \\\n",
      "0  V  U     38    100.0  ZZZ  233315     QC  00810  0435   \n",
      "1  V  U     11    100.0  001  012717     DD  26961  0622   \n",
      "2  V  U     11    100.0  001  012717     TR  22504  1677   \n",
      "3  V  U     11    100.0  001  012717     WD  17411  0866   \n",
      "4  V  U     38  28000.0  001  012717     WD  05528  1424   \n",
      "\n",
      "                     GRANTOR                        GRANTEE     DOC_NUM  \n",
      "0                                       HILLSBOROUGH COUNTY              \n",
      "1  SEVIGNY STEPHEN R TRUSTEE  SEVIGNY PAULINE L LIFE ESTATE  2019404632  \n",
      "2  SEVIGNY STEPHEN R TRUSTEE      SEVIGNY STEPHEN R TRUSTEE  2014113139  \n",
      "3          SEVIGNY STEPHEN R      SEVIGNY STEPHEN R TRUSTEE  2007055159  \n",
      "4                                                              88224230  \n"
     ]
    }
   ],
   "source": [
    "import pandas as pd\n",
    "import zipfile\n",
    "from dbfread import DBF\n",
    "import os\n",
    "\n",
    "zip = zipfile.ZipFile('C:/Users/mkars/Springboard/repo/real-estate-invest-recommender/raw_data/allsales_02_11_2022.zip')\n",
    "dbfFile = zip.extract('allsales.dbf')\n",
    "df = pd.DataFrame(iter(DBF(dbfFile)))\n",
    "zip.close()\n",
    "os.remove(dbfFile)\n",
    "print(df.head())"
   ]
  }
 ],
 "metadata": {
  "kernelspec": {
   "display_name": "Python 3 (ipykernel)",
   "language": "python",
   "name": "python3"
  },
  "language_info": {
   "codemirror_mode": {
    "name": "ipython",
    "version": 3
   },
   "file_extension": ".py",
   "mimetype": "text/x-python",
   "name": "python",
   "nbconvert_exporter": "python",
   "pygments_lexer": "ipython3",
   "version": "3.9.7"
  }
 },
 "nbformat": 4,
 "nbformat_minor": 5
}
