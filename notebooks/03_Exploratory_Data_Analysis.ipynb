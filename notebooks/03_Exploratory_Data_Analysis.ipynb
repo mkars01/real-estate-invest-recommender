{
 "cells": [
  {
   "cell_type": "markdown",
   "id": "4ec8179c",
   "metadata": {},
   "source": [
    "# Tampa Real-Estate Recommender\n",
    "## Exploratory Data Analysis\n",
    "TB Real Estate Corporation is a real estate investment firm in the Tampa Bay, Florida area.  The real estate market in the Tampa Bay area is very active.  Single family homes are selling quickly.  TB Real Estate Corporation needs to be able to assess the value of homes coming onto the market quickly and accurately so that they can beat the competition in making a competitive offer.   They need to be able to evaluate the listing price against the predicted sale price in order to identify properties that may be priced below market value and would make good investments.  \n",
    "<br>\n",
    "The objective of the EDA is to identify which features are the best predictors of sales price for residential properties."
   ]
  },
  {
   "cell_type": "markdown",
   "id": "4fd56911",
   "metadata": {},
   "source": [
    "# 1 Imports and File Locations<a id='1'></a>"
   ]
  },
  {
   "cell_type": "code",
   "execution_count": 1,
   "id": "fd51e677",
   "metadata": {},
   "outputs": [],
   "source": [
    "import pandas as pd\n",
    "import numpy as np\n",
    "import matplotlib.pyplot as plt\n",
    "import seaborn as sns\n",
    "import datetime"
   ]
  },
  {
   "cell_type": "code",
   "execution_count": 2,
   "id": "e38466e4",
   "metadata": {},
   "outputs": [],
   "source": [
    "ext_data = '../data/external/'\n",
    "raw_data = '../data/raw/'\n",
    "interim_data = '../data/interim/'\n",
    "report_figures = '../reports/figures/'"
   ]
  },
  {
   "cell_type": "markdown",
   "id": "95808164",
   "metadata": {},
   "source": [
    "# 2 Read Sales data into dataframe<a id='2'></a>"
   ]
  },
  {
   "cell_type": "code",
   "execution_count": 3,
   "id": "4b8b410a",
   "metadata": {},
   "outputs": [
    {
     "name": "stderr",
     "output_type": "stream",
     "text": [
      "C:\\Users\\mkars\\anaconda3\\lib\\site-packages\\IPython\\core\\interactiveshell.py:3444: DtypeWarning: Columns (26,27,28,38) have mixed types.Specify dtype option on import or set low_memory=False.\n",
      "  exec(code_obj, self.user_global_ns, self.user_ns)\n"
     ]
    },
    {
     "data": {
      "text/html": [
       "<div>\n",
       "<style scoped>\n",
       "    .dataframe tbody tr th:only-of-type {\n",
       "        vertical-align: middle;\n",
       "    }\n",
       "\n",
       "    .dataframe tbody tr th {\n",
       "        vertical-align: top;\n",
       "    }\n",
       "\n",
       "    .dataframe thead th {\n",
       "        text-align: right;\n",
       "    }\n",
       "</style>\n",
       "<table border=\"1\" class=\"dataframe\">\n",
       "  <thead>\n",
       "    <tr style=\"text-align: right;\">\n",
       "      <th></th>\n",
       "      <th>FOLIO</th>\n",
       "      <th>DOR_CODE</th>\n",
       "      <th>S_DATE</th>\n",
       "      <th>VI</th>\n",
       "      <th>QU</th>\n",
       "      <th>REA_CD</th>\n",
       "      <th>S_AMT</th>\n",
       "      <th>S_TYPE</th>\n",
       "      <th>ORIG_SALES_DATE</th>\n",
       "      <th>SITE_ADDR</th>\n",
       "      <th>...</th>\n",
       "      <th>BASE</th>\n",
       "      <th>ACREAGE</th>\n",
       "      <th>NBHC</th>\n",
       "      <th>MUNICIPALITY_CD</th>\n",
       "      <th>SECTION_CD</th>\n",
       "      <th>TOWNSHIP_CD</th>\n",
       "      <th>RANGE_CD</th>\n",
       "      <th>LAND_TYPE_ID</th>\n",
       "      <th>BLOCK_NUM</th>\n",
       "      <th>LOT_NUM</th>\n",
       "    </tr>\n",
       "  </thead>\n",
       "  <tbody>\n",
       "    <tr>\n",
       "      <th>0</th>\n",
       "      <td>80100</td>\n",
       "      <td>100</td>\n",
       "      <td>1987-08-01</td>\n",
       "      <td>I</td>\n",
       "      <td>Q</td>\n",
       "      <td>01</td>\n",
       "      <td>50000.0</td>\n",
       "      <td>WD</td>\n",
       "      <td>1985-11-01</td>\n",
       "      <td>19859 ANGEL LN</td>\n",
       "      <td>...</td>\n",
       "      <td>2016</td>\n",
       "      <td>5.058780</td>\n",
       "      <td>211007.0</td>\n",
       "      <td>U</td>\n",
       "      <td>1</td>\n",
       "      <td>27</td>\n",
       "      <td>17</td>\n",
       "      <td>001</td>\n",
       "      <td>000000</td>\n",
       "      <td>00001.1</td>\n",
       "    </tr>\n",
       "    <tr>\n",
       "      <th>1</th>\n",
       "      <td>80100</td>\n",
       "      <td>100</td>\n",
       "      <td>1985-11-01</td>\n",
       "      <td>V</td>\n",
       "      <td>Q</td>\n",
       "      <td>01</td>\n",
       "      <td>24000.0</td>\n",
       "      <td>WD</td>\n",
       "      <td>1985-11-01</td>\n",
       "      <td>19859 ANGEL LN</td>\n",
       "      <td>...</td>\n",
       "      <td>2016</td>\n",
       "      <td>5.058780</td>\n",
       "      <td>211007.0</td>\n",
       "      <td>U</td>\n",
       "      <td>1</td>\n",
       "      <td>27</td>\n",
       "      <td>17</td>\n",
       "      <td>001</td>\n",
       "      <td>000000</td>\n",
       "      <td>00001.1</td>\n",
       "    </tr>\n",
       "    <tr>\n",
       "      <th>2</th>\n",
       "      <td>90100</td>\n",
       "      <td>100</td>\n",
       "      <td>2021-10-27</td>\n",
       "      <td>I</td>\n",
       "      <td>Q</td>\n",
       "      <td>01</td>\n",
       "      <td>750000.0</td>\n",
       "      <td>WD</td>\n",
       "      <td>1973-01-01</td>\n",
       "      <td>19913 ANGEL LN</td>\n",
       "      <td>...</td>\n",
       "      <td>1973</td>\n",
       "      <td>4.438490</td>\n",
       "      <td>211007.0</td>\n",
       "      <td>U</td>\n",
       "      <td>1</td>\n",
       "      <td>27</td>\n",
       "      <td>17</td>\n",
       "      <td>001</td>\n",
       "      <td>000000</td>\n",
       "      <td>00002.1</td>\n",
       "    </tr>\n",
       "    <tr>\n",
       "      <th>3</th>\n",
       "      <td>90100</td>\n",
       "      <td>100</td>\n",
       "      <td>1997-05-01</td>\n",
       "      <td>I</td>\n",
       "      <td>Q</td>\n",
       "      <td>01</td>\n",
       "      <td>169900.0</td>\n",
       "      <td>WD</td>\n",
       "      <td>1973-01-01</td>\n",
       "      <td>19913 ANGEL LN</td>\n",
       "      <td>...</td>\n",
       "      <td>1973</td>\n",
       "      <td>4.438490</td>\n",
       "      <td>211007.0</td>\n",
       "      <td>U</td>\n",
       "      <td>1</td>\n",
       "      <td>27</td>\n",
       "      <td>17</td>\n",
       "      <td>001</td>\n",
       "      <td>000000</td>\n",
       "      <td>00002.1</td>\n",
       "    </tr>\n",
       "    <tr>\n",
       "      <th>4</th>\n",
       "      <td>100000</td>\n",
       "      <td>100</td>\n",
       "      <td>1988-06-01</td>\n",
       "      <td>I</td>\n",
       "      <td>Q</td>\n",
       "      <td>01</td>\n",
       "      <td>52500.0</td>\n",
       "      <td>WD</td>\n",
       "      <td>1977-12-01</td>\n",
       "      <td>6934 W COUNTY LINE RD</td>\n",
       "      <td>...</td>\n",
       "      <td>1994</td>\n",
       "      <td>0.992559</td>\n",
       "      <td>211007.0</td>\n",
       "      <td>U</td>\n",
       "      <td>1</td>\n",
       "      <td>27</td>\n",
       "      <td>17</td>\n",
       "      <td>001</td>\n",
       "      <td>000000</td>\n",
       "      <td>00003.0</td>\n",
       "    </tr>\n",
       "  </tbody>\n",
       "</table>\n",
       "<p>5 rows × 39 columns</p>\n",
       "</div>"
      ],
      "text/plain": [
       "    FOLIO  DOR_CODE      S_DATE VI QU REA_CD     S_AMT S_TYPE ORIG_SALES_DATE  \\\n",
       "0   80100       100  1987-08-01  I  Q     01   50000.0     WD      1985-11-01   \n",
       "1   80100       100  1985-11-01  V  Q     01   24000.0     WD      1985-11-01   \n",
       "2   90100       100  2021-10-27  I  Q     01  750000.0     WD      1973-01-01   \n",
       "3   90100       100  1997-05-01  I  Q     01  169900.0     WD      1973-01-01   \n",
       "4  100000       100  1988-06-01  I  Q     01   52500.0     WD      1977-12-01   \n",
       "\n",
       "               SITE_ADDR  ...  BASE   ACREAGE      NBHC  MUNICIPALITY_CD  \\\n",
       "0         19859 ANGEL LN  ...  2016  5.058780  211007.0                U   \n",
       "1         19859 ANGEL LN  ...  2016  5.058780  211007.0                U   \n",
       "2         19913 ANGEL LN  ...  1973  4.438490  211007.0                U   \n",
       "3         19913 ANGEL LN  ...  1973  4.438490  211007.0                U   \n",
       "4  6934 W COUNTY LINE RD  ...  1994  0.992559  211007.0                U   \n",
       "\n",
       "   SECTION_CD  TOWNSHIP_CD  RANGE_CD  LAND_TYPE_ID  BLOCK_NUM  LOT_NUM  \n",
       "0           1           27        17           001     000000  00001.1  \n",
       "1           1           27        17           001     000000  00001.1  \n",
       "2           1           27        17           001     000000  00002.1  \n",
       "3           1           27        17           001     000000  00002.1  \n",
       "4           1           27        17           001     000000  00003.0  \n",
       "\n",
       "[5 rows x 39 columns]"
      ]
     },
     "execution_count": 3,
     "metadata": {},
     "output_type": "execute_result"
    }
   ],
   "source": [
    "sales_df = pd.read_csv(interim_data + 'sales_df.csv')\n",
    "sales_df.head()"
   ]
  },
  {
   "cell_type": "code",
   "execution_count": 4,
   "id": "79d8fb22",
   "metadata": {
    "scrolled": true
   },
   "outputs": [
    {
     "name": "stdout",
     "output_type": "stream",
     "text": [
      "<class 'pandas.core.frame.DataFrame'>\n",
      "RangeIndex: 847102 entries, 0 to 847101\n",
      "Data columns (total 39 columns):\n",
      " #   Column           Non-Null Count   Dtype  \n",
      "---  ------           --------------   -----  \n",
      " 0   FOLIO            847102 non-null  int64  \n",
      " 1   DOR_CODE         847102 non-null  int64  \n",
      " 2   S_DATE           847102 non-null  object \n",
      " 3   VI               847102 non-null  object \n",
      " 4   QU               847102 non-null  object \n",
      " 5   REA_CD           847102 non-null  object \n",
      " 6   S_AMT            847102 non-null  float64\n",
      " 7   S_TYPE           847102 non-null  object \n",
      " 8   ORIG_SALES_DATE  847102 non-null  object \n",
      " 9   SITE_ADDR        847013 non-null  object \n",
      " 10  SITE_CITY        847095 non-null  object \n",
      " 11  SITE_ZIP         847102 non-null  object \n",
      " 12  tBEDS            847102 non-null  float64\n",
      " 13  tBATHS           847102 non-null  float64\n",
      " 14  tSTORIES         847102 non-null  float64\n",
      " 15  tUNITS           847102 non-null  float64\n",
      " 16  tBLDGS           847102 non-null  float64\n",
      " 17  JUST             847102 non-null  float64\n",
      " 18  LAND             847102 non-null  float64\n",
      " 19  BLDG             847102 non-null  float64\n",
      " 20  EXF              847102 non-null  float64\n",
      " 21  ACT              847102 non-null  int64  \n",
      " 22  EFF              847102 non-null  int64  \n",
      " 23  HEAT_AR          847102 non-null  float64\n",
      " 24  ASD_VAL          847102 non-null  float64\n",
      " 25  TAX_VAL          847102 non-null  float64\n",
      " 26  SD1              847102 non-null  object \n",
      " 27  SD2              847102 non-null  object \n",
      " 28  TIF              847102 non-null  object \n",
      " 29  BASE             847102 non-null  int64  \n",
      " 30  ACREAGE          847102 non-null  float64\n",
      " 31  NBHC             847102 non-null  float64\n",
      " 32  MUNICIPALITY_CD  847102 non-null  object \n",
      " 33  SECTION_CD       847102 non-null  int64  \n",
      " 34  TOWNSHIP_CD      847102 non-null  int64  \n",
      " 35  RANGE_CD         847102 non-null  int64  \n",
      " 36  LAND_TYPE_ID     847102 non-null  object \n",
      " 37  BLOCK_NUM        847102 non-null  object \n",
      " 38  LOT_NUM          847102 non-null  object \n",
      "dtypes: float64(15), int64(8), object(16)\n",
      "memory usage: 252.1+ MB\n"
     ]
    }
   ],
   "source": [
    "sales_df.info()"
   ]
  },
  {
   "cell_type": "code",
   "execution_count": null,
   "id": "cf77cd0d",
   "metadata": {},
   "outputs": [],
   "source": [
    "sales_curr_df['NBHC'].astype(str).str[1:3].unique()"
   ]
  },
  {
   "cell_type": "code",
   "execution_count": null,
   "id": "41246dc3",
   "metadata": {},
   "outputs": [],
   "source": [
    "# sales_df['S_DATE_epoch'] = sales_df['S_DATE'] - datetime.datetime(1970,1,1)\n",
    "sales_df['S_DATE_epoch']  = sales_df['S_DATE'].apply(lambda x: (x - datetime.datetime(1970,1,1)).days)\n",
    "sales_df['S_DATE_epoch'].describe()"
   ]
  },
  {
   "cell_type": "code",
   "execution_count": null,
   "id": "b8580c42",
   "metadata": {},
   "outputs": [],
   "source": [
    "plt.subplots(figsize=(12,10))\n",
    "sns.heatmap(sales_df.corr());"
   ]
  },
  {
   "cell_type": "code",
   "execution_count": null,
   "id": "c25109f2",
   "metadata": {},
   "outputs": [],
   "source": [
    "sales_curr_df = sales_df[sales_df['S_DATE'] >= '2021-01-01']"
   ]
  },
  {
   "cell_type": "code",
   "execution_count": null,
   "id": "76884f39",
   "metadata": {},
   "outputs": [],
   "source": [
    "plt.subplots(figsize=(12,10))\n",
    "sns.heatmap(sales_curr_df.corr());"
   ]
  },
  {
   "cell_type": "markdown",
   "id": "b044b377",
   "metadata": {},
   "source": [
    "**S_AMT** is the sale price of the property.  This will be the target feature to predict."
   ]
  },
  {
   "cell_type": "code",
   "execution_count": null,
   "id": "1374042e",
   "metadata": {},
   "outputs": [],
   "source": [
    "print(sales_df['S_AMT'].describe().apply(lambda x: format(x, 'f')))"
   ]
  },
  {
   "cell_type": "code",
   "execution_count": null,
   "id": "299b3c60",
   "metadata": {},
   "outputs": [],
   "source": [
    "S_AMT_mean = sales_df['S_AMT'].mean()\n",
    "S_AMT_std = sales_df['S_AMT'].std()\n",
    "_ = plt.subplots(figsize=(15, 5))\n",
    "_ = plt.hist(data=sales_df, x='S_AMT', bins=[0, 100000, 200000, 300000, 400000, 500000, 1000000])\n",
    "_ = plt.xlabel('Sales Amount')\n",
    "_ = plt.ylabel('count')\n",
    "_ = plt.title('Distribution of Property Sale Amounts')\n",
    "_ = plt.ticklabel_format(useOffset=False, style='plain')\n",
    "_ = plt.axvline(S_AMT_mean, color='r')\n",
    "_ = plt.axvline(S_AMT_mean+S_AMT_std, color='r', linestyle='--')\n",
    "_ = plt.axvline(S_AMT_mean+(2*S_AMT_std), color='r', linestyle='-.')"
   ]
  },
  {
   "cell_type": "markdown",
   "id": "7e2a1644",
   "metadata": {},
   "source": [
    "**FOLIO** is a unique identifier for a property.  It will not impact the sales price and can be dropped from the analysis."
   ]
  },
  {
   "cell_type": "code",
   "execution_count": null,
   "id": "b5e99c08",
   "metadata": {},
   "outputs": [],
   "source": [
    "sales_df['FOLIO'].astype(str).describe()"
   ]
  },
  {
   "cell_type": "code",
   "execution_count": null,
   "id": "cdbd2e18",
   "metadata": {},
   "outputs": [],
   "source": [
    "sales_df.drop('FOLIO', axis=1, inplace=True)"
   ]
  },
  {
   "cell_type": "markdown",
   "id": "b0f064e7",
   "metadata": {},
   "source": [
    "**S_DATE** is the date of the sale.  Property sales increased sharply from the mid-1990's to the mid-2000's when the U.S. mortgage crisis crashed the housing market.  Over the 2010's the annual number of property sales increased to near the levels prior to the crash.  "
   ]
  },
  {
   "cell_type": "code",
   "execution_count": null,
   "id": "643b5c27",
   "metadata": {},
   "outputs": [],
   "source": [
    "sales_df['S_DATE'] = pd.to_datetime(sales_df['S_DATE'])"
   ]
  },
  {
   "cell_type": "code",
   "execution_count": null,
   "id": "87a73644",
   "metadata": {},
   "outputs": [],
   "source": [
    "plt.subplots(figsize=(15, 5))\n",
    "sns.countplot(x=sales_df['S_DATE'].dt.year)\n",
    "plt.xlabel('Year')\n",
    "plt.ylabel('Frequency')\n",
    "plt.xticks(rotation = 90)\n",
    "plt.title('Residential Property Sale Counts by Year')\n",
    "sns.despine()\n",
    "plt.show()"
   ]
  },
  {
   "cell_type": "code",
   "execution_count": null,
   "id": "db13a9e9",
   "metadata": {},
   "outputs": [],
   "source": [
    "plt.subplots(figsize=(15, 5))\n",
    "sales_df.groupby(sales_df['S_DATE'].dt.year)['S_AMT'].mean().plot()\n",
    "plt.xlabel('Year')\n",
    "plt.ylabel('Avg Sale Price')\n",
    "plt.title('Avg Sale Price per Year for Residential Homes')\n",
    "plt.show()"
   ]
  },
  {
   "cell_type": "code",
   "execution_count": null,
   "id": "4f823810",
   "metadata": {},
   "outputs": [],
   "source": [
    "#Plot relationship between Sales Date and Sales Price\n",
    "sns.jointplot(x='S_DATE', y='S_AMT', data=sales_df, kind=\"reg\");"
   ]
  },
  {
   "cell_type": "markdown",
   "id": "0bf290a9",
   "metadata": {},
   "source": [
    "**DOR Code** is the Department of Revenue Code which indicates the type of property (i.e. single family home, condo, commercial, etc.)  The data has already been filtered for the following residential property types.\n",
    "- 0100: Single Family Residential\n",
    "- 0102: Single family home built around a mobile home\n",
    "- 0106: Townhouse/Villa\n",
    "- 0200: Mobile Home\n",
    "- 0400: Condominium\n",
    "- 0408: Mobile Home Condominium\n",
    "- 0800: Multi-Family Residential (Duplex, Triplex, Quadplex, etc.) < 10 units\n",
    "- 0801: Multi-Family Residential (units individually owned)\n",
    "- 0802: Multi-Family Residential (units rentals)"
   ]
  },
  {
   "cell_type": "code",
   "execution_count": null,
   "id": "a25ba96a",
   "metadata": {},
   "outputs": [],
   "source": [
    "sales_df['DOR_CODE'].value_counts()"
   ]
  },
  {
   "cell_type": "code",
   "execution_count": null,
   "id": "aaa9318f",
   "metadata": {},
   "outputs": [],
   "source": [
    "sns.countplot(data=sales_df,\n",
    "              x='DOR_CODE')\n",
    "plt.xlabel('')\n",
    "plt.ylabel('Frequency')\n",
    "plt.title('Property Type Codes')\n",
    "sns.despine()\n",
    "plt.show()"
   ]
  },
  {
   "cell_type": "code",
   "execution_count": null,
   "id": "114e585e",
   "metadata": {},
   "outputs": [],
   "source": [
    "sns.swarmplot(data=sales_df,\n",
    "            x='DOR_CODE',\n",
    "            y='S_AMT')\n",
    "plt.xlabel('Property Type Code')\n",
    "plt.ylabel('Sales Price')\n",
    "sns.despine()\n",
    "plt.savefig('Sales Prices by Property Type')\n",
    "plt.show()"
   ]
  }
 ],
 "metadata": {
  "kernelspec": {
   "display_name": "Python 3 (ipykernel)",
   "language": "python",
   "name": "python3"
  },
  "language_info": {
   "codemirror_mode": {
    "name": "ipython",
    "version": 3
   },
   "file_extension": ".py",
   "mimetype": "text/x-python",
   "name": "python",
   "nbconvert_exporter": "python",
   "pygments_lexer": "ipython3",
   "version": "3.9.7"
  }
 },
 "nbformat": 4,
 "nbformat_minor": 5
}
