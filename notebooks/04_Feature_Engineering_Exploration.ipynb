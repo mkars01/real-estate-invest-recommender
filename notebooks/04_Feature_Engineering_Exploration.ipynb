{
 "cells": [
  {
   "cell_type": "markdown",
   "id": "944344d3",
   "metadata": {},
   "source": [
    "# Tampa Real-Estate Recommender\n",
    "## Feature Engineering\n",
    "TB Real Estate Corporation is a real estate investment firm in the Tampa Bay, Florida area.  The real estate market in the Tampa Bay area is very active.  Single family homes are selling quickly.  TB Real Estate Corporation needs to be able to assess the value of homes coming onto the market quickly and accurately so that they can beat the competition in making a competitive offer.   They need to be able to evaluate the listing price against the predicted sale price in order to identify properties that may be priced below market value and would make good investments.  \n",
    "<br>\n",
    "The objective of the Feature Engineering is to prepare the features and to build training and testing datasets to optimally support the machine learning models in order to predict the sales price for residential properties."
   ]
  },
  {
   "cell_type": "markdown",
   "id": "1b61dafe",
   "metadata": {},
   "source": [
    "# 1 Imports and File Locations<a id='1'></a>"
   ]
  },
  {
   "cell_type": "code",
   "execution_count": 1,
   "id": "d2b7f97e",
   "metadata": {},
   "outputs": [],
   "source": [
    "import pandas as pd\n",
    "import numpy as np\n",
    "import matplotlib.pyplot as plt\n",
    "import seaborn as sns\n",
    "import datetime as dt\n",
    "import category_encoders as ce"
   ]
  },
  {
   "cell_type": "code",
   "execution_count": 2,
   "id": "2180443d",
   "metadata": {},
   "outputs": [],
   "source": [
    "ext_data = '../data/external/'\n",
    "raw_data = '../data/raw/'\n",
    "interim_data = '../data/interim/'\n",
    "report_figures = '../reports/figures/'"
   ]
  },
  {
   "cell_type": "markdown",
   "id": "35253998",
   "metadata": {},
   "source": [
    "# 2 Read Sales data into dataframe<a id='2'></a>"
   ]
  },
  {
   "cell_type": "code",
   "execution_count": 3,
   "id": "1d4f4400",
   "metadata": {},
   "outputs": [
    {
     "name": "stderr",
     "output_type": "stream",
     "text": [
      "C:\\Users\\mkars\\AppData\\Local\\Temp\\ipykernel_23408\\1819962950.py:1: DtypeWarning: Columns (26,27,28,38) have mixed types. Specify dtype option on import or set low_memory=False.\n",
      "  df = pd.read_csv(interim_data + 'sales_df.csv', dtype={'FOLIO': object, 'DOR_CODE': object, 'NBHC': object, 'SECTION_CD': object, 'TOWNSHIP_CD': object, 'RANGE_CD': object}, parse_dates=['S_DATE'])\n"
     ]
    },
    {
     "name": "stdout",
     "output_type": "stream",
     "text": [
      "<class 'pandas.core.frame.DataFrame'>\n",
      "RangeIndex: 847102 entries, 0 to 847101\n",
      "Data columns (total 39 columns):\n",
      " #   Column           Non-Null Count   Dtype         \n",
      "---  ------           --------------   -----         \n",
      " 0   FOLIO            847102 non-null  object        \n",
      " 1   DOR_CODE         847102 non-null  object        \n",
      " 2   S_DATE           847102 non-null  datetime64[ns]\n",
      " 3   VI               847102 non-null  object        \n",
      " 4   QU               847102 non-null  object        \n",
      " 5   REA_CD           847102 non-null  object        \n",
      " 6   S_AMT            847102 non-null  float64       \n",
      " 7   S_TYPE           847102 non-null  object        \n",
      " 8   ORIG_SALES_DATE  847102 non-null  object        \n",
      " 9   SITE_ADDR        847013 non-null  object        \n",
      " 10  SITE_CITY        847095 non-null  object        \n",
      " 11  SITE_ZIP         847102 non-null  object        \n",
      " 12  tBEDS            847102 non-null  float64       \n",
      " 13  tBATHS           847102 non-null  float64       \n",
      " 14  tSTORIES         847102 non-null  float64       \n",
      " 15  tUNITS           847102 non-null  float64       \n",
      " 16  tBLDGS           847102 non-null  float64       \n",
      " 17  JUST             847102 non-null  float64       \n",
      " 18  LAND             847102 non-null  float64       \n",
      " 19  BLDG             847102 non-null  float64       \n",
      " 20  EXF              847102 non-null  float64       \n",
      " 21  ACT              847102 non-null  int64         \n",
      " 22  EFF              847102 non-null  int64         \n",
      " 23  HEAT_AR          847102 non-null  float64       \n",
      " 24  ASD_VAL          847102 non-null  float64       \n",
      " 25  TAX_VAL          847102 non-null  float64       \n",
      " 26  SD1              847102 non-null  object        \n",
      " 27  SD2              847102 non-null  object        \n",
      " 28  TIF              847102 non-null  object        \n",
      " 29  BASE             847102 non-null  int64         \n",
      " 30  ACREAGE          847102 non-null  float64       \n",
      " 31  NBHC             847102 non-null  object        \n",
      " 32  MUNICIPALITY_CD  847102 non-null  object        \n",
      " 33  SECTION_CD       847102 non-null  object        \n",
      " 34  TOWNSHIP_CD      847102 non-null  object        \n",
      " 35  RANGE_CD         847102 non-null  object        \n",
      " 36  LAND_TYPE_ID     847102 non-null  object        \n",
      " 37  BLOCK_NUM        847102 non-null  object        \n",
      " 38  LOT_NUM          847102 non-null  object        \n",
      "dtypes: datetime64[ns](1), float64(14), int64(3), object(21)\n",
      "memory usage: 252.1+ MB\n"
     ]
    }
   ],
   "source": [
    "df = pd.read_csv(interim_data + 'sales_df.csv', dtype={'FOLIO': object, 'DOR_CODE': object, 'NBHC': object, 'SECTION_CD': object, 'TOWNSHIP_CD': object, 'RANGE_CD': object}, parse_dates=['S_DATE'])\n",
    "df.info()"
   ]
  },
  {
   "cell_type": "markdown",
   "id": "8a1a5f47",
   "metadata": {},
   "source": [
    "# 3 Feature Engineering<a id='3'></a>"
   ]
  },
  {
   "cell_type": "code",
   "execution_count": 4,
   "id": "29b97fa5",
   "metadata": {},
   "outputs": [],
   "source": [
    "# Replace DOR_CODE with boolean for Single Family House\n",
    "df['single_family_house'] = np.where(df['DOR_CODE']=='0100',True,False)"
   ]
  },
  {
   "cell_type": "code",
   "execution_count": 5,
   "id": "2591c875",
   "metadata": {},
   "outputs": [],
   "source": [
    "# Replace S_DATE with integer sales date epoch\n",
    "df['sales_date_epoch'] = (df['S_DATE'] - dt.datetime(1970,1,1)).dt.days"
   ]
  },
  {
   "cell_type": "code",
   "execution_count": 6,
   "id": "4edf28d4",
   "metadata": {},
   "outputs": [],
   "source": [
    "# Replace VI with boolean for Improved vs.Vacant\n",
    "df['improved'] = np.where(df['VI']=='I',True,False)"
   ]
  },
  {
   "cell_type": "code",
   "execution_count": 7,
   "id": "337d2ac9",
   "metadata": {},
   "outputs": [],
   "source": [
    "# Calculate the age of the home in years\n",
    "df['age_of_home'] = df['S_DATE'].dt.year - df['ACT']"
   ]
  },
  {
   "cell_type": "code",
   "execution_count": 8,
   "id": "d8b77c4b",
   "metadata": {},
   "outputs": [
    {
     "name": "stderr",
     "output_type": "stream",
     "text": [
      "C:\\Users\\mkars\\AppData\\Local\\Temp\\ipykernel_23408\\2755763794.py:6: SettingWithCopyWarning: \n",
      "A value is trying to be set on a copy of a slice from a DataFrame\n",
      "\n",
      "See the caveats in the documentation: https://pandas.pydata.org/pandas-docs/stable/user_guide/indexing.html#returning-a-view-versus-a-copy\n",
      "  zip5[mask] = 'Other'\n"
     ]
    }
   ],
   "source": [
    "# Extract 5-digit zip codes and mask any that had less than 1000 sales\n",
    "df['zip5'] = df['SITE_ZIP'].astype(str).str[:5]\n",
    "zip5 = df.zip5\n",
    "zip_counts = df.zip5.value_counts()\n",
    "mask = zip5.isin(zip_counts[zip_counts < 1000].index)\n",
    "zip5[mask] = 'Other'"
   ]
  },
  {
   "cell_type": "code",
   "execution_count": 9,
   "id": "128a2aa8",
   "metadata": {},
   "outputs": [
    {
     "name": "stderr",
     "output_type": "stream",
     "text": [
      "C:\\Users\\mkars\\anaconda3\\lib\\site-packages\\category_encoders\\utils.py:21: FutureWarning: is_categorical is deprecated and will be removed in a future version. Use is_categorical_dtype instead.\n",
      "  elif pd.api.types.is_categorical(cols):\n"
     ]
    }
   ],
   "source": [
    "# Binary Encode zip5 values\n",
    "ce_binary = ce.BinaryEncoder(cols = ['zip5'])\n",
    "df = ce_binary.fit_transform(df)"
   ]
  },
  {
   "cell_type": "code",
   "execution_count": 10,
   "id": "5fd5d5a5",
   "metadata": {},
   "outputs": [
    {
     "data": {
      "text/html": [
       "<div>\n",
       "<style scoped>\n",
       "    .dataframe tbody tr th:only-of-type {\n",
       "        vertical-align: middle;\n",
       "    }\n",
       "\n",
       "    .dataframe tbody tr th {\n",
       "        vertical-align: top;\n",
       "    }\n",
       "\n",
       "    .dataframe thead th {\n",
       "        text-align: right;\n",
       "    }\n",
       "</style>\n",
       "<table border=\"1\" class=\"dataframe\">\n",
       "  <thead>\n",
       "    <tr style=\"text-align: right;\">\n",
       "      <th></th>\n",
       "      <th>zip5_0</th>\n",
       "      <th>zip5_1</th>\n",
       "      <th>zip5_2</th>\n",
       "      <th>zip5_3</th>\n",
       "      <th>zip5_4</th>\n",
       "      <th>zip5_5</th>\n",
       "      <th>zip5_6</th>\n",
       "      <th>SITE_ZIP</th>\n",
       "    </tr>\n",
       "  </thead>\n",
       "  <tbody>\n",
       "    <tr>\n",
       "      <th>0</th>\n",
       "      <td>0</td>\n",
       "      <td>0</td>\n",
       "      <td>0</td>\n",
       "      <td>0</td>\n",
       "      <td>0</td>\n",
       "      <td>0</td>\n",
       "      <td>1</td>\n",
       "      <td>33556</td>\n",
       "    </tr>\n",
       "    <tr>\n",
       "      <th>1</th>\n",
       "      <td>0</td>\n",
       "      <td>0</td>\n",
       "      <td>0</td>\n",
       "      <td>0</td>\n",
       "      <td>0</td>\n",
       "      <td>0</td>\n",
       "      <td>1</td>\n",
       "      <td>33556</td>\n",
       "    </tr>\n",
       "    <tr>\n",
       "      <th>2</th>\n",
       "      <td>0</td>\n",
       "      <td>0</td>\n",
       "      <td>0</td>\n",
       "      <td>0</td>\n",
       "      <td>0</td>\n",
       "      <td>0</td>\n",
       "      <td>1</td>\n",
       "      <td>33556</td>\n",
       "    </tr>\n",
       "    <tr>\n",
       "      <th>3</th>\n",
       "      <td>0</td>\n",
       "      <td>0</td>\n",
       "      <td>0</td>\n",
       "      <td>0</td>\n",
       "      <td>0</td>\n",
       "      <td>0</td>\n",
       "      <td>1</td>\n",
       "      <td>33556</td>\n",
       "    </tr>\n",
       "    <tr>\n",
       "      <th>4</th>\n",
       "      <td>0</td>\n",
       "      <td>0</td>\n",
       "      <td>0</td>\n",
       "      <td>0</td>\n",
       "      <td>0</td>\n",
       "      <td>0</td>\n",
       "      <td>1</td>\n",
       "      <td>33556</td>\n",
       "    </tr>\n",
       "  </tbody>\n",
       "</table>\n",
       "</div>"
      ],
      "text/plain": [
       "   zip5_0  zip5_1  zip5_2  zip5_3  zip5_4  zip5_5  zip5_6 SITE_ZIP\n",
       "0       0       0       0       0       0       0       1    33556\n",
       "1       0       0       0       0       0       0       1    33556\n",
       "2       0       0       0       0       0       0       1    33556\n",
       "3       0       0       0       0       0       0       1    33556\n",
       "4       0       0       0       0       0       0       1    33556"
      ]
     },
     "execution_count": 10,
     "metadata": {},
     "output_type": "execute_result"
    }
   ],
   "source": [
    "df[[i for i in df.columns if i.startswith('zip5')]+['SITE_ZIP']].head()"
   ]
  },
  {
   "cell_type": "code",
   "execution_count": 11,
   "id": "c7a93417",
   "metadata": {},
   "outputs": [],
   "source": [
    "# Bin and One-Hot Encode number of bedrooms\n",
    "bins = [-np.inf, 1.9, 2.9, 3.9, 4.9, 5.9, np.inf]\n",
    "labels = ['<2', '2', '3', '4', '5', '>5']\n",
    "df['bedrooms_binned'] = pd.cut(df['tBEDS'], bins=bins, labels=labels)\n",
    "df = pd.get_dummies(df, columns=['bedrooms_binned'], drop_first=True, prefix='BED')"
   ]
  },
  {
   "cell_type": "code",
   "execution_count": 12,
   "id": "5d621cee",
   "metadata": {},
   "outputs": [],
   "source": [
    "# Bin and One-Hot Encode number of bathrooms\n",
    "bins = [-np.inf, 0.9, 1.4, 1.9, 2.4, 2.9, 3.4, 3.9, 4.4, 4.9, 5.4, np.inf]\n",
    "labels = ['<1.0', '1.0', '1.5', '2.0', '2.5', '3.0', '3.5', '4.0', '4.5', '5.0', '>5.0']\n",
    "df['bathrooms_binned'] = pd.cut(df['tBATHS'], bins=bins, labels=labels)\n",
    "df = pd.get_dummies(df, columns=['bathrooms_binned'], drop_first=True, prefix='BATH')"
   ]
  },
  {
   "cell_type": "code",
   "execution_count": 13,
   "id": "0a55a8d8",
   "metadata": {},
   "outputs": [],
   "source": [
    "# Replace tSTORIES with boolean for Single Story vs. Multiple Stories\n",
    "df['single_story'] = np.where(df['tSTORIES']<2.0,True,False)"
   ]
  },
  {
   "cell_type": "code",
   "execution_count": 14,
   "id": "53615add",
   "metadata": {},
   "outputs": [],
   "source": [
    "# Replace tUNITS with boolean for Single Unit vs. Multiple Units\n",
    "df['single_unit'] = np.where(df['tUNITS']<2.0,True,False)"
   ]
  },
  {
   "cell_type": "code",
   "execution_count": 15,
   "id": "b8b1482f",
   "metadata": {},
   "outputs": [],
   "source": [
    "# Replace tBLDGS with boolean for Single Building vs. Multiple Buildings\n",
    "df['single_buidling'] = np.where(df['tBLDGS']<2.0,True,False)"
   ]
  },
  {
   "cell_type": "code",
   "execution_count": 16,
   "id": "2b04273b",
   "metadata": {},
   "outputs": [],
   "source": [
    "# Create Market Area and One-Hot Encode\n",
    "df['MARKET_AREA_CD'] = df['NBHC'].astype(str).str[1:3]\n",
    "df = pd.get_dummies(df, columns=['MARKET_AREA_CD'], drop_first=True, prefix='MKT')"
   ]
  },
  {
   "cell_type": "code",
   "execution_count": 17,
   "id": "217b9e5e",
   "metadata": {},
   "outputs": [
    {
     "name": "stderr",
     "output_type": "stream",
     "text": [
      "C:\\Users\\mkars\\anaconda3\\lib\\site-packages\\category_encoders\\utils.py:21: FutureWarning: is_categorical is deprecated and will be removed in a future version. Use is_categorical_dtype instead.\n",
      "  elif pd.api.types.is_categorical(cols):\n"
     ]
    }
   ],
   "source": [
    "# Binary Encode neighborhood code values\n",
    "ce_binary = ce.BinaryEncoder(cols = ['NBHC'])\n",
    "df = ce_binary.fit_transform(df)"
   ]
  },
  {
   "cell_type": "code",
   "execution_count": 18,
   "id": "90b723f4",
   "metadata": {},
   "outputs": [],
   "source": [
    "# Convert Municipality Codes to Names and One-Hot Encode\n",
    "df['MUNICIPALITY_CD'].replace({'A': 'Tampa', 'T': 'Temple Terrace', 'P': 'Plant City', 'U': 'Unincorporated'}, inplace=True)\n",
    "df = pd.get_dummies(df, columns=['MUNICIPALITY_CD'], drop_first=True, prefix='CITY')"
   ]
  },
  {
   "cell_type": "code",
   "execution_count": 19,
   "id": "bc0ad47c",
   "metadata": {},
   "outputs": [],
   "source": [
    "# Convert Township and Range Codes to single value\n",
    "df['TOWNSHIP_RANGE'] = (df['RANGE_CD'].astype(int) - 16) + ((df['TOWNSHIP_CD'].astype(int) - 27)*6)"
   ]
  },
  {
   "cell_type": "code",
   "execution_count": 20,
   "id": "dc67339c",
   "metadata": {},
   "outputs": [],
   "source": [
    "# Convert Section Codes to unique values across all Township/Ranges\n",
    "df['SECTION_CD'] = df['SECTION_CD'] * df['TOWNSHIP_RANGE']"
   ]
  },
  {
   "cell_type": "code",
   "execution_count": 21,
   "id": "af1480d5",
   "metadata": {},
   "outputs": [],
   "source": [
    "# One-Hot Encode Township - Range\n",
    "df = pd.get_dummies(df, columns=['TOWNSHIP_RANGE'], drop_first=True, prefix='TR')"
   ]
  },
  {
   "cell_type": "code",
   "execution_count": 22,
   "id": "35af9fbb",
   "metadata": {},
   "outputs": [
    {
     "name": "stderr",
     "output_type": "stream",
     "text": [
      "C:\\Users\\mkars\\anaconda3\\lib\\site-packages\\category_encoders\\utils.py:21: FutureWarning: is_categorical is deprecated and will be removed in a future version. Use is_categorical_dtype instead.\n",
      "  elif pd.api.types.is_categorical(cols):\n"
     ]
    }
   ],
   "source": [
    "# Binary Encode Section Code values\n",
    "ce_binary = ce.BinaryEncoder(cols = ['SECTION_CD'])\n",
    "df = ce_binary.fit_transform(df)"
   ]
  },
  {
   "cell_type": "code",
   "execution_count": 23,
   "id": "27602a16",
   "metadata": {},
   "outputs": [],
   "source": [
    "# Create boolean for planned community (platted land) where Land Type ID is not 'ZZZ'\n",
    "df['planned_community'] = np.where(df['LAND_TYPE_ID']!='ZZZ',True,False)"
   ]
  },
  {
   "cell_type": "markdown",
   "id": "707845ad",
   "metadata": {},
   "source": [
    "# 4 Create Training and Testing Datasets<a id='4'></a>"
   ]
  },
  {
   "cell_type": "code",
   "execution_count": 24,
   "id": "8ffdf85f",
   "metadata": {
    "scrolled": false
   },
   "outputs": [
    {
     "name": "stdout",
     "output_type": "stream",
     "text": [
      "<class 'pandas.core.frame.DataFrame'>\n",
      "RangeIndex: 847102 entries, 0 to 847101\n",
      "Data columns (total 150 columns):\n",
      " #    Column               Dtype         \n",
      "---   ------               -----         \n",
      " 0    FOLIO                object        \n",
      " 1    DOR_CODE             object        \n",
      " 2    S_DATE               datetime64[ns]\n",
      " 3    VI                   object        \n",
      " 4    QU                   object        \n",
      " 5    REA_CD               object        \n",
      " 6    S_AMT                float64       \n",
      " 7    S_TYPE               object        \n",
      " 8    ORIG_SALES_DATE      object        \n",
      " 9    SITE_ADDR            object        \n",
      " 10   SITE_CITY            object        \n",
      " 11   SITE_ZIP             object        \n",
      " 12   tBEDS                float64       \n",
      " 13   tBATHS               float64       \n",
      " 14   tSTORIES             float64       \n",
      " 15   tUNITS               float64       \n",
      " 16   tBLDGS               float64       \n",
      " 17   JUST                 float64       \n",
      " 18   LAND                 float64       \n",
      " 19   BLDG                 float64       \n",
      " 20   EXF                  float64       \n",
      " 21   ACT                  int64         \n",
      " 22   EFF                  int64         \n",
      " 23   HEAT_AR              float64       \n",
      " 24   ASD_VAL              float64       \n",
      " 25   TAX_VAL              float64       \n",
      " 26   SD1                  object        \n",
      " 27   SD2                  object        \n",
      " 28   TIF                  object        \n",
      " 29   BASE                 int64         \n",
      " 30   ACREAGE              float64       \n",
      " 31   NBHC_0               int64         \n",
      " 32   NBHC_1               int64         \n",
      " 33   NBHC_2               int64         \n",
      " 34   NBHC_3               int64         \n",
      " 35   NBHC_4               int64         \n",
      " 36   NBHC_5               int64         \n",
      " 37   NBHC_6               int64         \n",
      " 38   NBHC_7               int64         \n",
      " 39   NBHC_8               int64         \n",
      " 40   NBHC_9               int64         \n",
      " 41   SECTION_CD_0         int64         \n",
      " 42   SECTION_CD_1         int64         \n",
      " 43   SECTION_CD_2         int64         \n",
      " 44   SECTION_CD_3         int64         \n",
      " 45   SECTION_CD_4         int64         \n",
      " 46   SECTION_CD_5         int64         \n",
      " 47   SECTION_CD_6         int64         \n",
      " 48   SECTION_CD_7         int64         \n",
      " 49   SECTION_CD_8         int64         \n",
      " 50   SECTION_CD_9         int64         \n",
      " 51   SECTION_CD_10        int64         \n",
      " 52   TOWNSHIP_CD          object        \n",
      " 53   RANGE_CD             object        \n",
      " 54   LAND_TYPE_ID         object        \n",
      " 55   BLOCK_NUM            object        \n",
      " 56   LOT_NUM              object        \n",
      " 57   single_family_house  bool          \n",
      " 58   sales_date_epoch     int64         \n",
      " 59   improved             bool          \n",
      " 60   age_of_home          int64         \n",
      " 61   zip5_0               int64         \n",
      " 62   zip5_1               int64         \n",
      " 63   zip5_2               int64         \n",
      " 64   zip5_3               int64         \n",
      " 65   zip5_4               int64         \n",
      " 66   zip5_5               int64         \n",
      " 67   zip5_6               int64         \n",
      " 68   BED_2                uint8         \n",
      " 69   BED_3                uint8         \n",
      " 70   BED_4                uint8         \n",
      " 71   BED_5                uint8         \n",
      " 72   BED_>5               uint8         \n",
      " 73   BATH_1.0             uint8         \n",
      " 74   BATH_1.5             uint8         \n",
      " 75   BATH_2.0             uint8         \n",
      " 76   BATH_2.5             uint8         \n",
      " 77   BATH_3.0             uint8         \n",
      " 78   BATH_3.5             uint8         \n",
      " 79   BATH_4.0             uint8         \n",
      " 80   BATH_4.5             uint8         \n",
      " 81   BATH_5.0             uint8         \n",
      " 82   BATH_>5.0            uint8         \n",
      " 83   single_story         bool          \n",
      " 84   single_unit          bool          \n",
      " 85   single_buidling      bool          \n",
      " 86   MKT_02               uint8         \n",
      " 87   MKT_03               uint8         \n",
      " 88   MKT_04               uint8         \n",
      " 89   MKT_05               uint8         \n",
      " 90   MKT_06               uint8         \n",
      " 91   MKT_07               uint8         \n",
      " 92   MKT_08               uint8         \n",
      " 93   MKT_09               uint8         \n",
      " 94   MKT_10               uint8         \n",
      " 95   MKT_11               uint8         \n",
      " 96   MKT_12               uint8         \n",
      " 97   MKT_13               uint8         \n",
      " 98   MKT_14               uint8         \n",
      " 99   MKT_15               uint8         \n",
      " 100  MKT_16               uint8         \n",
      " 101  MKT_17               uint8         \n",
      " 102  MKT_18               uint8         \n",
      " 103  MKT_19               uint8         \n",
      " 104  MKT_20               uint8         \n",
      " 105  MKT_21               uint8         \n",
      " 106  MKT_22               uint8         \n",
      " 107  MKT_23               uint8         \n",
      " 108  MKT_24               uint8         \n",
      " 109  MKT_25               uint8         \n",
      " 110  MKT_26               uint8         \n",
      " 111  MKT_27               uint8         \n",
      " 112  MKT_28               uint8         \n",
      " 113  MKT_29               uint8         \n",
      " 114  CITY_Tampa           uint8         \n",
      " 115  CITY_Temple Terrace  uint8         \n",
      " 116  CITY_Unincorporated  uint8         \n",
      " 117  TR_2                 uint8         \n",
      " 118  TR_3                 uint8         \n",
      " 119  TR_4                 uint8         \n",
      " 120  TR_5                 uint8         \n",
      " 121  TR_6                 uint8         \n",
      " 122  TR_7                 uint8         \n",
      " 123  TR_8                 uint8         \n",
      " 124  TR_9                 uint8         \n",
      " 125  TR_10                uint8         \n",
      " 126  TR_11                uint8         \n",
      " 127  TR_12                uint8         \n",
      " 128  TR_13                uint8         \n",
      " 129  TR_14                uint8         \n",
      " 130  TR_15                uint8         \n",
      " 131  TR_16                uint8         \n",
      " 132  TR_17                uint8         \n",
      " 133  TR_18                uint8         \n",
      " 134  TR_20                uint8         \n",
      " 135  TR_21                uint8         \n",
      " 136  TR_22                uint8         \n",
      " 137  TR_23                uint8         \n",
      " 138  TR_24                uint8         \n",
      " 139  TR_26                uint8         \n",
      " 140  TR_27                uint8         \n",
      " 141  TR_28                uint8         \n",
      " 142  TR_29                uint8         \n",
      " 143  TR_30                uint8         \n",
      " 144  TR_32                uint8         \n",
      " 145  TR_33                uint8         \n",
      " 146  TR_34                uint8         \n",
      " 147  TR_35                uint8         \n",
      " 148  TR_36                uint8         \n",
      " 149  planned_community    bool          \n",
      "dtypes: bool(6), datetime64[ns](1), float64(14), int64(33), object(18), uint8(78)\n",
      "memory usage: 494.4+ MB\n"
     ]
    }
   ],
   "source": [
    "df.info(verbose=True)"
   ]
  },
  {
   "cell_type": "code",
   "execution_count": 25,
   "id": "1d10e267",
   "metadata": {},
   "outputs": [],
   "source": [
    "y = df[['S_AMT']].copy()"
   ]
  },
  {
   "cell_type": "code",
   "execution_count": 27,
   "id": "9404c67c",
   "metadata": {},
   "outputs": [],
   "source": [
    "drop_cols = ['S_AMT', 'FOLIO', 'DOR_CODE', 'S_DATE', 'VI', 'QU', 'REA_CD', 'S_TYPE', 'ORIG_SALES_DATE', 'SITE_ADDR', \n",
    "             'SITE_CITY', 'SITE_ZIP', 'tBEDS', 'tBATHS', 'tSTORIES', 'tUNITS', 'tBLDGS', 'ACT', 'EFF', 'SD1', 'SD2', \n",
    "             'TIF', 'BASE', 'TOWNSHIP_CD', 'RANGE_CD', 'LAND_TYPE_ID', 'BLOCK_NUM', 'LOT_NUM']\n",
    "X = df.drop(drop_cols, axis=1)"
   ]
  },
  {
   "cell_type": "code",
   "execution_count": 28,
   "id": "d8e973a4",
   "metadata": {},
   "outputs": [
    {
     "name": "stdout",
     "output_type": "stream",
     "text": [
      "<class 'pandas.core.frame.DataFrame'>\n",
      "RangeIndex: 847102 entries, 0 to 847101\n",
      "Data columns (total 122 columns):\n",
      " #    Column               Dtype  \n",
      "---   ------               -----  \n",
      " 0    JUST                 float64\n",
      " 1    LAND                 float64\n",
      " 2    BLDG                 float64\n",
      " 3    EXF                  float64\n",
      " 4    HEAT_AR              float64\n",
      " 5    ASD_VAL              float64\n",
      " 6    TAX_VAL              float64\n",
      " 7    ACREAGE              float64\n",
      " 8    NBHC_0               int64  \n",
      " 9    NBHC_1               int64  \n",
      " 10   NBHC_2               int64  \n",
      " 11   NBHC_3               int64  \n",
      " 12   NBHC_4               int64  \n",
      " 13   NBHC_5               int64  \n",
      " 14   NBHC_6               int64  \n",
      " 15   NBHC_7               int64  \n",
      " 16   NBHC_8               int64  \n",
      " 17   NBHC_9               int64  \n",
      " 18   SECTION_CD_0         int64  \n",
      " 19   SECTION_CD_1         int64  \n",
      " 20   SECTION_CD_2         int64  \n",
      " 21   SECTION_CD_3         int64  \n",
      " 22   SECTION_CD_4         int64  \n",
      " 23   SECTION_CD_5         int64  \n",
      " 24   SECTION_CD_6         int64  \n",
      " 25   SECTION_CD_7         int64  \n",
      " 26   SECTION_CD_8         int64  \n",
      " 27   SECTION_CD_9         int64  \n",
      " 28   SECTION_CD_10        int64  \n",
      " 29   single_family_house  bool   \n",
      " 30   sales_date_epoch     int64  \n",
      " 31   improved             bool   \n",
      " 32   age_of_home          int64  \n",
      " 33   zip5_0               int64  \n",
      " 34   zip5_1               int64  \n",
      " 35   zip5_2               int64  \n",
      " 36   zip5_3               int64  \n",
      " 37   zip5_4               int64  \n",
      " 38   zip5_5               int64  \n",
      " 39   zip5_6               int64  \n",
      " 40   BED_2                uint8  \n",
      " 41   BED_3                uint8  \n",
      " 42   BED_4                uint8  \n",
      " 43   BED_5                uint8  \n",
      " 44   BED_>5               uint8  \n",
      " 45   BATH_1.0             uint8  \n",
      " 46   BATH_1.5             uint8  \n",
      " 47   BATH_2.0             uint8  \n",
      " 48   BATH_2.5             uint8  \n",
      " 49   BATH_3.0             uint8  \n",
      " 50   BATH_3.5             uint8  \n",
      " 51   BATH_4.0             uint8  \n",
      " 52   BATH_4.5             uint8  \n",
      " 53   BATH_5.0             uint8  \n",
      " 54   BATH_>5.0            uint8  \n",
      " 55   single_story         bool   \n",
      " 56   single_unit          bool   \n",
      " 57   single_buidling      bool   \n",
      " 58   MKT_02               uint8  \n",
      " 59   MKT_03               uint8  \n",
      " 60   MKT_04               uint8  \n",
      " 61   MKT_05               uint8  \n",
      " 62   MKT_06               uint8  \n",
      " 63   MKT_07               uint8  \n",
      " 64   MKT_08               uint8  \n",
      " 65   MKT_09               uint8  \n",
      " 66   MKT_10               uint8  \n",
      " 67   MKT_11               uint8  \n",
      " 68   MKT_12               uint8  \n",
      " 69   MKT_13               uint8  \n",
      " 70   MKT_14               uint8  \n",
      " 71   MKT_15               uint8  \n",
      " 72   MKT_16               uint8  \n",
      " 73   MKT_17               uint8  \n",
      " 74   MKT_18               uint8  \n",
      " 75   MKT_19               uint8  \n",
      " 76   MKT_20               uint8  \n",
      " 77   MKT_21               uint8  \n",
      " 78   MKT_22               uint8  \n",
      " 79   MKT_23               uint8  \n",
      " 80   MKT_24               uint8  \n",
      " 81   MKT_25               uint8  \n",
      " 82   MKT_26               uint8  \n",
      " 83   MKT_27               uint8  \n",
      " 84   MKT_28               uint8  \n",
      " 85   MKT_29               uint8  \n",
      " 86   CITY_Tampa           uint8  \n",
      " 87   CITY_Temple Terrace  uint8  \n",
      " 88   CITY_Unincorporated  uint8  \n",
      " 89   TR_2                 uint8  \n",
      " 90   TR_3                 uint8  \n",
      " 91   TR_4                 uint8  \n",
      " 92   TR_5                 uint8  \n",
      " 93   TR_6                 uint8  \n",
      " 94   TR_7                 uint8  \n",
      " 95   TR_8                 uint8  \n",
      " 96   TR_9                 uint8  \n",
      " 97   TR_10                uint8  \n",
      " 98   TR_11                uint8  \n",
      " 99   TR_12                uint8  \n",
      " 100  TR_13                uint8  \n",
      " 101  TR_14                uint8  \n",
      " 102  TR_15                uint8  \n",
      " 103  TR_16                uint8  \n",
      " 104  TR_17                uint8  \n",
      " 105  TR_18                uint8  \n",
      " 106  TR_20                uint8  \n",
      " 107  TR_21                uint8  \n",
      " 108  TR_22                uint8  \n",
      " 109  TR_23                uint8  \n",
      " 110  TR_24                uint8  \n",
      " 111  TR_26                uint8  \n",
      " 112  TR_27                uint8  \n",
      " 113  TR_28                uint8  \n",
      " 114  TR_29                uint8  \n",
      " 115  TR_30                uint8  \n",
      " 116  TR_32                uint8  \n",
      " 117  TR_33                uint8  \n",
      " 118  TR_34                uint8  \n",
      " 119  TR_35                uint8  \n",
      " 120  TR_36                uint8  \n",
      " 121  planned_community    bool   \n",
      "dtypes: bool(6), float64(8), int64(30), uint8(78)\n",
      "memory usage: 313.4 MB\n"
     ]
    }
   ],
   "source": [
    "X.info(verbose=True)"
   ]
  }
 ],
 "metadata": {
  "kernelspec": {
   "display_name": "Python 3 (ipykernel)",
   "language": "python",
   "name": "python3"
  },
  "language_info": {
   "codemirror_mode": {
    "name": "ipython",
    "version": 3
   },
   "file_extension": ".py",
   "mimetype": "text/x-python",
   "name": "python",
   "nbconvert_exporter": "python",
   "pygments_lexer": "ipython3",
   "version": "3.9.7"
  }
 },
 "nbformat": 4,
 "nbformat_minor": 5
}
